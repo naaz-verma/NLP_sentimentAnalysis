{
  "cells": [
    {
      "cell_type": "code",
      "execution_count": null,
      "metadata": {
        "id": "rkTkDYYZ5uu5",
        "colab": {
          "base_uri": "https://localhost:8080/"
        },
        "outputId": "2da973a2-e316-4941-d8dc-d081db2997ab"
      },
      "outputs": [
        {
          "output_type": "stream",
          "name": "stdout",
          "text": [
            "[nltk_data] Downloading package punkt to /root/nltk_data...\n",
            "[nltk_data]   Package punkt is already up-to-date!\n",
            "[nltk_data] Downloading package averaged_perceptron_tagger to\n",
            "[nltk_data]     /root/nltk_data...\n",
            "[nltk_data]   Package averaged_perceptron_tagger is already up-to-\n",
            "[nltk_data]       date!\n",
            "[nltk_data] Downloading package wordnet to /root/nltk_data...\n",
            "[nltk_data]   Package wordnet is already up-to-date!\n"
          ]
        }
      ],
      "source": [
        "import numpy as np\n",
        "import pandas as pd\n",
        "import matplotlib.pyplot as plt\n",
        "import re\n",
        "import sys\n",
        "from nltk.tokenize import word_tokenize\n",
        "import nltk\n",
        "nltk.download('punkt')\n",
        "import nltk.tag\n",
        "from nltk import pos_tag\n",
        "nltk.download('averaged_perceptron_tagger')\n",
        "import nltk\n",
        "nltk.download('wordnet') \n",
        "from sklearn.feature_extraction.text import TfidfVectorizer\n",
        "\n",
        "from sklearn import svm\n",
        "from sklearn.metrics import classification_report\n",
        "from sklearn.naive_bayes import MultinomialNB\n",
        "from sklearn.linear_model import LogisticRegression\n",
        "from sklearn.ensemble import RandomForestClassifier\n",
        "from sklearn.pipeline import Pipeline\n",
        "from sklearn.naive_bayes import MultinomialNB\n",
        "from sklearn.feature_extraction.text import CountVectorizer, TfidfTransformer\n",
        "from sklearn.model_selection import GridSearchCV\n",
        "from sklearn.model_selection import train_test_split\n",
        "\n",
        "from sklearn.preprocessing import LabelEncoder\n",
        "from keras.preprocessing.text import Tokenizer\n",
        "from keras.preprocessing.sequence import pad_sequences\n",
        "import keras\n",
        "from sklearn.metrics import classification_report\n",
        "from sklearn.metrics import accuracy_score\n",
        "import math\n",
        "\n",
        "from numpy import array\n",
        "from keras.preprocessing.text import one_hot\n",
        "from keras.models import Sequential\n",
        "from keras.layers.core import Activation, Dropout, Dense\n",
        "from keras.layers import Flatten, LSTM\n",
        "from keras.layers import GlobalMaxPooling1D\n",
        "from keras.models import Model\n",
        "from keras.layers.embeddings import Embedding\n",
        "from keras.layers import Input\n",
        "from keras.layers.merge import Concatenate"
      ]
    },
    {
      "cell_type": "code",
      "execution_count": null,
      "metadata": {
        "id": "8uOJOmMs-2jh"
      },
      "outputs": [],
      "source": [
        "text_with_0_1=pd.read_csv('/content/drive/MyDrive/NLP_dataset/Train.csv')\n",
        "\n",
        "anxious_texts=pd.read_csv('/content/drive/MyDrive/NLP_dataset/Anxious_Tweets.csv')\n",
        "lonely_texts=pd.read_csv('/content/drive/MyDrive/NLP_dataset/Lonely_Tweets.csv')\n",
        "normal_texts=pd.read_csv('/content/drive/MyDrive/NLP_dataset/Normal_Tweets.csv')\n",
        "stressed_texts=pd.read_csv('/content/drive/MyDrive/NLP_dataset/Stressed_Tweets.csv')"
      ]
    },
    {
      "cell_type": "code",
      "execution_count": null,
      "metadata": {
        "colab": {
          "base_uri": "https://localhost:8080/",
          "height": 206
        },
        "id": "yena43tAAfJ_",
        "outputId": "c10d40dd-eebc-425e-bbb8-eeacbd851489"
      },
      "outputs": [
        {
          "output_type": "execute_result",
          "data": {
            "text/plain": [
              "                                                text  label\n",
              "0  I grew up (b. 1965) watching and loving the Th...      0\n",
              "1  When I put this movie in my DVD player, and sa...      0\n",
              "2  Why do people who do not know what a particula...      0\n",
              "3  Even though I have great interest in Biblical ...      0\n",
              "4  Im a die hard Dads Army fan and nothing will e...      1"
            ],
            "text/html": [
              "\n",
              "  <div id=\"df-e290272f-fc7e-4f79-a365-a18ef0082474\">\n",
              "    <div class=\"colab-df-container\">\n",
              "      <div>\n",
              "<style scoped>\n",
              "    .dataframe tbody tr th:only-of-type {\n",
              "        vertical-align: middle;\n",
              "    }\n",
              "\n",
              "    .dataframe tbody tr th {\n",
              "        vertical-align: top;\n",
              "    }\n",
              "\n",
              "    .dataframe thead th {\n",
              "        text-align: right;\n",
              "    }\n",
              "</style>\n",
              "<table border=\"1\" class=\"dataframe\">\n",
              "  <thead>\n",
              "    <tr style=\"text-align: right;\">\n",
              "      <th></th>\n",
              "      <th>text</th>\n",
              "      <th>label</th>\n",
              "    </tr>\n",
              "  </thead>\n",
              "  <tbody>\n",
              "    <tr>\n",
              "      <th>0</th>\n",
              "      <td>I grew up (b. 1965) watching and loving the Th...</td>\n",
              "      <td>0</td>\n",
              "    </tr>\n",
              "    <tr>\n",
              "      <th>1</th>\n",
              "      <td>When I put this movie in my DVD player, and sa...</td>\n",
              "      <td>0</td>\n",
              "    </tr>\n",
              "    <tr>\n",
              "      <th>2</th>\n",
              "      <td>Why do people who do not know what a particula...</td>\n",
              "      <td>0</td>\n",
              "    </tr>\n",
              "    <tr>\n",
              "      <th>3</th>\n",
              "      <td>Even though I have great interest in Biblical ...</td>\n",
              "      <td>0</td>\n",
              "    </tr>\n",
              "    <tr>\n",
              "      <th>4</th>\n",
              "      <td>Im a die hard Dads Army fan and nothing will e...</td>\n",
              "      <td>1</td>\n",
              "    </tr>\n",
              "  </tbody>\n",
              "</table>\n",
              "</div>\n",
              "      <button class=\"colab-df-convert\" onclick=\"convertToInteractive('df-e290272f-fc7e-4f79-a365-a18ef0082474')\"\n",
              "              title=\"Convert this dataframe to an interactive table.\"\n",
              "              style=\"display:none;\">\n",
              "        \n",
              "  <svg xmlns=\"http://www.w3.org/2000/svg\" height=\"24px\"viewBox=\"0 0 24 24\"\n",
              "       width=\"24px\">\n",
              "    <path d=\"M0 0h24v24H0V0z\" fill=\"none\"/>\n",
              "    <path d=\"M18.56 5.44l.94 2.06.94-2.06 2.06-.94-2.06-.94-.94-2.06-.94 2.06-2.06.94zm-11 1L8.5 8.5l.94-2.06 2.06-.94-2.06-.94L8.5 2.5l-.94 2.06-2.06.94zm10 10l.94 2.06.94-2.06 2.06-.94-2.06-.94-.94-2.06-.94 2.06-2.06.94z\"/><path d=\"M17.41 7.96l-1.37-1.37c-.4-.4-.92-.59-1.43-.59-.52 0-1.04.2-1.43.59L10.3 9.45l-7.72 7.72c-.78.78-.78 2.05 0 2.83L4 21.41c.39.39.9.59 1.41.59.51 0 1.02-.2 1.41-.59l7.78-7.78 2.81-2.81c.8-.78.8-2.07 0-2.86zM5.41 20L4 18.59l7.72-7.72 1.47 1.35L5.41 20z\"/>\n",
              "  </svg>\n",
              "      </button>\n",
              "      \n",
              "  <style>\n",
              "    .colab-df-container {\n",
              "      display:flex;\n",
              "      flex-wrap:wrap;\n",
              "      gap: 12px;\n",
              "    }\n",
              "\n",
              "    .colab-df-convert {\n",
              "      background-color: #E8F0FE;\n",
              "      border: none;\n",
              "      border-radius: 50%;\n",
              "      cursor: pointer;\n",
              "      display: none;\n",
              "      fill: #1967D2;\n",
              "      height: 32px;\n",
              "      padding: 0 0 0 0;\n",
              "      width: 32px;\n",
              "    }\n",
              "\n",
              "    .colab-df-convert:hover {\n",
              "      background-color: #E2EBFA;\n",
              "      box-shadow: 0px 1px 2px rgba(60, 64, 67, 0.3), 0px 1px 3px 1px rgba(60, 64, 67, 0.15);\n",
              "      fill: #174EA6;\n",
              "    }\n",
              "\n",
              "    [theme=dark] .colab-df-convert {\n",
              "      background-color: #3B4455;\n",
              "      fill: #D2E3FC;\n",
              "    }\n",
              "\n",
              "    [theme=dark] .colab-df-convert:hover {\n",
              "      background-color: #434B5C;\n",
              "      box-shadow: 0px 1px 3px 1px rgba(0, 0, 0, 0.15);\n",
              "      filter: drop-shadow(0px 1px 2px rgba(0, 0, 0, 0.3));\n",
              "      fill: #FFFFFF;\n",
              "    }\n",
              "  </style>\n",
              "\n",
              "      <script>\n",
              "        const buttonEl =\n",
              "          document.querySelector('#df-e290272f-fc7e-4f79-a365-a18ef0082474 button.colab-df-convert');\n",
              "        buttonEl.style.display =\n",
              "          google.colab.kernel.accessAllowed ? 'block' : 'none';\n",
              "\n",
              "        async function convertToInteractive(key) {\n",
              "          const element = document.querySelector('#df-e290272f-fc7e-4f79-a365-a18ef0082474');\n",
              "          const dataTable =\n",
              "            await google.colab.kernel.invokeFunction('convertToInteractive',\n",
              "                                                     [key], {});\n",
              "          if (!dataTable) return;\n",
              "\n",
              "          const docLinkHtml = 'Like what you see? Visit the ' +\n",
              "            '<a target=\"_blank\" href=https://colab.research.google.com/notebooks/data_table.ipynb>data table notebook</a>'\n",
              "            + ' to learn more about interactive tables.';\n",
              "          element.innerHTML = '';\n",
              "          dataTable['output_type'] = 'display_data';\n",
              "          await google.colab.output.renderOutput(dataTable, element);\n",
              "          const docLink = document.createElement('div');\n",
              "          docLink.innerHTML = docLinkHtml;\n",
              "          element.appendChild(docLink);\n",
              "        }\n",
              "      </script>\n",
              "    </div>\n",
              "  </div>\n",
              "  "
            ]
          },
          "metadata": {},
          "execution_count": 385
        }
      ],
      "source": [
        "text_with_0_1.head()"
      ]
    },
    {
      "cell_type": "code",
      "execution_count": null,
      "metadata": {
        "colab": {
          "base_uri": "https://localhost:8080/"
        },
        "id": "vS-4Ql39-Weg",
        "outputId": "ac86641a-ef48-48d3-d20d-8015b9ecdbb7"
      },
      "outputs": [
        {
          "output_type": "execute_result",
          "data": {
            "text/plain": [
              "(40000, 2)"
            ]
          },
          "metadata": {},
          "execution_count": 386
        }
      ],
      "source": [
        "text_with_0_1.shape"
      ]
    },
    {
      "cell_type": "code",
      "execution_count": null,
      "metadata": {
        "colab": {
          "base_uri": "https://localhost:8080/"
        },
        "id": "-9SuZ3MFrgUZ",
        "outputId": "7b3fd583-615b-4a8d-c169-333b78b6452d"
      },
      "outputs": [
        {
          "output_type": "stream",
          "name": "stderr",
          "text": [
            "/usr/local/lib/python3.7/dist-packages/ipykernel_launcher.py:2: SettingWithCopyWarning: \n",
            "A value is trying to be set on a copy of a slice from a DataFrame\n",
            "\n",
            "See the caveats in the documentation: https://pandas.pydata.org/pandas-docs/stable/user_guide/indexing.html#returning-a-view-versus-a-copy\n",
            "  \n"
          ]
        }
      ],
      "source": [
        "for i in range(len(text_with_0_1['text'])):\n",
        "  text_with_0_1['text'][i]=text_with_0_1['text'][i].lower()\n",
        "  re.sub('[^A-Za-z0-9]+', '', text_with_0_1['text'][i])"
      ]
    },
    {
      "cell_type": "code",
      "execution_count": null,
      "metadata": {
        "colab": {
          "base_uri": "https://localhost:8080/",
          "height": 206
        },
        "id": "2QgkPNJjru24",
        "outputId": "05a7fb94-4b85-4979-bc68-b3c5661a8a85"
      },
      "outputs": [
        {
          "output_type": "execute_result",
          "data": {
            "text/plain": [
              "                                                text  label\n",
              "0  i grew up (b. 1965) watching and loving the th...      0\n",
              "1  when i put this movie in my dvd player, and sa...      0\n",
              "2  why do people who do not know what a particula...      0\n",
              "3  even though i have great interest in biblical ...      0\n",
              "4  im a die hard dads army fan and nothing will e...      1"
            ],
            "text/html": [
              "\n",
              "  <div id=\"df-bc041433-69ec-4184-b398-f5e413bb27e8\">\n",
              "    <div class=\"colab-df-container\">\n",
              "      <div>\n",
              "<style scoped>\n",
              "    .dataframe tbody tr th:only-of-type {\n",
              "        vertical-align: middle;\n",
              "    }\n",
              "\n",
              "    .dataframe tbody tr th {\n",
              "        vertical-align: top;\n",
              "    }\n",
              "\n",
              "    .dataframe thead th {\n",
              "        text-align: right;\n",
              "    }\n",
              "</style>\n",
              "<table border=\"1\" class=\"dataframe\">\n",
              "  <thead>\n",
              "    <tr style=\"text-align: right;\">\n",
              "      <th></th>\n",
              "      <th>text</th>\n",
              "      <th>label</th>\n",
              "    </tr>\n",
              "  </thead>\n",
              "  <tbody>\n",
              "    <tr>\n",
              "      <th>0</th>\n",
              "      <td>i grew up (b. 1965) watching and loving the th...</td>\n",
              "      <td>0</td>\n",
              "    </tr>\n",
              "    <tr>\n",
              "      <th>1</th>\n",
              "      <td>when i put this movie in my dvd player, and sa...</td>\n",
              "      <td>0</td>\n",
              "    </tr>\n",
              "    <tr>\n",
              "      <th>2</th>\n",
              "      <td>why do people who do not know what a particula...</td>\n",
              "      <td>0</td>\n",
              "    </tr>\n",
              "    <tr>\n",
              "      <th>3</th>\n",
              "      <td>even though i have great interest in biblical ...</td>\n",
              "      <td>0</td>\n",
              "    </tr>\n",
              "    <tr>\n",
              "      <th>4</th>\n",
              "      <td>im a die hard dads army fan and nothing will e...</td>\n",
              "      <td>1</td>\n",
              "    </tr>\n",
              "  </tbody>\n",
              "</table>\n",
              "</div>\n",
              "      <button class=\"colab-df-convert\" onclick=\"convertToInteractive('df-bc041433-69ec-4184-b398-f5e413bb27e8')\"\n",
              "              title=\"Convert this dataframe to an interactive table.\"\n",
              "              style=\"display:none;\">\n",
              "        \n",
              "  <svg xmlns=\"http://www.w3.org/2000/svg\" height=\"24px\"viewBox=\"0 0 24 24\"\n",
              "       width=\"24px\">\n",
              "    <path d=\"M0 0h24v24H0V0z\" fill=\"none\"/>\n",
              "    <path d=\"M18.56 5.44l.94 2.06.94-2.06 2.06-.94-2.06-.94-.94-2.06-.94 2.06-2.06.94zm-11 1L8.5 8.5l.94-2.06 2.06-.94-2.06-.94L8.5 2.5l-.94 2.06-2.06.94zm10 10l.94 2.06.94-2.06 2.06-.94-2.06-.94-.94-2.06-.94 2.06-2.06.94z\"/><path d=\"M17.41 7.96l-1.37-1.37c-.4-.4-.92-.59-1.43-.59-.52 0-1.04.2-1.43.59L10.3 9.45l-7.72 7.72c-.78.78-.78 2.05 0 2.83L4 21.41c.39.39.9.59 1.41.59.51 0 1.02-.2 1.41-.59l7.78-7.78 2.81-2.81c.8-.78.8-2.07 0-2.86zM5.41 20L4 18.59l7.72-7.72 1.47 1.35L5.41 20z\"/>\n",
              "  </svg>\n",
              "      </button>\n",
              "      \n",
              "  <style>\n",
              "    .colab-df-container {\n",
              "      display:flex;\n",
              "      flex-wrap:wrap;\n",
              "      gap: 12px;\n",
              "    }\n",
              "\n",
              "    .colab-df-convert {\n",
              "      background-color: #E8F0FE;\n",
              "      border: none;\n",
              "      border-radius: 50%;\n",
              "      cursor: pointer;\n",
              "      display: none;\n",
              "      fill: #1967D2;\n",
              "      height: 32px;\n",
              "      padding: 0 0 0 0;\n",
              "      width: 32px;\n",
              "    }\n",
              "\n",
              "    .colab-df-convert:hover {\n",
              "      background-color: #E2EBFA;\n",
              "      box-shadow: 0px 1px 2px rgba(60, 64, 67, 0.3), 0px 1px 3px 1px rgba(60, 64, 67, 0.15);\n",
              "      fill: #174EA6;\n",
              "    }\n",
              "\n",
              "    [theme=dark] .colab-df-convert {\n",
              "      background-color: #3B4455;\n",
              "      fill: #D2E3FC;\n",
              "    }\n",
              "\n",
              "    [theme=dark] .colab-df-convert:hover {\n",
              "      background-color: #434B5C;\n",
              "      box-shadow: 0px 1px 3px 1px rgba(0, 0, 0, 0.15);\n",
              "      filter: drop-shadow(0px 1px 2px rgba(0, 0, 0, 0.3));\n",
              "      fill: #FFFFFF;\n",
              "    }\n",
              "  </style>\n",
              "\n",
              "      <script>\n",
              "        const buttonEl =\n",
              "          document.querySelector('#df-bc041433-69ec-4184-b398-f5e413bb27e8 button.colab-df-convert');\n",
              "        buttonEl.style.display =\n",
              "          google.colab.kernel.accessAllowed ? 'block' : 'none';\n",
              "\n",
              "        async function convertToInteractive(key) {\n",
              "          const element = document.querySelector('#df-bc041433-69ec-4184-b398-f5e413bb27e8');\n",
              "          const dataTable =\n",
              "            await google.colab.kernel.invokeFunction('convertToInteractive',\n",
              "                                                     [key], {});\n",
              "          if (!dataTable) return;\n",
              "\n",
              "          const docLinkHtml = 'Like what you see? Visit the ' +\n",
              "            '<a target=\"_blank\" href=https://colab.research.google.com/notebooks/data_table.ipynb>data table notebook</a>'\n",
              "            + ' to learn more about interactive tables.';\n",
              "          element.innerHTML = '';\n",
              "          dataTable['output_type'] = 'display_data';\n",
              "          await google.colab.output.renderOutput(dataTable, element);\n",
              "          const docLink = document.createElement('div');\n",
              "          docLink.innerHTML = docLinkHtml;\n",
              "          element.appendChild(docLink);\n",
              "        }\n",
              "      </script>\n",
              "    </div>\n",
              "  </div>\n",
              "  "
            ]
          },
          "metadata": {},
          "execution_count": 388
        }
      ],
      "source": [
        "text_with_0_1.head()"
      ]
    },
    {
      "cell_type": "code",
      "execution_count": null,
      "metadata": {
        "id": "L34acoqE9K2w"
      },
      "outputs": [],
      "source": [
        "text_token=[]\n",
        "for i in text_with_0_1['text']:\n",
        "  text_token.append((word_tokenize(i)))"
      ]
    },
    {
      "cell_type": "code",
      "execution_count": null,
      "metadata": {
        "colab": {
          "base_uri": "https://localhost:8080/"
        },
        "id": "EZU0vyQy9Kza",
        "outputId": "44225387-8a6b-4435-c826-35904f84a9f6"
      },
      "outputs": [
        {
          "output_type": "execute_result",
          "data": {
            "text/plain": [
              "40000"
            ]
          },
          "metadata": {},
          "execution_count": 390
        }
      ],
      "source": [
        "len(text_token)"
      ]
    },
    {
      "cell_type": "code",
      "execution_count": null,
      "metadata": {
        "id": "YnOyfusd9Kw9"
      },
      "outputs": [],
      "source": [
        "text_with_0_1['text_token']=text_token"
      ]
    },
    {
      "cell_type": "code",
      "execution_count": null,
      "metadata": {
        "colab": {
          "base_uri": "https://localhost:8080/",
          "height": 206
        },
        "id": "c95a7Yi_9KuQ",
        "outputId": "6d427507-596d-4b4a-f816-49ebb7db38d6"
      },
      "outputs": [
        {
          "output_type": "execute_result",
          "data": {
            "text/plain": [
              "                                                text  label  \\\n",
              "0  i grew up (b. 1965) watching and loving the th...      0   \n",
              "1  when i put this movie in my dvd player, and sa...      0   \n",
              "2  why do people who do not know what a particula...      0   \n",
              "3  even though i have great interest in biblical ...      0   \n",
              "4  im a die hard dads army fan and nothing will e...      1   \n",
              "\n",
              "                                          text_token  \n",
              "0  [i, grew, up, (, b, ., 1965, ), watching, and,...  \n",
              "1  [when, i, put, this, movie, in, my, dvd, playe...  \n",
              "2  [why, do, people, who, do, not, know, what, a,...  \n",
              "3  [even, though, i, have, great, interest, in, b...  \n",
              "4  [im, a, die, hard, dads, army, fan, and, nothi...  "
            ],
            "text/html": [
              "\n",
              "  <div id=\"df-311fafab-bf5b-4b87-9867-c3aa01fd7f85\">\n",
              "    <div class=\"colab-df-container\">\n",
              "      <div>\n",
              "<style scoped>\n",
              "    .dataframe tbody tr th:only-of-type {\n",
              "        vertical-align: middle;\n",
              "    }\n",
              "\n",
              "    .dataframe tbody tr th {\n",
              "        vertical-align: top;\n",
              "    }\n",
              "\n",
              "    .dataframe thead th {\n",
              "        text-align: right;\n",
              "    }\n",
              "</style>\n",
              "<table border=\"1\" class=\"dataframe\">\n",
              "  <thead>\n",
              "    <tr style=\"text-align: right;\">\n",
              "      <th></th>\n",
              "      <th>text</th>\n",
              "      <th>label</th>\n",
              "      <th>text_token</th>\n",
              "    </tr>\n",
              "  </thead>\n",
              "  <tbody>\n",
              "    <tr>\n",
              "      <th>0</th>\n",
              "      <td>i grew up (b. 1965) watching and loving the th...</td>\n",
              "      <td>0</td>\n",
              "      <td>[i, grew, up, (, b, ., 1965, ), watching, and,...</td>\n",
              "    </tr>\n",
              "    <tr>\n",
              "      <th>1</th>\n",
              "      <td>when i put this movie in my dvd player, and sa...</td>\n",
              "      <td>0</td>\n",
              "      <td>[when, i, put, this, movie, in, my, dvd, playe...</td>\n",
              "    </tr>\n",
              "    <tr>\n",
              "      <th>2</th>\n",
              "      <td>why do people who do not know what a particula...</td>\n",
              "      <td>0</td>\n",
              "      <td>[why, do, people, who, do, not, know, what, a,...</td>\n",
              "    </tr>\n",
              "    <tr>\n",
              "      <th>3</th>\n",
              "      <td>even though i have great interest in biblical ...</td>\n",
              "      <td>0</td>\n",
              "      <td>[even, though, i, have, great, interest, in, b...</td>\n",
              "    </tr>\n",
              "    <tr>\n",
              "      <th>4</th>\n",
              "      <td>im a die hard dads army fan and nothing will e...</td>\n",
              "      <td>1</td>\n",
              "      <td>[im, a, die, hard, dads, army, fan, and, nothi...</td>\n",
              "    </tr>\n",
              "  </tbody>\n",
              "</table>\n",
              "</div>\n",
              "      <button class=\"colab-df-convert\" onclick=\"convertToInteractive('df-311fafab-bf5b-4b87-9867-c3aa01fd7f85')\"\n",
              "              title=\"Convert this dataframe to an interactive table.\"\n",
              "              style=\"display:none;\">\n",
              "        \n",
              "  <svg xmlns=\"http://www.w3.org/2000/svg\" height=\"24px\"viewBox=\"0 0 24 24\"\n",
              "       width=\"24px\">\n",
              "    <path d=\"M0 0h24v24H0V0z\" fill=\"none\"/>\n",
              "    <path d=\"M18.56 5.44l.94 2.06.94-2.06 2.06-.94-2.06-.94-.94-2.06-.94 2.06-2.06.94zm-11 1L8.5 8.5l.94-2.06 2.06-.94-2.06-.94L8.5 2.5l-.94 2.06-2.06.94zm10 10l.94 2.06.94-2.06 2.06-.94-2.06-.94-.94-2.06-.94 2.06-2.06.94z\"/><path d=\"M17.41 7.96l-1.37-1.37c-.4-.4-.92-.59-1.43-.59-.52 0-1.04.2-1.43.59L10.3 9.45l-7.72 7.72c-.78.78-.78 2.05 0 2.83L4 21.41c.39.39.9.59 1.41.59.51 0 1.02-.2 1.41-.59l7.78-7.78 2.81-2.81c.8-.78.8-2.07 0-2.86zM5.41 20L4 18.59l7.72-7.72 1.47 1.35L5.41 20z\"/>\n",
              "  </svg>\n",
              "      </button>\n",
              "      \n",
              "  <style>\n",
              "    .colab-df-container {\n",
              "      display:flex;\n",
              "      flex-wrap:wrap;\n",
              "      gap: 12px;\n",
              "    }\n",
              "\n",
              "    .colab-df-convert {\n",
              "      background-color: #E8F0FE;\n",
              "      border: none;\n",
              "      border-radius: 50%;\n",
              "      cursor: pointer;\n",
              "      display: none;\n",
              "      fill: #1967D2;\n",
              "      height: 32px;\n",
              "      padding: 0 0 0 0;\n",
              "      width: 32px;\n",
              "    }\n",
              "\n",
              "    .colab-df-convert:hover {\n",
              "      background-color: #E2EBFA;\n",
              "      box-shadow: 0px 1px 2px rgba(60, 64, 67, 0.3), 0px 1px 3px 1px rgba(60, 64, 67, 0.15);\n",
              "      fill: #174EA6;\n",
              "    }\n",
              "\n",
              "    [theme=dark] .colab-df-convert {\n",
              "      background-color: #3B4455;\n",
              "      fill: #D2E3FC;\n",
              "    }\n",
              "\n",
              "    [theme=dark] .colab-df-convert:hover {\n",
              "      background-color: #434B5C;\n",
              "      box-shadow: 0px 1px 3px 1px rgba(0, 0, 0, 0.15);\n",
              "      filter: drop-shadow(0px 1px 2px rgba(0, 0, 0, 0.3));\n",
              "      fill: #FFFFFF;\n",
              "    }\n",
              "  </style>\n",
              "\n",
              "      <script>\n",
              "        const buttonEl =\n",
              "          document.querySelector('#df-311fafab-bf5b-4b87-9867-c3aa01fd7f85 button.colab-df-convert');\n",
              "        buttonEl.style.display =\n",
              "          google.colab.kernel.accessAllowed ? 'block' : 'none';\n",
              "\n",
              "        async function convertToInteractive(key) {\n",
              "          const element = document.querySelector('#df-311fafab-bf5b-4b87-9867-c3aa01fd7f85');\n",
              "          const dataTable =\n",
              "            await google.colab.kernel.invokeFunction('convertToInteractive',\n",
              "                                                     [key], {});\n",
              "          if (!dataTable) return;\n",
              "\n",
              "          const docLinkHtml = 'Like what you see? Visit the ' +\n",
              "            '<a target=\"_blank\" href=https://colab.research.google.com/notebooks/data_table.ipynb>data table notebook</a>'\n",
              "            + ' to learn more about interactive tables.';\n",
              "          element.innerHTML = '';\n",
              "          dataTable['output_type'] = 'display_data';\n",
              "          await google.colab.output.renderOutput(dataTable, element);\n",
              "          const docLink = document.createElement('div');\n",
              "          docLink.innerHTML = docLinkHtml;\n",
              "          element.appendChild(docLink);\n",
              "        }\n",
              "      </script>\n",
              "    </div>\n",
              "  </div>\n",
              "  "
            ]
          },
          "metadata": {},
          "execution_count": 392
        }
      ],
      "source": [
        "text_with_0_1.head()"
      ]
    },
    {
      "cell_type": "code",
      "execution_count": null,
      "metadata": {
        "colab": {
          "base_uri": "https://localhost:8080/"
        },
        "id": "UfcGYpZzM_pD",
        "outputId": "4283d36a-36af-418f-c567-2f132b6509c4"
      },
      "outputs": [
        {
          "output_type": "stream",
          "name": "stdout",
          "text": [
            "dict_keys([('i', 'NN'), ('grew', 'VBD'), ('up', 'RP'), ('(', '('), ('b', 'NN'), ('.', '.'), ('1965', 'CD'), (')', ')'), ('watching', 'NN'), ('and', 'CC'), ('loving', 'VBG'), ('the', 'DT'), ('thunderbirds', 'NNS'), ('all', 'DT'), ('my', 'PRP$'), ('mates', 'NNS'), ('at', 'IN'), ('school', 'NN'), ('watched', 'VBN'), ('we', 'PRP'), ('played', 'VBD'), ('``', '``'), (\"''\", \"''\"), ('before', 'IN'), (',', ','), ('during', 'IN'), ('lunch', 'NN'), ('after', 'IN'), ('wanted', 'VBD'), ('to', 'TO'), ('be', 'VB'), ('virgil', 'JJ'), ('or', 'CC'), ('scott', 'NN'), ('no', 'DT'), ('one', 'NN'), ('alan', 'JJ'), ('counting', 'VBG'), ('down', 'RP'), ('from', 'IN'), ('5', 'CD'), ('became', 'VBD'), ('an', 'DT'), ('art', 'NN'), ('form', 'NN'), ('took', 'VBD'), ('children', 'NNS'), ('see', 'VB'), ('movie', 'NN'), ('hoping', 'NN'), ('they', 'PRP'), ('would', 'MD'), ('get', 'VB'), ('a', 'DT'), ('glimpse', 'NN'), ('of', 'IN'), ('what', 'WP'), ('loved', 'VBD'), ('as', 'IN'), ('child', 'NN'), ('how', 'WRB'), ('bitterly', 'RB'), ('disappointing', 'JJ'), ('only', 'JJ'), ('high', 'JJ'), ('point', 'NN'), ('was', 'VBD'), ('snappy', 'JJ'), ('theme', 'NN'), ('tune', 'NN'), ('not', 'RB'), ('that', 'IN'), ('it', 'PRP'), ('could', 'MD'), ('compare', 'VB'), ('with', 'IN'), ('original', 'JJ'), ('score', 'NN'), ('thankfully', 'RB'), ('early', 'JJ'), ('saturday', 'JJ'), ('mornings', 'NNS'), ('one', 'CD'), ('television', 'NN'), ('channel', 'NN'), ('still', 'RB'), ('plays', 'VBZ'), ('reruns', 'NNS'), ('series', 'NN'), ('gerry', 'NN'), ('anderson', 'NN'), ('his', 'PRP$'), ('wife', 'NN'), ('created', 'VBD'), ('jonatha', 'NN'), ('frakes', 'NNS'), ('should', 'MD'), ('hand', 'NN'), ('in', 'IN'), ('directors', 'NNS'), ('chair', 'NN'), ('version', 'NN'), ('completely', 'RB'), ('hopeless', 'JJ'), ('waste', 'NN'), ('film', 'NN'), ('utter', 'JJ'), ('rubbish', 'NN'), ('cgi', 'JJ'), ('remake', 'NN'), ('may', 'MD'), ('acceptable', 'JJ'), ('but', 'CC'), ('replacing', 'VBG'), ('marionettes', 'NNS'), ('homo', 'NN'), ('sapiens', 'NNS'), ('subsp', 'VBP'), ('huge', 'JJ'), ('error', 'NN'), ('judgment', 'NN')])\n"
          ]
        }
      ],
      "source": [
        "fdistribution = nltk.FreqDist(pos_tag(text_with_0_1['text_token'][0]))\n",
        "vocabulary = fdistribution.keys()\n",
        "print(vocabulary)"
      ]
    },
    {
      "cell_type": "code",
      "execution_count": null,
      "metadata": {
        "colab": {
          "base_uri": "https://localhost:8080/",
          "height": 380
        },
        "id": "jb8aQon7Nx8y",
        "outputId": "6cda9025-972a-471a-a8fe-22aeee3e7285"
      },
      "outputs": [
        {
          "output_type": "display_data",
          "data": {
            "text/plain": [
              "<Figure size 360x288 with 1 Axes>"
            ],
            "image/png": "[encoded data removed]"
          },
          "metadata": {
            "needs_background": "light"
          }
        }
      ],
      "source": [
        "fdistribution.plot(20)"
      ]
    },
    {
      "cell_type": "code",
      "execution_count": null,
      "metadata": {
        "id": "gZ3rQzUK9Kk2"
      },
      "outputs": [],
      "source": [
        "vectorizer = TfidfVectorizer(sublinear_tf = True,use_idf = True)\n",
        "train_vectors = vectorizer.fit_transform(text_with_0_1['text'])\n",
        "test_vectors = vectorizer.transform(text_with_0_1['text'])"
      ]
    },
    {
      "cell_type": "code",
      "execution_count": null,
      "metadata": {
        "colab": {
          "base_uri": "https://localhost:8080/"
        },
        "id": "KgMnkVHwa9Up",
        "outputId": "2fa0fe16-39b6-475c-a277-ed3af0e3c1bb"
      },
      "outputs": [
        {
          "output_type": "stream",
          "name": "stdout",
          "text": [
            "  (0, 44124)\t0.122240307161902\n",
            "  (0, 27690)\t0.12259662688282641\n",
            "  (0, 39596)\t0.07552180513912721\n",
            "  (0, 79390)\t0.19036508337694363\n",
            "  (0, 71308)\t0.28528348030113954\n",
            "  (0, 38957)\t0.14039374554154288\n",
            "  (0, 50896)\t0.1711843451579934\n",
            "  (0, 68259)\t0.1331492157979092\n",
            "  (0, 12410)\t0.02329823143176297\n",
            "  (0, 1803)\t0.10936252271993327\n",
            "  (0, 51541)\t0.05663903123071667\n",
            "  (0, 67957)\t0.08846926444633593\n",
            "  (0, 14342)\t0.09639694897760799\n",
            "  (0, 70335)\t0.09760149968272457\n",
            "  (0, 87487)\t0.09884910604547568\n",
            "  (0, 30337)\t0.02773444940118462\n",
            "  (0, 89550)\t0.0694764435635956\n",
            "  (0, 39136)\t0.11631550375616974\n",
            "  (0, 17255)\t0.06483579848345945\n",
            "  (0, 88188)\t0.0680664261662091\n",
            "  (0, 14396)\t0.10837865340133428\n",
            "  (0, 23109)\t0.08474242204670554\n",
            "  (0, 40851)\t0.01969184334110462\n",
            "  (0, 36721)\t0.07294183886302442\n",
            "  (0, 74285)\t0.04940561243075885\n",
            "  :\t:\n",
            "  (39999, 76783)\t0.09917758473806366\n",
            "  (39999, 34727)\t0.04318245981876005\n",
            "  (39999, 28587)\t0.11396497534277891\n",
            "  (39999, 36359)\t0.04888963361927136\n",
            "  (39999, 82529)\t0.05060776818179234\n",
            "  (39999, 12410)\t0.029313154820598444\n",
            "  (39999, 30337)\t0.0348946747971874\n",
            "  (39999, 40851)\t0.04194891096734988\n",
            "  (39999, 74285)\t0.06216069964069928\n",
            "  (39999, 90964)\t0.06290797786598\n",
            "  (39999, 42845)\t0.041501486669568446\n",
            "  (39999, 82245)\t0.055876979141737795\n",
            "  (39999, 58448)\t0.04626891737430554\n",
            "  (39999, 90151)\t0.042298847007438155\n",
            "  (39999, 58082)\t0.0391314923788585\n",
            "  (39999, 91425)\t0.04669302299534272\n",
            "  (39999, 3973)\t0.03780670226652164\n",
            "  (39999, 24594)\t0.06764064779428078\n",
            "  (39999, 56992)\t0.046534492623277995\n",
            "  (39999, 7938)\t0.05848204906303835\n",
            "  (39999, 83225)\t0.048967394460149125\n",
            "  (39999, 55498)\t0.07912413234564478\n",
            "  (39999, 82262)\t0.06822873538174469\n",
            "  (39999, 4083)\t0.06342418516337062\n",
            "  (39999, 87199)\t0.04528200445055609\n"
          ]
        }
      ],
      "source": [
        "print(train_vectors)"
      ]
    },
    {
      "cell_type": "code",
      "execution_count": null,
      "metadata": {
        "colab": {
          "base_uri": "https://localhost:8080/"
        },
        "id": "xlSyy-iobB9O",
        "outputId": "9d2a57e0-967a-4cfd-f53a-655f4a93ce84"
      },
      "outputs": [
        {
          "output_type": "stream",
          "name": "stdout",
          "text": [
            "  (0, 91425)\t0.037111831280257794\n",
            "  (0, 90964)\t0.040339324239705036\n",
            "  (0, 90558)\t0.06624040237128775\n",
            "  (0, 90151)\t0.03361931982099459\n",
            "  (0, 89717)\t0.072769414413633\n",
            "  (0, 89585)\t0.050327222488438184\n",
            "  (0, 89579)\t0.06149099652974062\n",
            "  (0, 89550)\t0.0694764435635956\n",
            "  (0, 89510)\t0.052836909845876336\n",
            "  (0, 89385)\t0.11880545508684463\n",
            "  (0, 88619)\t0.15300153913421605\n",
            "  (0, 88188)\t0.06806642616620909\n",
            "  (0, 87487)\t0.09884910604547567\n",
            "  (0, 87199)\t0.035990347195308754\n",
            "  (0, 85005)\t0.10744728270623502\n",
            "  (0, 83483)\t0.07313138420229788\n",
            "  (0, 83225)\t0.03891951227103337\n",
            "  (0, 82769)\t0.3041404775674627\n",
            "  (0, 82430)\t0.03216095621970034\n",
            "  (0, 82323)\t0.08027937980274982\n",
            "  (0, 82262)\t0.051877047082576636\n",
            "  (0, 82245)\t0.021162213939437974\n",
            "  (0, 82229)\t0.10236803061162615\n",
            "  (0, 81789)\t0.07940857832823403\n",
            "  (0, 79390)\t0.19036508337694363\n",
            "  :\t:\n",
            "  (39999, 24139)\t0.0850297908082796\n",
            "  (39999, 24087)\t0.10695980037813269\n",
            "  (39999, 20920)\t0.08354012600984934\n",
            "  (39999, 17032)\t0.10459284928944593\n",
            "  (39999, 15631)\t0.17111881980089327\n",
            "  (39999, 15074)\t0.1407891884869087\n",
            "  (39999, 14392)\t0.17111881980089327\n",
            "  (39999, 13304)\t0.09549805716778773\n",
            "  (39999, 12901)\t0.08369466013054454\n",
            "  (39999, 12511)\t0.16752445731156698\n",
            "  (39999, 12410)\t0.02931315482059844\n",
            "  (39999, 10740)\t0.07070918843472952\n",
            "  (39999, 8842)\t0.058052161384440436\n",
            "  (39999, 8551)\t0.16516865049796534\n",
            "  (39999, 7938)\t0.05848204906303833\n",
            "  (39999, 6535)\t0.1155789523575261\n",
            "  (39999, 5378)\t0.06858298199488638\n",
            "  (39999, 5085)\t0.16671079095249983\n",
            "  (39999, 4186)\t0.13176017098797252\n",
            "  (39999, 4083)\t0.06342418516337062\n",
            "  (39999, 3973)\t0.03780670226652164\n",
            "  (39999, 1639)\t0.041217334957595185\n",
            "  (39999, 1248)\t0.15168539568916842\n",
            "  (39999, 1224)\t0.10865457310973027\n",
            "  (39999, 1)\t0.21290993424126622\n"
          ]
        }
      ],
      "source": [
        "print(test_vectors)"
      ]
    },
    {
      "cell_type": "markdown",
      "source": [
        "SVM"
      ],
      "metadata": {
        "id": "A6E5gNlDFHhI"
      }
    },
    {
      "cell_type": "code",
      "execution_count": null,
      "metadata": {
        "id": "Dzas2pqt9Kfi"
      },
      "outputs": [],
      "source": [
        "classifier_linear = svm.SVC(kernel='linear')\n",
        "classifier_linear.fit(train_vectors,text_with_0_1['label'] )\n",
        "prediction_linear = classifier_linear.predict(test_vectors)"
      ]
    },
    {
      "cell_type": "code",
      "source": [
        "print(prediction_linear)"
      ],
      "metadata": {
        "colab": {
          "base_uri": "https://localhost:8080/"
        },
        "id": "iWop_GoFcPA0",
        "outputId": "9661ac42-c115-4d82-ef93-d50c5fa12b40"
      },
      "execution_count": null,
      "outputs": [
        {
          "output_type": "stream",
          "name": "stdout",
          "text": [
            "[0 0 0 ... 0 1 1]\n"
          ]
        }
      ]
    },
    {
      "cell_type": "code",
      "execution_count": null,
      "metadata": {
        "id": "AQ5ssC04HIZ2",
        "colab": {
          "base_uri": "https://localhost:8080/"
        },
        "outputId": "401dedb0-fc34-4fd4-d591-4240ed6abe2c"
      },
      "outputs": [
        {
          "output_type": "stream",
          "name": "stdout",
          "text": [
            "Negativity report:  {'precision': 0.9656557541675035, 'recall': 0.9606873470203307, 'f1-score': 0.9631651433579567, 'support': 20019}\n",
            "Positivity report:  {'precision': 0.9608145787691695, 'recall': 0.9657674791051499, 'f1-score': 0.9632846624235618, 'support': 19981}\n"
          ]
        }
      ],
      "source": [
        "report_svm = classification_report(text_with_0_1['label'] , prediction_linear, output_dict=True)\n",
        "print(\"Negativity report: \",report_svm['0'])\n",
        "print(\"Positivity report: \",report_svm['1'])"
      ]
    },
    {
      "cell_type": "code",
      "execution_count": null,
      "metadata": {
        "id": "D8F8gUEZHwvi",
        "colab": {
          "base_uri": "https://localhost:8080/"
        },
        "outputId": "927ac593-2e81-45a9-dcd8-10cf96312e69"
      },
      "outputs": [
        {
          "output_type": "stream",
          "name": "stdout",
          "text": [
            "[1]\n"
          ]
        }
      ],
      "source": [
        "review1 = \"\"\"SUPERB, I AM IN LOVE IN THIS PHONE\"\"\"\n",
        "review_vector1 = vectorizer.transform([review1])\n",
        "print(classifier_linear.predict(review_vector1))"
      ]
    },
    {
      "cell_type": "code",
      "execution_count": null,
      "metadata": {
        "id": "qRxgZHUZH23n",
        "colab": {
          "base_uri": "https://localhost:8080/"
        },
        "outputId": "90e12875-27d8-483f-e521-b514a292fa86"
      },
      "outputs": [
        {
          "output_type": "stream",
          "name": "stdout",
          "text": [
            "[0]\n"
          ]
        }
      ],
      "source": [
        "review2 = \"\"\"Do not purchase this product. My cell phone blast when I switched the charger\"\"\"\n",
        "review_vector2 = vectorizer.transform([review2])\n",
        "print(classifier_linear.predict(review_vector2))"
      ]
    },
    {
      "cell_type": "code",
      "execution_count": null,
      "metadata": {
        "id": "_9qYuLrAH7UX",
        "colab": {
          "base_uri": "https://localhost:8080/"
        },
        "outputId": "fde2b0b1-7119-466e-ced4-0e768a062a75"
      },
      "outputs": [
        {
          "output_type": "stream",
          "name": "stdout",
          "text": [
            "[0]\n"
          ]
        }
      ],
      "source": [
        "review3=\"\"\"i feel really bad\"\"\"\n",
        "review_vector3 = vectorizer.transform([review3])\n",
        "print(classifier_linear.predict(review_vector3))"
      ]
    },
    {
      "cell_type": "markdown",
      "source": [
        "Naive Bayes"
      ],
      "metadata": {
        "id": "yjEm8dLeFJeW"
      }
    },
    {
      "cell_type": "code",
      "execution_count": null,
      "metadata": {
        "id": "KZ1Q1OtZBHdu"
      },
      "outputs": [],
      "source": [
        "naive_bayes = MultinomialNB()\n",
        "naive_bayes.fit(train_vectors,text_with_0_1['label'])\n",
        "naive_bayes_pred = naive_bayes.predict(test_vectors)"
      ]
    },
    {
      "cell_type": "code",
      "execution_count": null,
      "metadata": {
        "colab": {
          "base_uri": "https://localhost:8080/"
        },
        "id": "vRtDS_FCBnwo",
        "outputId": "062c9a87-c9d2-409d-a046-152801a4b958"
      },
      "outputs": [
        {
          "output_type": "stream",
          "name": "stdout",
          "text": [
            "Negativity report:  {'precision': 0.8881859573448359, 'recall': 0.9257205654628103, 'f1-score': 0.9065649153703159, 'support': 20019}\n",
            "Positivity report:  {'precision': 0.9222889992160962, 'recall': 0.8832390771232671, 'f1-score': 0.9023417527354535, 'support': 19981}\n"
          ]
        }
      ],
      "source": [
        "report_nb = classification_report(text_with_0_1['label'] , naive_bayes_pred, output_dict=True)\n",
        "print(\"Negativity report: \",report_nb['0'])\n",
        "print(\"Positivity report: \",report_nb['1'])"
      ]
    },
    {
      "cell_type": "code",
      "source": [
        "review4 = \"\"\"this article is not of my interest, i feel it is less informative\"\"\"\n",
        "review_vector4 = vectorizer.transform([review4])\n",
        "print(classifier_linear.predict(review_vector4))"
      ],
      "metadata": {
        "id": "cTo8ACi1b5PK",
        "colab": {
          "base_uri": "https://localhost:8080/"
        },
        "outputId": "4af70470-0a0c-452c-97c9-27d1dda3c65d"
      },
      "execution_count": null,
      "outputs": [
        {
          "output_type": "stream",
          "name": "stdout",
          "text": [
            "[0]\n"
          ]
        }
      ]
    },
    {
      "cell_type": "code",
      "source": [
        "review5=\"\"\"i scored good marks and i am happy today\"\"\"\n",
        "review_vector5 = vectorizer.transform([review5])\n",
        "print(classifier_linear.predict(review_vector5))"
      ],
      "metadata": {
        "id": "xfqEDn3Gb5IQ",
        "colab": {
          "base_uri": "https://localhost:8080/"
        },
        "outputId": "f9ff8570-ba84-4e9b-b65a-915d176ed74c"
      },
      "execution_count": null,
      "outputs": [
        {
          "output_type": "stream",
          "name": "stdout",
          "text": [
            "[1]\n"
          ]
        }
      ]
    },
    {
      "cell_type": "markdown",
      "source": [
        "Logistic Regression"
      ],
      "metadata": {
        "id": "XIANy7NMFLaW"
      }
    },
    {
      "cell_type": "code",
      "execution_count": null,
      "metadata": {
        "id": "k_BS6uocUp8d"
      },
      "outputs": [],
      "source": [
        "logistic=LogisticRegression(random_state=0)\n",
        "logistic.fit(train_vectors,text_with_0_1['label'])\n",
        "logistic_pred=logistic.predict(test_vectors)"
      ]
    },
    {
      "cell_type": "code",
      "execution_count": null,
      "metadata": {
        "colab": {
          "base_uri": "https://localhost:8080/"
        },
        "id": "IEiwrQqtXuRA",
        "outputId": "de82e76f-1bcd-4398-bedf-9dd90df01878"
      },
      "outputs": [
        {
          "output_type": "stream",
          "name": "stdout",
          "text": [
            "Negativity report:  {'precision': 0.942188923762276, 'recall': 0.929716769069384, 'f1-score': 0.9359112966082519, 'support': 20019}\n",
            "Positivity report:  {'precision': 0.930504791069841, 'recall': 0.9428457034182474, 'f1-score': 0.9366345986526462, 'support': 19981}\n"
          ]
        }
      ],
      "source": [
        "report_logi = classification_report(text_with_0_1['label'] , logistic_pred, output_dict=True)\n",
        "print(\"Negativity report: \",report_logi['0'])\n",
        "print(\"Positivity report: \",report_logi['1'])"
      ]
    },
    {
      "cell_type": "code",
      "source": [
        "review6=\"\"\"i am thankfull because he helped me today and i am joyous about it\"\"\"\n",
        "review_vector6 = vectorizer.transform([review6])\n",
        "print(classifier_linear.predict(review_vector6))"
      ],
      "metadata": {
        "id": "pkaZkJF1gh_Z",
        "colab": {
          "base_uri": "https://localhost:8080/"
        },
        "outputId": "c43092c5-5857-4f9d-9dbf-49139bc7a68d"
      },
      "execution_count": null,
      "outputs": [
        {
          "output_type": "stream",
          "name": "stdout",
          "text": [
            "[1]\n"
          ]
        }
      ]
    },
    {
      "cell_type": "code",
      "source": [
        "review7=\"\"\"This cookie tastes very bitter, i would not recommend it\"\"\"\n",
        "review_vector7 = vectorizer.transform([review7])\n",
        "print(classifier_linear.predict(review_vector7))"
      ],
      "metadata": {
        "id": "7z68Tz9cgh7u",
        "colab": {
          "base_uri": "https://localhost:8080/"
        },
        "outputId": "dfd1635d-7fe9-42c4-ee20-0634fdcb73b6"
      },
      "execution_count": null,
      "outputs": [
        {
          "output_type": "stream",
          "name": "stdout",
          "text": [
            "[1]\n"
          ]
        }
      ]
    },
    {
      "cell_type": "markdown",
      "source": [
        "Random Forest"
      ],
      "metadata": {
        "id": "SNj8v6VyFNrL"
      }
    },
    {
      "cell_type": "code",
      "execution_count": null,
      "metadata": {
        "id": "JJjsDtZScGWu"
      },
      "outputs": [],
      "source": [
        "rand_forest = RandomForestClassifier(max_depth=15, random_state=0)\n",
        "rand_forest.fit(train_vectors,text_with_0_1['label'])\n",
        "rand_forest_pred=rand_forest.predict(test_vectors)"
      ]
    },
    {
      "cell_type": "code",
      "execution_count": null,
      "metadata": {
        "id": "eYmpZUGbdGYy",
        "colab": {
          "base_uri": "https://localhost:8080/"
        },
        "outputId": "14af8120-dc4c-408c-f2d3-b519a31b0737"
      },
      "outputs": [
        {
          "output_type": "stream",
          "name": "stdout",
          "text": [
            "Negativity report:  {'precision': 0.9267287518732605, 'recall': 0.8649283180978071, 'f1-score': 0.8947626798956153, 'support': 20019}\n",
            "Positivity report:  {'precision': 0.8731469318821542, 'recall': 0.9314849106651318, 'f1-score': 0.9013729810882146, 'support': 19981}\n"
          ]
        }
      ],
      "source": [
        "report_rand = classification_report(text_with_0_1['label'] , rand_forest_pred, output_dict=True)\n",
        "print(\"Negativity report: \",report_rand['0'])\n",
        "print(\"Positivity report: \",report_rand['1'])"
      ]
    },
    {
      "cell_type": "code",
      "source": [
        "review8=\"\"\"i love swimming and these swimming glasses are very useful\"\"\"\n",
        "review_vector8 = vectorizer.transform([review8])\n",
        "print(classifier_linear.predict(review_vector8))"
      ],
      "metadata": {
        "id": "4FeKCnO7h1fv",
        "colab": {
          "base_uri": "https://localhost:8080/"
        },
        "outputId": "34a16364-0409-457b-b425-934b44f61be3"
      },
      "execution_count": null,
      "outputs": [
        {
          "output_type": "stream",
          "name": "stdout",
          "text": [
            "[1]\n"
          ]
        }
      ]
    },
    {
      "cell_type": "code",
      "source": [
        "review9=\"\"\"the swimming pool has dirty water, it is very bad\"\"\"\n",
        "review_vector9 = vectorizer.transform([review9])\n",
        "print(classifier_linear.predict(review_vector9))"
      ],
      "metadata": {
        "id": "-dRxZgfBh1Yb",
        "colab": {
          "base_uri": "https://localhost:8080/"
        },
        "outputId": "cf16f76d-8080-46a6-b9d3-61aa740c063e"
      },
      "execution_count": null,
      "outputs": [
        {
          "output_type": "stream",
          "name": "stdout",
          "text": [
            "[0]\n"
          ]
        }
      ]
    },
    {
      "cell_type": "markdown",
      "source": [
        "Precision comparison"
      ],
      "metadata": {
        "id": "2tGMDsGIxa19"
      }
    },
    {
      "cell_type": "code",
      "source": [
        "import matplotlib.pyplot as plt\n",
        "barWidth = 0.25\n",
        "fig = plt.subplots(figsize =(10, 8))\n",
        "\n",
        "negative_all=[report_svm['0']['precision'],report_nb['0']['precision'],report_logi['0']['precision'],report_rand['0']['precision']]\n",
        "positive_all=[report_svm['1']['precision'],report_nb['1']['precision'],report_logi['1']['precision'],report_rand['1']['precision']]\n",
        "\n",
        "br1 = np.arange(len(negative_all))\n",
        "br2 = [x + barWidth for x in br1]\n",
        "\n",
        "plt.bar(br1, negative_all, color ='r', width = barWidth,\n",
        "        edgecolor ='grey', label ='negative')\n",
        "plt.bar(br2, positive_all, color ='g', width = barWidth,\n",
        "        edgecolor ='grey', label ='positive')\n",
        "\n",
        "plt.xlabel('Model', fontweight ='bold', fontsize = 15)\n",
        "plt.ylabel('Precision', fontweight ='bold', fontsize = 15)\n",
        "plt.xticks([r + barWidth for r in range(len(negative_all))],\n",
        "        ['SVM','Naive bayes','logistic regression','random forest'])\n",
        "\n",
        "plt.legend()\n",
        "plt.plot()"
      ],
      "metadata": {
        "colab": {
          "base_uri": "https://localhost:8080/",
          "height": 519
        },
        "id": "KJFtSxJYxafF",
        "outputId": "86d11bc9-986d-42ff-cc27-fc726443c622"
      },
      "execution_count": null,
      "outputs": [
        {
          "output_type": "execute_result",
          "data": {
            "text/plain": [
              "[]"
            ]
          },
          "metadata": {},
          "execution_count": 284
        },
        {
          "output_type": "display_data",
          "data": {
            "text/plain": [
              "<Figure size 720x576 with 1 Axes>"
            ],
            "image/png": "[encoded data removed]"
          },
          "metadata": {
            "needs_background": "light"
          }
        }
      ]
    },
    {
      "cell_type": "markdown",
      "source": [
        "LSTM"
      ],
      "metadata": {
        "id": "b3LD9SJbx3Ul"
      }
    },
    {
      "cell_type": "code",
      "source": [
        "text_with_0_1.head()"
      ],
      "metadata": {
        "colab": {
          "base_uri": "https://localhost:8080/",
          "height": 206
        },
        "id": "2ZuovZCYx4uh",
        "outputId": "76311a73-f2ff-48bc-a462-3a37399c38dd"
      },
      "execution_count": null,
      "outputs": [
        {
          "output_type": "execute_result",
          "data": {
            "text/plain": [
              "                                                text  label  \\\n",
              "0  i grew up (b. 1965) watching and loving the th...      0   \n",
              "1  when i put this movie in my dvd player, and sa...      0   \n",
              "2  why do people who do not know what a particula...      0   \n",
              "3  even though i have great interest in biblical ...      0   \n",
              "4  im a die hard dads army fan and nothing will e...      1   \n",
              "\n",
              "                                          text_token  \n",
              "0  [i, grew, up, (, b, ., 1965, ), watching, and,...  \n",
              "1  [when, i, put, this, movie, in, my, dvd, playe...  \n",
              "2  [why, do, people, who, do, not, know, what, a,...  \n",
              "3  [even, though, i, have, great, interest, in, b...  \n",
              "4  [im, a, die, hard, dads, army, fan, and, nothi...  "
            ],
            "text/html": [
              "\n",
              "  <div id=\"df-0b574240-fd21-4cda-b9de-395a531cfe1d\">\n",
              "    <div class=\"colab-df-container\">\n",
              "      <div>\n",
              "<style scoped>\n",
              "    .dataframe tbody tr th:only-of-type {\n",
              "        vertical-align: middle;\n",
              "    }\n",
              "\n",
              "    .dataframe tbody tr th {\n",
              "        vertical-align: top;\n",
              "    }\n",
              "\n",
              "    .dataframe thead th {\n",
              "        text-align: right;\n",
              "    }\n",
              "</style>\n",
              "<table border=\"1\" class=\"dataframe\">\n",
              "  <thead>\n",
              "    <tr style=\"text-align: right;\">\n",
              "      <th></th>\n",
              "      <th>text</th>\n",
              "      <th>label</th>\n",
              "      <th>text_token</th>\n",
              "    </tr>\n",
              "  </thead>\n",
              "  <tbody>\n",
              "    <tr>\n",
              "      <th>0</th>\n",
              "      <td>i grew up (b. 1965) watching and loving the th...</td>\n",
              "      <td>0</td>\n",
              "      <td>[i, grew, up, (, b, ., 1965, ), watching, and,...</td>\n",
              "    </tr>\n",
              "    <tr>\n",
              "      <th>1</th>\n",
              "      <td>when i put this movie in my dvd player, and sa...</td>\n",
              "      <td>0</td>\n",
              "      <td>[when, i, put, this, movie, in, my, dvd, playe...</td>\n",
              "    </tr>\n",
              "    <tr>\n",
              "      <th>2</th>\n",
              "      <td>why do people who do not know what a particula...</td>\n",
              "      <td>0</td>\n",
              "      <td>[why, do, people, who, do, not, know, what, a,...</td>\n",
              "    </tr>\n",
              "    <tr>\n",
              "      <th>3</th>\n",
              "      <td>even though i have great interest in biblical ...</td>\n",
              "      <td>0</td>\n",
              "      <td>[even, though, i, have, great, interest, in, b...</td>\n",
              "    </tr>\n",
              "    <tr>\n",
              "      <th>4</th>\n",
              "      <td>im a die hard dads army fan and nothing will e...</td>\n",
              "      <td>1</td>\n",
              "      <td>[im, a, die, hard, dads, army, fan, and, nothi...</td>\n",
              "    </tr>\n",
              "  </tbody>\n",
              "</table>\n",
              "</div>\n",
              "      <button class=\"colab-df-convert\" onclick=\"convertToInteractive('df-0b574240-fd21-4cda-b9de-395a531cfe1d')\"\n",
              "              title=\"Convert this dataframe to an interactive table.\"\n",
              "              style=\"display:none;\">\n",
              "        \n",
              "  <svg xmlns=\"http://www.w3.org/2000/svg\" height=\"24px\"viewBox=\"0 0 24 24\"\n",
              "       width=\"24px\">\n",
              "    <path d=\"M0 0h24v24H0V0z\" fill=\"none\"/>\n",
              "    <path d=\"M18.56 5.44l.94 2.06.94-2.06 2.06-.94-2.06-.94-.94-2.06-.94 2.06-2.06.94zm-11 1L8.5 8.5l.94-2.06 2.06-.94-2.06-.94L8.5 2.5l-.94 2.06-2.06.94zm10 10l.94 2.06.94-2.06 2.06-.94-2.06-.94-.94-2.06-.94 2.06-2.06.94z\"/><path d=\"M17.41 7.96l-1.37-1.37c-.4-.4-.92-.59-1.43-.59-.52 0-1.04.2-1.43.59L10.3 9.45l-7.72 7.72c-.78.78-.78 2.05 0 2.83L4 21.41c.39.39.9.59 1.41.59.51 0 1.02-.2 1.41-.59l7.78-7.78 2.81-2.81c.8-.78.8-2.07 0-2.86zM5.41 20L4 18.59l7.72-7.72 1.47 1.35L5.41 20z\"/>\n",
              "  </svg>\n",
              "      </button>\n",
              "      \n",
              "  <style>\n",
              "    .colab-df-container {\n",
              "      display:flex;\n",
              "      flex-wrap:wrap;\n",
              "      gap: 12px;\n",
              "    }\n",
              "\n",
              "    .colab-df-convert {\n",
              "      background-color: #E8F0FE;\n",
              "      border: none;\n",
              "      border-radius: 50%;\n",
              "      cursor: pointer;\n",
              "      display: none;\n",
              "      fill: #1967D2;\n",
              "      height: 32px;\n",
              "      padding: 0 0 0 0;\n",
              "      width: 32px;\n",
              "    }\n",
              "\n",
              "    .colab-df-convert:hover {\n",
              "      background-color: #E2EBFA;\n",
              "      box-shadow: 0px 1px 2px rgba(60, 64, 67, 0.3), 0px 1px 3px 1px rgba(60, 64, 67, 0.15);\n",
              "      fill: #174EA6;\n",
              "    }\n",
              "\n",
              "    [theme=dark] .colab-df-convert {\n",
              "      background-color: #3B4455;\n",
              "      fill: #D2E3FC;\n",
              "    }\n",
              "\n",
              "    [theme=dark] .colab-df-convert:hover {\n",
              "      background-color: #434B5C;\n",
              "      box-shadow: 0px 1px 3px 1px rgba(0, 0, 0, 0.15);\n",
              "      filter: drop-shadow(0px 1px 2px rgba(0, 0, 0, 0.3));\n",
              "      fill: #FFFFFF;\n",
              "    }\n",
              "  </style>\n",
              "\n",
              "      <script>\n",
              "        const buttonEl =\n",
              "          document.querySelector('#df-0b574240-fd21-4cda-b9de-395a531cfe1d button.colab-df-convert');\n",
              "        buttonEl.style.display =\n",
              "          google.colab.kernel.accessAllowed ? 'block' : 'none';\n",
              "\n",
              "        async function convertToInteractive(key) {\n",
              "          const element = document.querySelector('#df-0b574240-fd21-4cda-b9de-395a531cfe1d');\n",
              "          const dataTable =\n",
              "            await google.colab.kernel.invokeFunction('convertToInteractive',\n",
              "                                                     [key], {});\n",
              "          if (!dataTable) return;\n",
              "\n",
              "          const docLinkHtml = 'Like what you see? Visit the ' +\n",
              "            '<a target=\"_blank\" href=https://colab.research.google.com/notebooks/data_table.ipynb>data table notebook</a>'\n",
              "            + ' to learn more about interactive tables.';\n",
              "          element.innerHTML = '';\n",
              "          dataTable['output_type'] = 'display_data';\n",
              "          await google.colab.output.renderOutput(dataTable, element);\n",
              "          const docLink = document.createElement('div');\n",
              "          docLink.innerHTML = docLinkHtml;\n",
              "          element.appendChild(docLink);\n",
              "        }\n",
              "      </script>\n",
              "    </div>\n",
              "  </div>\n",
              "  "
            ]
          },
          "metadata": {},
          "execution_count": 398
        }
      ]
    },
    {
      "cell_type": "code",
      "source": [
        "text_data=text_with_0_1['text'].values\n",
        "label_data=text_with_0_1['label'].values"
      ],
      "metadata": {
        "id": "NeEoftNcx4rY"
      },
      "execution_count": null,
      "outputs": []
    },
    {
      "cell_type": "code",
      "source": [
        "train_sentences, test_sentences, train_labels, test_labels = train_test_split(text_data, label_data, stratify = label_data)"
      ],
      "metadata": {
        "id": "vSng6Go7x4oV"
      },
      "execution_count": null,
      "outputs": []
    },
    {
      "cell_type": "code",
      "source": [
        "vocab_size = 3000 \n",
        "oov_tok = ''\n",
        "embedding_dim = 100\n",
        "max_length = 200 \n",
        "padding_type='post'\n",
        "trunc_type='post'\n",
        "tokenizer = Tokenizer(num_words = vocab_size, oov_token=oov_tok)\n",
        "tokenizer.fit_on_texts(train_sentences)\n",
        "word_index = tokenizer.word_index\n",
        "train_sequences = tokenizer.texts_to_sequences(train_sentences)\n",
        "train_padded = pad_sequences(train_sequences, padding='post', maxlen=max_length)\n",
        "test_sequences = tokenizer.texts_to_sequences(test_sentences)\n",
        "test_padded = pad_sequences(test_sequences, padding='post', maxlen=max_length)"
      ],
      "metadata": {
        "id": "UvaQ6oNAx4l1"
      },
      "execution_count": null,
      "outputs": []
    },
    {
      "cell_type": "code",
      "source": [
        "model = keras.Sequential([\n",
        "    keras.layers.Embedding(vocab_size, embedding_dim, input_length=max_length),\n",
        "    keras.layers.Bidirectional(keras.layers.LSTM(64)),\n",
        "    keras.layers.Dense(24, activation='relu'),\n",
        "    keras.layers.Dense(1, activation='sigmoid')\n",
        "])\n",
        "model.compile(loss='binary_crossentropy',\n",
        "              optimizer='adam',\n",
        "              metrics=['accuracy'])\n",
        "model.summary()"
      ],
      "metadata": {
        "id": "ZZO9Bxu0zJrk",
        "colab": {
          "base_uri": "https://localhost:8080/"
        },
        "outputId": "f7a4e572-651b-4b6d-87c9-c23fe718c843"
      },
      "execution_count": null,
      "outputs": [
        {
          "output_type": "stream",
          "name": "stdout",
          "text": [
            "Model: \"sequential_3\"\n",
            "_________________________________________________________________\n",
            " Layer (type)                Output Shape              Param #   \n",
            "=================================================================\n",
            " embedding_8 (Embedding)     (None, 200, 100)          300000    \n",
            "                                                                 \n",
            " bidirectional_3 (Bidirectio  (None, 128)              84480     \n",
            " nal)                                                            \n",
            "                                                                 \n",
            " dense_13 (Dense)            (None, 24)                3096      \n",
            "                                                                 \n",
            " dense_14 (Dense)            (None, 1)                 25        \n",
            "                                                                 \n",
            "=================================================================\n",
            "Total params: 387,601\n",
            "Trainable params: 387,601\n",
            "Non-trainable params: 0\n",
            "_________________________________________________________________\n"
          ]
        }
      ]
    },
    {
      "cell_type": "code",
      "source": [
        "num_epochs = 5\n",
        "history = model.fit(train_padded, train_labels, \n",
        "                    epochs=num_epochs, verbose=1, \n",
        "                    validation_split=0.1)"
      ],
      "metadata": {
        "colab": {
          "base_uri": "https://localhost:8080/"
        },
        "id": "4ZgzYRHXzJop",
        "outputId": "08ec1e28-12ef-4d51-de72-9bba315a4d55"
      },
      "execution_count": null,
      "outputs": [
        {
          "output_type": "stream",
          "name": "stdout",
          "text": [
            "Epoch 1/5\n",
            "844/844 [==============================] - 256s 297ms/step - loss: 0.4546 - accuracy: 0.7861 - val_loss: 0.3881 - val_accuracy: 0.8200\n",
            "Epoch 2/5\n",
            "844/844 [==============================] - 212s 251ms/step - loss: 0.3130 - accuracy: 0.8741 - val_loss: 0.3501 - val_accuracy: 0.8570\n",
            "Epoch 3/5\n",
            "844/844 [==============================] - 214s 254ms/step - loss: 0.2596 - accuracy: 0.8959 - val_loss: 0.3184 - val_accuracy: 0.8677\n",
            "Epoch 4/5\n",
            "844/844 [==============================] - 211s 250ms/step - loss: 0.2474 - accuracy: 0.9033 - val_loss: 0.3561 - val_accuracy: 0.8643\n",
            "Epoch 5/5\n",
            "844/844 [==============================] - 212s 251ms/step - loss: 0.2063 - accuracy: 0.9211 - val_loss: 0.3248 - val_accuracy: 0.8600\n"
          ]
        }
      ]
    },
    {
      "cell_type": "code",
      "source": [
        "prediction = model.predict(test_padded)\n",
        "# Get labels based on probability 1 if p>= 0.5 else 0\n",
        "pred_labels = []\n",
        "for i in prediction:\n",
        "    if i >= 0.5:\n",
        "        pred_labels.append(1)\n",
        "    else:\n",
        "        pred_labels.append(0)\n",
        "lstm1=accuracy_score(test_labels,pred_labels)\n",
        "print(\"Accuracy of prediction on test set : \", lstm1)"
      ],
      "metadata": {
        "id": "jqXiYVY3zJmy",
        "colab": {
          "base_uri": "https://localhost:8080/"
        },
        "outputId": "de2cdf52-5fc2-47ae-bae6-b1b5ab81c05c"
      },
      "execution_count": null,
      "outputs": [
        {
          "output_type": "stream",
          "name": "stdout",
          "text": [
            "Accuracy of prediction on test set :  0.8687\n"
          ]
        }
      ]
    },
    {
      "cell_type": "code",
      "source": [
        "sentence = [\"The movie was very touching and heart whelming\", \n",
        "            \"I have never seen a terrible movie like this\", \n",
        "            \"the movie plot is terrible but it had good acting\"]\n",
        "sequences = tokenizer.texts_to_sequences(sentence)\n",
        "padded = pad_sequences(sequences, padding='post', maxlen=max_length)\n",
        "prediction = model.predict(padded)\n",
        "pred_labels = []\n",
        "for i in prediction:\n",
        "    if i >= 0.5:\n",
        "        pred_labels.append(1)\n",
        "    else:\n",
        "        pred_labels.append(0)\n",
        "for i in range(len(sentence)):\n",
        "    print(sentence[i])\n",
        "    if pred_labels[i] == 1:\n",
        "        s = 'Positive'\n",
        "    else:\n",
        "        s = 'Negative'\n",
        "    print(\"Predicted sentiment : \",s)"
      ],
      "metadata": {
        "id": "YfIGCFfwzJjQ",
        "colab": {
          "base_uri": "https://localhost:8080/"
        },
        "outputId": "78893e52-73ea-476d-8a14-6e39825ac93a"
      },
      "execution_count": null,
      "outputs": [
        {
          "output_type": "stream",
          "name": "stdout",
          "text": [
            "The movie was very touching and heart whelming\n",
            "Predicted sentiment :  Positive\n",
            "I have never seen a terrible movie like this\n",
            "Predicted sentiment :  Negative\n",
            "the movie plot is terrible but it had good acting\n",
            "Predicted sentiment :  Negative\n"
          ]
        }
      ]
    },
    {
      "cell_type": "markdown",
      "source": [
        "Dataset 1 summary\n",
        "ML and deep learning models provide  precison on this dataset in the range \n",
        "*   88.88-96.56 for negative class\n",
        "*   87.30-96.08 for positice class\n",
        "\n"
      ],
      "metadata": {
        "id": "85TyB1sCib-7"
      }
    },
    {
      "cell_type": "markdown",
      "source": [
        "Anxious dataset"
      ],
      "metadata": {
        "id": "PZmTC1q-dOs0"
      }
    },
    {
      "cell_type": "code",
      "execution_count": null,
      "metadata": {
        "colab": {
          "base_uri": "https://localhost:8080/",
          "height": 206
        },
        "id": "uQKWLwOYDOTN",
        "outputId": "bd5e259c-6177-4b29-c549-1af3e42f1376"
      },
      "outputs": [
        {
          "output_type": "execute_result",
          "data": {
            "text/plain": [
              "   Unnamed: 0                                                  0\n",
              "0         0.0  alone time precious love alone want spend time...\n",
              "1         1.0  wanna vent dont feel safe venting cause right ...\n",
              "2         2.0  shit brings back cause know love care even fee...\n",
              "3         3.0  tweet purely afraid go lonely nigga dont like ...\n",
              "4         4.0  im gonna take shower im sure help calm know ca..."
            ],
            "text/html": [
              "\n",
              "  <div id=\"df-b6c0f958-f1af-4659-94d7-972e7468cb03\">\n",
              "    <div class=\"colab-df-container\">\n",
              "      <div>\n",
              "<style scoped>\n",
              "    .dataframe tbody tr th:only-of-type {\n",
              "        vertical-align: middle;\n",
              "    }\n",
              "\n",
              "    .dataframe tbody tr th {\n",
              "        vertical-align: top;\n",
              "    }\n",
              "\n",
              "    .dataframe thead th {\n",
              "        text-align: right;\n",
              "    }\n",
              "</style>\n",
              "<table border=\"1\" class=\"dataframe\">\n",
              "  <thead>\n",
              "    <tr style=\"text-align: right;\">\n",
              "      <th></th>\n",
              "      <th>Unnamed: 0</th>\n",
              "      <th>0</th>\n",
              "    </tr>\n",
              "  </thead>\n",
              "  <tbody>\n",
              "    <tr>\n",
              "      <th>0</th>\n",
              "      <td>0.0</td>\n",
              "      <td>alone time precious love alone want spend time...</td>\n",
              "    </tr>\n",
              "    <tr>\n",
              "      <th>1</th>\n",
              "      <td>1.0</td>\n",
              "      <td>wanna vent dont feel safe venting cause right ...</td>\n",
              "    </tr>\n",
              "    <tr>\n",
              "      <th>2</th>\n",
              "      <td>2.0</td>\n",
              "      <td>shit brings back cause know love care even fee...</td>\n",
              "    </tr>\n",
              "    <tr>\n",
              "      <th>3</th>\n",
              "      <td>3.0</td>\n",
              "      <td>tweet purely afraid go lonely nigga dont like ...</td>\n",
              "    </tr>\n",
              "    <tr>\n",
              "      <th>4</th>\n",
              "      <td>4.0</td>\n",
              "      <td>im gonna take shower im sure help calm know ca...</td>\n",
              "    </tr>\n",
              "  </tbody>\n",
              "</table>\n",
              "</div>\n",
              "      <button class=\"colab-df-convert\" onclick=\"convertToInteractive('df-b6c0f958-f1af-4659-94d7-972e7468cb03')\"\n",
              "              title=\"Convert this dataframe to an interactive table.\"\n",
              "              style=\"display:none;\">\n",
              "        \n",
              "  <svg xmlns=\"http://www.w3.org/2000/svg\" height=\"24px\"viewBox=\"0 0 24 24\"\n",
              "       width=\"24px\">\n",
              "    <path d=\"M0 0h24v24H0V0z\" fill=\"none\"/>\n",
              "    <path d=\"M18.56 5.44l.94 2.06.94-2.06 2.06-.94-2.06-.94-.94-2.06-.94 2.06-2.06.94zm-11 1L8.5 8.5l.94-2.06 2.06-.94-2.06-.94L8.5 2.5l-.94 2.06-2.06.94zm10 10l.94 2.06.94-2.06 2.06-.94-2.06-.94-.94-2.06-.94 2.06-2.06.94z\"/><path d=\"M17.41 7.96l-1.37-1.37c-.4-.4-.92-.59-1.43-.59-.52 0-1.04.2-1.43.59L10.3 9.45l-7.72 7.72c-.78.78-.78 2.05 0 2.83L4 21.41c.39.39.9.59 1.41.59.51 0 1.02-.2 1.41-.59l7.78-7.78 2.81-2.81c.8-.78.8-2.07 0-2.86zM5.41 20L4 18.59l7.72-7.72 1.47 1.35L5.41 20z\"/>\n",
              "  </svg>\n",
              "      </button>\n",
              "      \n",
              "  <style>\n",
              "    .colab-df-container {\n",
              "      display:flex;\n",
              "      flex-wrap:wrap;\n",
              "      gap: 12px;\n",
              "    }\n",
              "\n",
              "    .colab-df-convert {\n",
              "      background-color: #E8F0FE;\n",
              "      border: none;\n",
              "      border-radius: 50%;\n",
              "      cursor: pointer;\n",
              "      display: none;\n",
              "      fill: #1967D2;\n",
              "      height: 32px;\n",
              "      padding: 0 0 0 0;\n",
              "      width: 32px;\n",
              "    }\n",
              "\n",
              "    .colab-df-convert:hover {\n",
              "      background-color: #E2EBFA;\n",
              "      box-shadow: 0px 1px 2px rgba(60, 64, 67, 0.3), 0px 1px 3px 1px rgba(60, 64, 67, 0.15);\n",
              "      fill: #174EA6;\n",
              "    }\n",
              "\n",
              "    [theme=dark] .colab-df-convert {\n",
              "      background-color: #3B4455;\n",
              "      fill: #D2E3FC;\n",
              "    }\n",
              "\n",
              "    [theme=dark] .colab-df-convert:hover {\n",
              "      background-color: #434B5C;\n",
              "      box-shadow: 0px 1px 3px 1px rgba(0, 0, 0, 0.15);\n",
              "      filter: drop-shadow(0px 1px 2px rgba(0, 0, 0, 0.3));\n",
              "      fill: #FFFFFF;\n",
              "    }\n",
              "  </style>\n",
              "\n",
              "      <script>\n",
              "        const buttonEl =\n",
              "          document.querySelector('#df-b6c0f958-f1af-4659-94d7-972e7468cb03 button.colab-df-convert');\n",
              "        buttonEl.style.display =\n",
              "          google.colab.kernel.accessAllowed ? 'block' : 'none';\n",
              "\n",
              "        async function convertToInteractive(key) {\n",
              "          const element = document.querySelector('#df-b6c0f958-f1af-4659-94d7-972e7468cb03');\n",
              "          const dataTable =\n",
              "            await google.colab.kernel.invokeFunction('convertToInteractive',\n",
              "                                                     [key], {});\n",
              "          if (!dataTable) return;\n",
              "\n",
              "          const docLinkHtml = 'Like what you see? Visit the ' +\n",
              "            '<a target=\"_blank\" href=https://colab.research.google.com/notebooks/data_table.ipynb>data table notebook</a>'\n",
              "            + ' to learn more about interactive tables.';\n",
              "          element.innerHTML = '';\n",
              "          dataTable['output_type'] = 'display_data';\n",
              "          await google.colab.output.renderOutput(dataTable, element);\n",
              "          const docLink = document.createElement('div');\n",
              "          docLink.innerHTML = docLinkHtml;\n",
              "          element.appendChild(docLink);\n",
              "        }\n",
              "      </script>\n",
              "    </div>\n",
              "  </div>\n",
              "  "
            ]
          },
          "metadata": {},
          "execution_count": 402
        }
      ],
      "source": [
        "anxious_texts.head()"
      ]
    },
    {
      "cell_type": "code",
      "execution_count": null,
      "metadata": {
        "colab": {
          "base_uri": "https://localhost:8080/"
        },
        "id": "p2wsvaqVXs7-",
        "outputId": "56e0c973-6bb1-478a-af46-c2390ae3cd5b"
      },
      "outputs": [
        {
          "output_type": "execute_result",
          "data": {
            "text/plain": [
              "Index(['Unnamed: 0', '0'], dtype='object')"
            ]
          },
          "metadata": {},
          "execution_count": 403
        }
      ],
      "source": [
        "anxious_texts.columns"
      ]
    },
    {
      "cell_type": "code",
      "execution_count": null,
      "metadata": {
        "id": "pY1-OZk_Xb7Q"
      },
      "outputs": [],
      "source": [
        "anxious_texts.drop('Unnamed: 0', axis=1, inplace=True)\n",
        "anxious_texts.rename(columns={'0':\"text\"},inplace =True)"
      ]
    },
    {
      "cell_type": "code",
      "source": [
        "for i in range(len(anxious_texts['text'])):\n",
        "  anxious_texts['text'][i]=anxious_texts['text'][i].lower()\n",
        "  re.sub('[^A-Za-z0-9]+', '', anxious_texts['text'][i])"
      ],
      "metadata": {
        "id": "SOPt9A-ySd9W"
      },
      "execution_count": null,
      "outputs": []
    },
    {
      "cell_type": "code",
      "execution_count": null,
      "metadata": {
        "id": "BKUH6CDhJpWF"
      },
      "outputs": [],
      "source": [
        "anx=[]\n",
        "for i in range(len(anxious_texts)):\n",
        "  anx.append('anxious')\n",
        "\n",
        "anxious_texts['label']=anx"
      ]
    },
    {
      "cell_type": "code",
      "source": [
        "anxious_texts.head()"
      ],
      "metadata": {
        "colab": {
          "base_uri": "https://localhost:8080/",
          "height": 206
        },
        "id": "CFaxADSjRtRK",
        "outputId": "ccee4cb9-30d6-43fc-de82-c09119df7d69"
      },
      "execution_count": null,
      "outputs": [
        {
          "output_type": "execute_result",
          "data": {
            "text/plain": [
              "                                                text    label\n",
              "0  alone time precious love alone want spend time...  anxious\n",
              "1  wanna vent dont feel safe venting cause right ...  anxious\n",
              "2  shit brings back cause know love care even fee...  anxious\n",
              "3  tweet purely afraid go lonely nigga dont like ...  anxious\n",
              "4  im gonna take shower im sure help calm know ca...  anxious"
            ],
            "text/html": [
              "\n",
              "  <div id=\"df-a5ba1974-5a05-469f-b7ed-936f291afbfd\">\n",
              "    <div class=\"colab-df-container\">\n",
              "      <div>\n",
              "<style scoped>\n",
              "    .dataframe tbody tr th:only-of-type {\n",
              "        vertical-align: middle;\n",
              "    }\n",
              "\n",
              "    .dataframe tbody tr th {\n",
              "        vertical-align: top;\n",
              "    }\n",
              "\n",
              "    .dataframe thead th {\n",
              "        text-align: right;\n",
              "    }\n",
              "</style>\n",
              "<table border=\"1\" class=\"dataframe\">\n",
              "  <thead>\n",
              "    <tr style=\"text-align: right;\">\n",
              "      <th></th>\n",
              "      <th>text</th>\n",
              "      <th>label</th>\n",
              "    </tr>\n",
              "  </thead>\n",
              "  <tbody>\n",
              "    <tr>\n",
              "      <th>0</th>\n",
              "      <td>alone time precious love alone want spend time...</td>\n",
              "      <td>anxious</td>\n",
              "    </tr>\n",
              "    <tr>\n",
              "      <th>1</th>\n",
              "      <td>wanna vent dont feel safe venting cause right ...</td>\n",
              "      <td>anxious</td>\n",
              "    </tr>\n",
              "    <tr>\n",
              "      <th>2</th>\n",
              "      <td>shit brings back cause know love care even fee...</td>\n",
              "      <td>anxious</td>\n",
              "    </tr>\n",
              "    <tr>\n",
              "      <th>3</th>\n",
              "      <td>tweet purely afraid go lonely nigga dont like ...</td>\n",
              "      <td>anxious</td>\n",
              "    </tr>\n",
              "    <tr>\n",
              "      <th>4</th>\n",
              "      <td>im gonna take shower im sure help calm know ca...</td>\n",
              "      <td>anxious</td>\n",
              "    </tr>\n",
              "  </tbody>\n",
              "</table>\n",
              "</div>\n",
              "      <button class=\"colab-df-convert\" onclick=\"convertToInteractive('df-a5ba1974-5a05-469f-b7ed-936f291afbfd')\"\n",
              "              title=\"Convert this dataframe to an interactive table.\"\n",
              "              style=\"display:none;\">\n",
              "        \n",
              "  <svg xmlns=\"http://www.w3.org/2000/svg\" height=\"24px\"viewBox=\"0 0 24 24\"\n",
              "       width=\"24px\">\n",
              "    <path d=\"M0 0h24v24H0V0z\" fill=\"none\"/>\n",
              "    <path d=\"M18.56 5.44l.94 2.06.94-2.06 2.06-.94-2.06-.94-.94-2.06-.94 2.06-2.06.94zm-11 1L8.5 8.5l.94-2.06 2.06-.94-2.06-.94L8.5 2.5l-.94 2.06-2.06.94zm10 10l.94 2.06.94-2.06 2.06-.94-2.06-.94-.94-2.06-.94 2.06-2.06.94z\"/><path d=\"M17.41 7.96l-1.37-1.37c-.4-.4-.92-.59-1.43-.59-.52 0-1.04.2-1.43.59L10.3 9.45l-7.72 7.72c-.78.78-.78 2.05 0 2.83L4 21.41c.39.39.9.59 1.41.59.51 0 1.02-.2 1.41-.59l7.78-7.78 2.81-2.81c.8-.78.8-2.07 0-2.86zM5.41 20L4 18.59l7.72-7.72 1.47 1.35L5.41 20z\"/>\n",
              "  </svg>\n",
              "      </button>\n",
              "      \n",
              "  <style>\n",
              "    .colab-df-container {\n",
              "      display:flex;\n",
              "      flex-wrap:wrap;\n",
              "      gap: 12px;\n",
              "    }\n",
              "\n",
              "    .colab-df-convert {\n",
              "      background-color: #E8F0FE;\n",
              "      border: none;\n",
              "      border-radius: 50%;\n",
              "      cursor: pointer;\n",
              "      display: none;\n",
              "      fill: #1967D2;\n",
              "      height: 32px;\n",
              "      padding: 0 0 0 0;\n",
              "      width: 32px;\n",
              "    }\n",
              "\n",
              "    .colab-df-convert:hover {\n",
              "      background-color: #E2EBFA;\n",
              "      box-shadow: 0px 1px 2px rgba(60, 64, 67, 0.3), 0px 1px 3px 1px rgba(60, 64, 67, 0.15);\n",
              "      fill: #174EA6;\n",
              "    }\n",
              "\n",
              "    [theme=dark] .colab-df-convert {\n",
              "      background-color: #3B4455;\n",
              "      fill: #D2E3FC;\n",
              "    }\n",
              "\n",
              "    [theme=dark] .colab-df-convert:hover {\n",
              "      background-color: #434B5C;\n",
              "      box-shadow: 0px 1px 3px 1px rgba(0, 0, 0, 0.15);\n",
              "      filter: drop-shadow(0px 1px 2px rgba(0, 0, 0, 0.3));\n",
              "      fill: #FFFFFF;\n",
              "    }\n",
              "  </style>\n",
              "\n",
              "      <script>\n",
              "        const buttonEl =\n",
              "          document.querySelector('#df-a5ba1974-5a05-469f-b7ed-936f291afbfd button.colab-df-convert');\n",
              "        buttonEl.style.display =\n",
              "          google.colab.kernel.accessAllowed ? 'block' : 'none';\n",
              "\n",
              "        async function convertToInteractive(key) {\n",
              "          const element = document.querySelector('#df-a5ba1974-5a05-469f-b7ed-936f291afbfd');\n",
              "          const dataTable =\n",
              "            await google.colab.kernel.invokeFunction('convertToInteractive',\n",
              "                                                     [key], {});\n",
              "          if (!dataTable) return;\n",
              "\n",
              "          const docLinkHtml = 'Like what you see? Visit the ' +\n",
              "            '<a target=\"_blank\" href=https://colab.research.google.com/notebooks/data_table.ipynb>data table notebook</a>'\n",
              "            + ' to learn more about interactive tables.';\n",
              "          element.innerHTML = '';\n",
              "          dataTable['output_type'] = 'display_data';\n",
              "          await google.colab.output.renderOutput(dataTable, element);\n",
              "          const docLink = document.createElement('div');\n",
              "          docLink.innerHTML = docLinkHtml;\n",
              "          element.appendChild(docLink);\n",
              "        }\n",
              "      </script>\n",
              "    </div>\n",
              "  </div>\n",
              "  "
            ]
          },
          "metadata": {},
          "execution_count": 407
        }
      ]
    },
    {
      "cell_type": "code",
      "source": [
        "anxious_texts.shape"
      ],
      "metadata": {
        "colab": {
          "base_uri": "https://localhost:8080/"
        },
        "id": "b6Dk6vXBefU3",
        "outputId": "4773044c-8c15-445d-cf0e-4e7132bba22e"
      },
      "execution_count": null,
      "outputs": [
        {
          "output_type": "execute_result",
          "data": {
            "text/plain": [
              "(10509, 2)"
            ]
          },
          "metadata": {},
          "execution_count": 408
        }
      ]
    },
    {
      "cell_type": "markdown",
      "source": [
        "Lonely dataset"
      ],
      "metadata": {
        "id": "2GgtEXFKdRWG"
      }
    },
    {
      "cell_type": "code",
      "execution_count": null,
      "metadata": {
        "colab": {
          "base_uri": "https://localhost:8080/",
          "height": 206
        },
        "id": "zjAIrSEwD4vm",
        "outputId": "357dd948-9d10-4e21-9184-64eed7731064"
      },
      "outputs": [
        {
          "output_type": "execute_result",
          "data": {
            "text/plain": [
              "   Unnamed: 0                                                  0\n",
              "0         0.0  alone time precious love alone want spend time...\n",
              "1         1.0  wanna vent dont feel safe venting cause right ...\n",
              "2         2.0  shit brings back cause know love care even fee...\n",
              "3         3.0  tweet purely afraid go lonely nigga dont like ...\n",
              "4         4.0  im gonna take shower im sure help calm know ca..."
            ],
            "text/html": [
              "\n",
              "  <div id=\"df-af921622-c26e-4d5e-b40e-3d27991e65e8\">\n",
              "    <div class=\"colab-df-container\">\n",
              "      <div>\n",
              "<style scoped>\n",
              "    .dataframe tbody tr th:only-of-type {\n",
              "        vertical-align: middle;\n",
              "    }\n",
              "\n",
              "    .dataframe tbody tr th {\n",
              "        vertical-align: top;\n",
              "    }\n",
              "\n",
              "    .dataframe thead th {\n",
              "        text-align: right;\n",
              "    }\n",
              "</style>\n",
              "<table border=\"1\" class=\"dataframe\">\n",
              "  <thead>\n",
              "    <tr style=\"text-align: right;\">\n",
              "      <th></th>\n",
              "      <th>Unnamed: 0</th>\n",
              "      <th>0</th>\n",
              "    </tr>\n",
              "  </thead>\n",
              "  <tbody>\n",
              "    <tr>\n",
              "      <th>0</th>\n",
              "      <td>0.0</td>\n",
              "      <td>alone time precious love alone want spend time...</td>\n",
              "    </tr>\n",
              "    <tr>\n",
              "      <th>1</th>\n",
              "      <td>1.0</td>\n",
              "      <td>wanna vent dont feel safe venting cause right ...</td>\n",
              "    </tr>\n",
              "    <tr>\n",
              "      <th>2</th>\n",
              "      <td>2.0</td>\n",
              "      <td>shit brings back cause know love care even fee...</td>\n",
              "    </tr>\n",
              "    <tr>\n",
              "      <th>3</th>\n",
              "      <td>3.0</td>\n",
              "      <td>tweet purely afraid go lonely nigga dont like ...</td>\n",
              "    </tr>\n",
              "    <tr>\n",
              "      <th>4</th>\n",
              "      <td>4.0</td>\n",
              "      <td>im gonna take shower im sure help calm know ca...</td>\n",
              "    </tr>\n",
              "  </tbody>\n",
              "</table>\n",
              "</div>\n",
              "      <button class=\"colab-df-convert\" onclick=\"convertToInteractive('df-af921622-c26e-4d5e-b40e-3d27991e65e8')\"\n",
              "              title=\"Convert this dataframe to an interactive table.\"\n",
              "              style=\"display:none;\">\n",
              "        \n",
              "  <svg xmlns=\"http://www.w3.org/2000/svg\" height=\"24px\"viewBox=\"0 0 24 24\"\n",
              "       width=\"24px\">\n",
              "    <path d=\"M0 0h24v24H0V0z\" fill=\"none\"/>\n",
              "    <path d=\"M18.56 5.44l.94 2.06.94-2.06 2.06-.94-2.06-.94-.94-2.06-.94 2.06-2.06.94zm-11 1L8.5 8.5l.94-2.06 2.06-.94-2.06-.94L8.5 2.5l-.94 2.06-2.06.94zm10 10l.94 2.06.94-2.06 2.06-.94-2.06-.94-.94-2.06-.94 2.06-2.06.94z\"/><path d=\"M17.41 7.96l-1.37-1.37c-.4-.4-.92-.59-1.43-.59-.52 0-1.04.2-1.43.59L10.3 9.45l-7.72 7.72c-.78.78-.78 2.05 0 2.83L4 21.41c.39.39.9.59 1.41.59.51 0 1.02-.2 1.41-.59l7.78-7.78 2.81-2.81c.8-.78.8-2.07 0-2.86zM5.41 20L4 18.59l7.72-7.72 1.47 1.35L5.41 20z\"/>\n",
              "  </svg>\n",
              "      </button>\n",
              "      \n",
              "  <style>\n",
              "    .colab-df-container {\n",
              "      display:flex;\n",
              "      flex-wrap:wrap;\n",
              "      gap: 12px;\n",
              "    }\n",
              "\n",
              "    .colab-df-convert {\n",
              "      background-color: #E8F0FE;\n",
              "      border: none;\n",
              "      border-radius: 50%;\n",
              "      cursor: pointer;\n",
              "      display: none;\n",
              "      fill: #1967D2;\n",
              "      height: 32px;\n",
              "      padding: 0 0 0 0;\n",
              "      width: 32px;\n",
              "    }\n",
              "\n",
              "    .colab-df-convert:hover {\n",
              "      background-color: #E2EBFA;\n",
              "      box-shadow: 0px 1px 2px rgba(60, 64, 67, 0.3), 0px 1px 3px 1px rgba(60, 64, 67, 0.15);\n",
              "      fill: #174EA6;\n",
              "    }\n",
              "\n",
              "    [theme=dark] .colab-df-convert {\n",
              "      background-color: #3B4455;\n",
              "      fill: #D2E3FC;\n",
              "    }\n",
              "\n",
              "    [theme=dark] .colab-df-convert:hover {\n",
              "      background-color: #434B5C;\n",
              "      box-shadow: 0px 1px 3px 1px rgba(0, 0, 0, 0.15);\n",
              "      filter: drop-shadow(0px 1px 2px rgba(0, 0, 0, 0.3));\n",
              "      fill: #FFFFFF;\n",
              "    }\n",
              "  </style>\n",
              "\n",
              "      <script>\n",
              "        const buttonEl =\n",
              "          document.querySelector('#df-af921622-c26e-4d5e-b40e-3d27991e65e8 button.colab-df-convert');\n",
              "        buttonEl.style.display =\n",
              "          google.colab.kernel.accessAllowed ? 'block' : 'none';\n",
              "\n",
              "        async function convertToInteractive(key) {\n",
              "          const element = document.querySelector('#df-af921622-c26e-4d5e-b40e-3d27991e65e8');\n",
              "          const dataTable =\n",
              "            await google.colab.kernel.invokeFunction('convertToInteractive',\n",
              "                                                     [key], {});\n",
              "          if (!dataTable) return;\n",
              "\n",
              "          const docLinkHtml = 'Like what you see? Visit the ' +\n",
              "            '<a target=\"_blank\" href=https://colab.research.google.com/notebooks/data_table.ipynb>data table notebook</a>'\n",
              "            + ' to learn more about interactive tables.';\n",
              "          element.innerHTML = '';\n",
              "          dataTable['output_type'] = 'display_data';\n",
              "          await google.colab.output.renderOutput(dataTable, element);\n",
              "          const docLink = document.createElement('div');\n",
              "          docLink.innerHTML = docLinkHtml;\n",
              "          element.appendChild(docLink);\n",
              "        }\n",
              "      </script>\n",
              "    </div>\n",
              "  </div>\n",
              "  "
            ]
          },
          "metadata": {},
          "execution_count": 409
        }
      ],
      "source": [
        "lonely_texts.head()"
      ]
    },
    {
      "cell_type": "code",
      "execution_count": null,
      "metadata": {
        "id": "2lOHKNgJYHBx"
      },
      "outputs": [],
      "source": [
        "lonely_texts.drop('Unnamed: 0', axis=1, inplace=True)\n",
        "lonely_texts.rename(columns={'0':\"text\"},inplace =True)"
      ]
    },
    {
      "cell_type": "code",
      "source": [
        "for i in range(len(lonely_texts['text'])):\n",
        "  lonely_texts['text'][i]=lonely_texts['text'][i].lower()\n",
        "  re.sub('[^A-Za-z0-9]+', '', lonely_texts['text'][i])"
      ],
      "metadata": {
        "id": "BBc8towRc0D2"
      },
      "execution_count": null,
      "outputs": []
    },
    {
      "cell_type": "code",
      "source": [
        "lon=[]\n",
        "for i in range(len(lonely_texts)):\n",
        "  lon.append('lonely')\n",
        "\n",
        "lonely_texts['label']=lon"
      ],
      "metadata": {
        "id": "jLa20zboc-sQ"
      },
      "execution_count": null,
      "outputs": []
    },
    {
      "cell_type": "code",
      "source": [
        "lonely_texts.head()"
      ],
      "metadata": {
        "colab": {
          "base_uri": "https://localhost:8080/",
          "height": 206
        },
        "id": "lOyOW1fMdHiD",
        "outputId": "1c5ea48c-be81-4870-f9b6-cddec096d94d"
      },
      "execution_count": null,
      "outputs": [
        {
          "output_type": "execute_result",
          "data": {
            "text/plain": [
              "                                                text   label\n",
              "0  alone time precious love alone want spend time...  lonely\n",
              "1  wanna vent dont feel safe venting cause right ...  lonely\n",
              "2  shit brings back cause know love care even fee...  lonely\n",
              "3  tweet purely afraid go lonely nigga dont like ...  lonely\n",
              "4  im gonna take shower im sure help calm know ca...  lonely"
            ],
            "text/html": [
              "\n",
              "  <div id=\"df-fc4a8c11-1377-4799-8763-b493fd52897c\">\n",
              "    <div class=\"colab-df-container\">\n",
              "      <div>\n",
              "<style scoped>\n",
              "    .dataframe tbody tr th:only-of-type {\n",
              "        vertical-align: middle;\n",
              "    }\n",
              "\n",
              "    .dataframe tbody tr th {\n",
              "        vertical-align: top;\n",
              "    }\n",
              "\n",
              "    .dataframe thead th {\n",
              "        text-align: right;\n",
              "    }\n",
              "</style>\n",
              "<table border=\"1\" class=\"dataframe\">\n",
              "  <thead>\n",
              "    <tr style=\"text-align: right;\">\n",
              "      <th></th>\n",
              "      <th>text</th>\n",
              "      <th>label</th>\n",
              "    </tr>\n",
              "  </thead>\n",
              "  <tbody>\n",
              "    <tr>\n",
              "      <th>0</th>\n",
              "      <td>alone time precious love alone want spend time...</td>\n",
              "      <td>lonely</td>\n",
              "    </tr>\n",
              "    <tr>\n",
              "      <th>1</th>\n",
              "      <td>wanna vent dont feel safe venting cause right ...</td>\n",
              "      <td>lonely</td>\n",
              "    </tr>\n",
              "    <tr>\n",
              "      <th>2</th>\n",
              "      <td>shit brings back cause know love care even fee...</td>\n",
              "      <td>lonely</td>\n",
              "    </tr>\n",
              "    <tr>\n",
              "      <th>3</th>\n",
              "      <td>tweet purely afraid go lonely nigga dont like ...</td>\n",
              "      <td>lonely</td>\n",
              "    </tr>\n",
              "    <tr>\n",
              "      <th>4</th>\n",
              "      <td>im gonna take shower im sure help calm know ca...</td>\n",
              "      <td>lonely</td>\n",
              "    </tr>\n",
              "  </tbody>\n",
              "</table>\n",
              "</div>\n",
              "      <button class=\"colab-df-convert\" onclick=\"convertToInteractive('df-fc4a8c11-1377-4799-8763-b493fd52897c')\"\n",
              "              title=\"Convert this dataframe to an interactive table.\"\n",
              "              style=\"display:none;\">\n",
              "        \n",
              "  <svg xmlns=\"http://www.w3.org/2000/svg\" height=\"24px\"viewBox=\"0 0 24 24\"\n",
              "       width=\"24px\">\n",
              "    <path d=\"M0 0h24v24H0V0z\" fill=\"none\"/>\n",
              "    <path d=\"M18.56 5.44l.94 2.06.94-2.06 2.06-.94-2.06-.94-.94-2.06-.94 2.06-2.06.94zm-11 1L8.5 8.5l.94-2.06 2.06-.94-2.06-.94L8.5 2.5l-.94 2.06-2.06.94zm10 10l.94 2.06.94-2.06 2.06-.94-2.06-.94-.94-2.06-.94 2.06-2.06.94z\"/><path d=\"M17.41 7.96l-1.37-1.37c-.4-.4-.92-.59-1.43-.59-.52 0-1.04.2-1.43.59L10.3 9.45l-7.72 7.72c-.78.78-.78 2.05 0 2.83L4 21.41c.39.39.9.59 1.41.59.51 0 1.02-.2 1.41-.59l7.78-7.78 2.81-2.81c.8-.78.8-2.07 0-2.86zM5.41 20L4 18.59l7.72-7.72 1.47 1.35L5.41 20z\"/>\n",
              "  </svg>\n",
              "      </button>\n",
              "      \n",
              "  <style>\n",
              "    .colab-df-container {\n",
              "      display:flex;\n",
              "      flex-wrap:wrap;\n",
              "      gap: 12px;\n",
              "    }\n",
              "\n",
              "    .colab-df-convert {\n",
              "      background-color: #E8F0FE;\n",
              "      border: none;\n",
              "      border-radius: 50%;\n",
              "      cursor: pointer;\n",
              "      display: none;\n",
              "      fill: #1967D2;\n",
              "      height: 32px;\n",
              "      padding: 0 0 0 0;\n",
              "      width: 32px;\n",
              "    }\n",
              "\n",
              "    .colab-df-convert:hover {\n",
              "      background-color: #E2EBFA;\n",
              "      box-shadow: 0px 1px 2px rgba(60, 64, 67, 0.3), 0px 1px 3px 1px rgba(60, 64, 67, 0.15);\n",
              "      fill: #174EA6;\n",
              "    }\n",
              "\n",
              "    [theme=dark] .colab-df-convert {\n",
              "      background-color: #3B4455;\n",
              "      fill: #D2E3FC;\n",
              "    }\n",
              "\n",
              "    [theme=dark] .colab-df-convert:hover {\n",
              "      background-color: #434B5C;\n",
              "      box-shadow: 0px 1px 3px 1px rgba(0, 0, 0, 0.15);\n",
              "      filter: drop-shadow(0px 1px 2px rgba(0, 0, 0, 0.3));\n",
              "      fill: #FFFFFF;\n",
              "    }\n",
              "  </style>\n",
              "\n",
              "      <script>\n",
              "        const buttonEl =\n",
              "          document.querySelector('#df-fc4a8c11-1377-4799-8763-b493fd52897c button.colab-df-convert');\n",
              "        buttonEl.style.display =\n",
              "          google.colab.kernel.accessAllowed ? 'block' : 'none';\n",
              "\n",
              "        async function convertToInteractive(key) {\n",
              "          const element = document.querySelector('#df-fc4a8c11-1377-4799-8763-b493fd52897c');\n",
              "          const dataTable =\n",
              "            await google.colab.kernel.invokeFunction('convertToInteractive',\n",
              "                                                     [key], {});\n",
              "          if (!dataTable) return;\n",
              "\n",
              "          const docLinkHtml = 'Like what you see? Visit the ' +\n",
              "            '<a target=\"_blank\" href=https://colab.research.google.com/notebooks/data_table.ipynb>data table notebook</a>'\n",
              "            + ' to learn more about interactive tables.';\n",
              "          element.innerHTML = '';\n",
              "          dataTable['output_type'] = 'display_data';\n",
              "          await google.colab.output.renderOutput(dataTable, element);\n",
              "          const docLink = document.createElement('div');\n",
              "          docLink.innerHTML = docLinkHtml;\n",
              "          element.appendChild(docLink);\n",
              "        }\n",
              "      </script>\n",
              "    </div>\n",
              "  </div>\n",
              "  "
            ]
          },
          "metadata": {},
          "execution_count": 413
        }
      ]
    },
    {
      "cell_type": "code",
      "source": [
        "lonely_texts.shape"
      ],
      "metadata": {
        "colab": {
          "base_uri": "https://localhost:8080/"
        },
        "id": "wm5Vtgm0ebF7",
        "outputId": "5f1c294e-d9c5-45b8-ae6d-76032be81fce"
      },
      "execution_count": null,
      "outputs": [
        {
          "output_type": "execute_result",
          "data": {
            "text/plain": [
              "(8522, 2)"
            ]
          },
          "metadata": {},
          "execution_count": 414
        }
      ]
    },
    {
      "cell_type": "markdown",
      "source": [
        "Normal dataset"
      ],
      "metadata": {
        "id": "XaB0z1APdTxy"
      }
    },
    {
      "cell_type": "code",
      "execution_count": null,
      "metadata": {
        "colab": {
          "base_uri": "https://localhost:8080/",
          "height": 206
        },
        "id": "qP3mfzhiET2O",
        "outputId": "6e8ef605-0b8b-41cd-bf4d-414b92451a7e"
      },
      "outputs": [
        {
          "output_type": "execute_result",
          "data": {
            "text/plain": [
              "   Unnamed: 0                                       cleaned_text\n",
              "0           0          remember hillary email non secure server \n",
              "1           1                                  cant avoid demon \n",
              "2           2  por fin la pusieron en spotify losing way de f...\n",
              "3           3                                             kills \n",
              "4           4  thank introduce important gunsense law make co..."
            ],
            "text/html": [
              "\n",
              "  <div id=\"df-fd387e91-c981-4eb4-8e5d-7aeeda763143\">\n",
              "    <div class=\"colab-df-container\">\n",
              "      <div>\n",
              "<style scoped>\n",
              "    .dataframe tbody tr th:only-of-type {\n",
              "        vertical-align: middle;\n",
              "    }\n",
              "\n",
              "    .dataframe tbody tr th {\n",
              "        vertical-align: top;\n",
              "    }\n",
              "\n",
              "    .dataframe thead th {\n",
              "        text-align: right;\n",
              "    }\n",
              "</style>\n",
              "<table border=\"1\" class=\"dataframe\">\n",
              "  <thead>\n",
              "    <tr style=\"text-align: right;\">\n",
              "      <th></th>\n",
              "      <th>Unnamed: 0</th>\n",
              "      <th>cleaned_text</th>\n",
              "    </tr>\n",
              "  </thead>\n",
              "  <tbody>\n",
              "    <tr>\n",
              "      <th>0</th>\n",
              "      <td>0</td>\n",
              "      <td>remember hillary email non secure server</td>\n",
              "    </tr>\n",
              "    <tr>\n",
              "      <th>1</th>\n",
              "      <td>1</td>\n",
              "      <td>cant avoid demon</td>\n",
              "    </tr>\n",
              "    <tr>\n",
              "      <th>2</th>\n",
              "      <td>2</td>\n",
              "      <td>por fin la pusieron en spotify losing way de f...</td>\n",
              "    </tr>\n",
              "    <tr>\n",
              "      <th>3</th>\n",
              "      <td>3</td>\n",
              "      <td>kills</td>\n",
              "    </tr>\n",
              "    <tr>\n",
              "      <th>4</th>\n",
              "      <td>4</td>\n",
              "      <td>thank introduce important gunsense law make co...</td>\n",
              "    </tr>\n",
              "  </tbody>\n",
              "</table>\n",
              "</div>\n",
              "      <button class=\"colab-df-convert\" onclick=\"convertToInteractive('df-fd387e91-c981-4eb4-8e5d-7aeeda763143')\"\n",
              "              title=\"Convert this dataframe to an interactive table.\"\n",
              "              style=\"display:none;\">\n",
              "        \n",
              "  <svg xmlns=\"http://www.w3.org/2000/svg\" height=\"24px\"viewBox=\"0 0 24 24\"\n",
              "       width=\"24px\">\n",
              "    <path d=\"M0 0h24v24H0V0z\" fill=\"none\"/>\n",
              "    <path d=\"M18.56 5.44l.94 2.06.94-2.06 2.06-.94-2.06-.94-.94-2.06-.94 2.06-2.06.94zm-11 1L8.5 8.5l.94-2.06 2.06-.94-2.06-.94L8.5 2.5l-.94 2.06-2.06.94zm10 10l.94 2.06.94-2.06 2.06-.94-2.06-.94-.94-2.06-.94 2.06-2.06.94z\"/><path d=\"M17.41 7.96l-1.37-1.37c-.4-.4-.92-.59-1.43-.59-.52 0-1.04.2-1.43.59L10.3 9.45l-7.72 7.72c-.78.78-.78 2.05 0 2.83L4 21.41c.39.39.9.59 1.41.59.51 0 1.02-.2 1.41-.59l7.78-7.78 2.81-2.81c.8-.78.8-2.07 0-2.86zM5.41 20L4 18.59l7.72-7.72 1.47 1.35L5.41 20z\"/>\n",
              "  </svg>\n",
              "      </button>\n",
              "      \n",
              "  <style>\n",
              "    .colab-df-container {\n",
              "      display:flex;\n",
              "      flex-wrap:wrap;\n",
              "      gap: 12px;\n",
              "    }\n",
              "\n",
              "    .colab-df-convert {\n",
              "      background-color: #E8F0FE;\n",
              "      border: none;\n",
              "      border-radius: 50%;\n",
              "      cursor: pointer;\n",
              "      display: none;\n",
              "      fill: #1967D2;\n",
              "      height: 32px;\n",
              "      padding: 0 0 0 0;\n",
              "      width: 32px;\n",
              "    }\n",
              "\n",
              "    .colab-df-convert:hover {\n",
              "      background-color: #E2EBFA;\n",
              "      box-shadow: 0px 1px 2px rgba(60, 64, 67, 0.3), 0px 1px 3px 1px rgba(60, 64, 67, 0.15);\n",
              "      fill: #174EA6;\n",
              "    }\n",
              "\n",
              "    [theme=dark] .colab-df-convert {\n",
              "      background-color: #3B4455;\n",
              "      fill: #D2E3FC;\n",
              "    }\n",
              "\n",
              "    [theme=dark] .colab-df-convert:hover {\n",
              "      background-color: #434B5C;\n",
              "      box-shadow: 0px 1px 3px 1px rgba(0, 0, 0, 0.15);\n",
              "      filter: drop-shadow(0px 1px 2px rgba(0, 0, 0, 0.3));\n",
              "      fill: #FFFFFF;\n",
              "    }\n",
              "  </style>\n",
              "\n",
              "      <script>\n",
              "        const buttonEl =\n",
              "          document.querySelector('#df-fd387e91-c981-4eb4-8e5d-7aeeda763143 button.colab-df-convert');\n",
              "        buttonEl.style.display =\n",
              "          google.colab.kernel.accessAllowed ? 'block' : 'none';\n",
              "\n",
              "        async function convertToInteractive(key) {\n",
              "          const element = document.querySelector('#df-fd387e91-c981-4eb4-8e5d-7aeeda763143');\n",
              "          const dataTable =\n",
              "            await google.colab.kernel.invokeFunction('convertToInteractive',\n",
              "                                                     [key], {});\n",
              "          if (!dataTable) return;\n",
              "\n",
              "          const docLinkHtml = 'Like what you see? Visit the ' +\n",
              "            '<a target=\"_blank\" href=https://colab.research.google.com/notebooks/data_table.ipynb>data table notebook</a>'\n",
              "            + ' to learn more about interactive tables.';\n",
              "          element.innerHTML = '';\n",
              "          dataTable['output_type'] = 'display_data';\n",
              "          await google.colab.output.renderOutput(dataTable, element);\n",
              "          const docLink = document.createElement('div');\n",
              "          docLink.innerHTML = docLinkHtml;\n",
              "          element.appendChild(docLink);\n",
              "        }\n",
              "      </script>\n",
              "    </div>\n",
              "  </div>\n",
              "  "
            ]
          },
          "metadata": {},
          "execution_count": 415
        }
      ],
      "source": [
        "normal_texts.head()"
      ]
    },
    {
      "cell_type": "code",
      "execution_count": null,
      "metadata": {
        "id": "K4A7wOT4YMSl"
      },
      "outputs": [],
      "source": [
        "normal_texts.rename(columns={'cleaned_text':\"text\"},inplace =True)"
      ]
    },
    {
      "cell_type": "code",
      "source": [
        "for i in range(len(normal_texts['text'])):\n",
        "  normal_texts['text'][i]=normal_texts['text'][i].lower()\n",
        "  re.sub('[^A-Za-z0-9]+', '', normal_texts['text'][i])"
      ],
      "metadata": {
        "colab": {
          "base_uri": "https://localhost:8080/"
        },
        "id": "AxuKFVH3dc5l",
        "outputId": "bdc842e4-8588-4de7-e8c7-920758521284"
      },
      "execution_count": null,
      "outputs": [
        {
          "output_type": "stream",
          "name": "stderr",
          "text": [
            "/usr/local/lib/python3.7/dist-packages/ipykernel_launcher.py:2: SettingWithCopyWarning: \n",
            "A value is trying to be set on a copy of a slice from a DataFrame\n",
            "\n",
            "See the caveats in the documentation: https://pandas.pydata.org/pandas-docs/stable/user_guide/indexing.html#returning-a-view-versus-a-copy\n",
            "  \n"
          ]
        }
      ]
    },
    {
      "cell_type": "code",
      "source": [
        "nor=[]\n",
        "for i in range(len(normal_texts)):\n",
        "  nor.append('normal')\n",
        "\n",
        "normal_texts['label']=nor"
      ],
      "metadata": {
        "id": "AOUB-To6dmta"
      },
      "execution_count": null,
      "outputs": []
    },
    {
      "cell_type": "code",
      "execution_count": null,
      "metadata": {
        "colab": {
          "base_uri": "https://localhost:8080/",
          "height": 206
        },
        "id": "o7MyMII9YVY5",
        "outputId": "d766f176-2b16-4c90-a51d-2f1b7826d1a5"
      },
      "outputs": [
        {
          "output_type": "execute_result",
          "data": {
            "text/plain": [
              "   Unnamed: 0                                               text   label\n",
              "0           0          remember hillary email non secure server   normal\n",
              "1           1                                  cant avoid demon   normal\n",
              "2           2  por fin la pusieron en spotify losing way de f...  normal\n",
              "3           3                                             kills   normal\n",
              "4           4  thank introduce important gunsense law make co...  normal"
            ],
            "text/html": [
              "\n",
              "  <div id=\"df-68d38826-471b-4de1-9edb-0fda05e2eefd\">\n",
              "    <div class=\"colab-df-container\">\n",
              "      <div>\n",
              "<style scoped>\n",
              "    .dataframe tbody tr th:only-of-type {\n",
              "        vertical-align: middle;\n",
              "    }\n",
              "\n",
              "    .dataframe tbody tr th {\n",
              "        vertical-align: top;\n",
              "    }\n",
              "\n",
              "    .dataframe thead th {\n",
              "        text-align: right;\n",
              "    }\n",
              "</style>\n",
              "<table border=\"1\" class=\"dataframe\">\n",
              "  <thead>\n",
              "    <tr style=\"text-align: right;\">\n",
              "      <th></th>\n",
              "      <th>Unnamed: 0</th>\n",
              "      <th>text</th>\n",
              "      <th>label</th>\n",
              "    </tr>\n",
              "  </thead>\n",
              "  <tbody>\n",
              "    <tr>\n",
              "      <th>0</th>\n",
              "      <td>0</td>\n",
              "      <td>remember hillary email non secure server</td>\n",
              "      <td>normal</td>\n",
              "    </tr>\n",
              "    <tr>\n",
              "      <th>1</th>\n",
              "      <td>1</td>\n",
              "      <td>cant avoid demon</td>\n",
              "      <td>normal</td>\n",
              "    </tr>\n",
              "    <tr>\n",
              "      <th>2</th>\n",
              "      <td>2</td>\n",
              "      <td>por fin la pusieron en spotify losing way de f...</td>\n",
              "      <td>normal</td>\n",
              "    </tr>\n",
              "    <tr>\n",
              "      <th>3</th>\n",
              "      <td>3</td>\n",
              "      <td>kills</td>\n",
              "      <td>normal</td>\n",
              "    </tr>\n",
              "    <tr>\n",
              "      <th>4</th>\n",
              "      <td>4</td>\n",
              "      <td>thank introduce important gunsense law make co...</td>\n",
              "      <td>normal</td>\n",
              "    </tr>\n",
              "  </tbody>\n",
              "</table>\n",
              "</div>\n",
              "      <button class=\"colab-df-convert\" onclick=\"convertToInteractive('df-68d38826-471b-4de1-9edb-0fda05e2eefd')\"\n",
              "              title=\"Convert this dataframe to an interactive table.\"\n",
              "              style=\"display:none;\">\n",
              "        \n",
              "  <svg xmlns=\"http://www.w3.org/2000/svg\" height=\"24px\"viewBox=\"0 0 24 24\"\n",
              "       width=\"24px\">\n",
              "    <path d=\"M0 0h24v24H0V0z\" fill=\"none\"/>\n",
              "    <path d=\"M18.56 5.44l.94 2.06.94-2.06 2.06-.94-2.06-.94-.94-2.06-.94 2.06-2.06.94zm-11 1L8.5 8.5l.94-2.06 2.06-.94-2.06-.94L8.5 2.5l-.94 2.06-2.06.94zm10 10l.94 2.06.94-2.06 2.06-.94-2.06-.94-.94-2.06-.94 2.06-2.06.94z\"/><path d=\"M17.41 7.96l-1.37-1.37c-.4-.4-.92-.59-1.43-.59-.52 0-1.04.2-1.43.59L10.3 9.45l-7.72 7.72c-.78.78-.78 2.05 0 2.83L4 21.41c.39.39.9.59 1.41.59.51 0 1.02-.2 1.41-.59l7.78-7.78 2.81-2.81c.8-.78.8-2.07 0-2.86zM5.41 20L4 18.59l7.72-7.72 1.47 1.35L5.41 20z\"/>\n",
              "  </svg>\n",
              "      </button>\n",
              "      \n",
              "  <style>\n",
              "    .colab-df-container {\n",
              "      display:flex;\n",
              "      flex-wrap:wrap;\n",
              "      gap: 12px;\n",
              "    }\n",
              "\n",
              "    .colab-df-convert {\n",
              "      background-color: #E8F0FE;\n",
              "      border: none;\n",
              "      border-radius: 50%;\n",
              "      cursor: pointer;\n",
              "      display: none;\n",
              "      fill: #1967D2;\n",
              "      height: 32px;\n",
              "      padding: 0 0 0 0;\n",
              "      width: 32px;\n",
              "    }\n",
              "\n",
              "    .colab-df-convert:hover {\n",
              "      background-color: #E2EBFA;\n",
              "      box-shadow: 0px 1px 2px rgba(60, 64, 67, 0.3), 0px 1px 3px 1px rgba(60, 64, 67, 0.15);\n",
              "      fill: #174EA6;\n",
              "    }\n",
              "\n",
              "    [theme=dark] .colab-df-convert {\n",
              "      background-color: #3B4455;\n",
              "      fill: #D2E3FC;\n",
              "    }\n",
              "\n",
              "    [theme=dark] .colab-df-convert:hover {\n",
              "      background-color: #434B5C;\n",
              "      box-shadow: 0px 1px 3px 1px rgba(0, 0, 0, 0.15);\n",
              "      filter: drop-shadow(0px 1px 2px rgba(0, 0, 0, 0.3));\n",
              "      fill: #FFFFFF;\n",
              "    }\n",
              "  </style>\n",
              "\n",
              "      <script>\n",
              "        const buttonEl =\n",
              "          document.querySelector('#df-68d38826-471b-4de1-9edb-0fda05e2eefd button.colab-df-convert');\n",
              "        buttonEl.style.display =\n",
              "          google.colab.kernel.accessAllowed ? 'block' : 'none';\n",
              "\n",
              "        async function convertToInteractive(key) {\n",
              "          const element = document.querySelector('#df-68d38826-471b-4de1-9edb-0fda05e2eefd');\n",
              "          const dataTable =\n",
              "            await google.colab.kernel.invokeFunction('convertToInteractive',\n",
              "                                                     [key], {});\n",
              "          if (!dataTable) return;\n",
              "\n",
              "          const docLinkHtml = 'Like what you see? Visit the ' +\n",
              "            '<a target=\"_blank\" href=https://colab.research.google.com/notebooks/data_table.ipynb>data table notebook</a>'\n",
              "            + ' to learn more about interactive tables.';\n",
              "          element.innerHTML = '';\n",
              "          dataTable['output_type'] = 'display_data';\n",
              "          await google.colab.output.renderOutput(dataTable, element);\n",
              "          const docLink = document.createElement('div');\n",
              "          docLink.innerHTML = docLinkHtml;\n",
              "          element.appendChild(docLink);\n",
              "        }\n",
              "      </script>\n",
              "    </div>\n",
              "  </div>\n",
              "  "
            ]
          },
          "metadata": {},
          "execution_count": 419
        }
      ],
      "source": [
        "normal_texts.head()"
      ]
    },
    {
      "cell_type": "code",
      "source": [
        "normal_texts.shape"
      ],
      "metadata": {
        "colab": {
          "base_uri": "https://localhost:8080/"
        },
        "id": "8DIXmMvqeYnF",
        "outputId": "67dd76ea-47e3-4ff3-9071-463c1d2ebaf5"
      },
      "execution_count": null,
      "outputs": [
        {
          "output_type": "execute_result",
          "data": {
            "text/plain": [
              "(9925, 3)"
            ]
          },
          "metadata": {},
          "execution_count": 420
        }
      ]
    },
    {
      "cell_type": "markdown",
      "source": [
        "Stressed dataset"
      ],
      "metadata": {
        "id": "hFcmrTwEdVqG"
      }
    },
    {
      "cell_type": "code",
      "execution_count": null,
      "metadata": {
        "colab": {
          "base_uri": "https://localhost:8080/",
          "height": 206
        },
        "id": "hZOXP390Ej-0",
        "outputId": "9d566a09-ec14-454f-c4c2-2bec24f258a8"
      },
      "outputs": [
        {
          "output_type": "execute_result",
          "data": {
            "text/plain": [
              "                                        cleaned_text\n",
              "0                            tired wish could sleep \n",
              "1                                    young sad tire \n",
              "2                            im sad doyo wkwk worry \n",
              "3  nikita tomar dr priyanka reddy naina kaur tire...\n",
              "4  tommy least amount power one human character s..."
            ],
            "text/html": [
              "\n",
              "  <div id=\"df-df1f3554-4cc2-4d9d-915b-a650afa42a89\">\n",
              "    <div class=\"colab-df-container\">\n",
              "      <div>\n",
              "<style scoped>\n",
              "    .dataframe tbody tr th:only-of-type {\n",
              "        vertical-align: middle;\n",
              "    }\n",
              "\n",
              "    .dataframe tbody tr th {\n",
              "        vertical-align: top;\n",
              "    }\n",
              "\n",
              "    .dataframe thead th {\n",
              "        text-align: right;\n",
              "    }\n",
              "</style>\n",
              "<table border=\"1\" class=\"dataframe\">\n",
              "  <thead>\n",
              "    <tr style=\"text-align: right;\">\n",
              "      <th></th>\n",
              "      <th>cleaned_text</th>\n",
              "    </tr>\n",
              "  </thead>\n",
              "  <tbody>\n",
              "    <tr>\n",
              "      <th>0</th>\n",
              "      <td>tired wish could sleep</td>\n",
              "    </tr>\n",
              "    <tr>\n",
              "      <th>1</th>\n",
              "      <td>young sad tire</td>\n",
              "    </tr>\n",
              "    <tr>\n",
              "      <th>2</th>\n",
              "      <td>im sad doyo wkwk worry</td>\n",
              "    </tr>\n",
              "    <tr>\n",
              "      <th>3</th>\n",
              "      <td>nikita tomar dr priyanka reddy naina kaur tire...</td>\n",
              "    </tr>\n",
              "    <tr>\n",
              "      <th>4</th>\n",
              "      <td>tommy least amount power one human character s...</td>\n",
              "    </tr>\n",
              "  </tbody>\n",
              "</table>\n",
              "</div>\n",
              "      <button class=\"colab-df-convert\" onclick=\"convertToInteractive('df-df1f3554-4cc2-4d9d-915b-a650afa42a89')\"\n",
              "              title=\"Convert this dataframe to an interactive table.\"\n",
              "              style=\"display:none;\">\n",
              "        \n",
              "  <svg xmlns=\"http://www.w3.org/2000/svg\" height=\"24px\"viewBox=\"0 0 24 24\"\n",
              "       width=\"24px\">\n",
              "    <path d=\"M0 0h24v24H0V0z\" fill=\"none\"/>\n",
              "    <path d=\"M18.56 5.44l.94 2.06.94-2.06 2.06-.94-2.06-.94-.94-2.06-.94 2.06-2.06.94zm-11 1L8.5 8.5l.94-2.06 2.06-.94-2.06-.94L8.5 2.5l-.94 2.06-2.06.94zm10 10l.94 2.06.94-2.06 2.06-.94-2.06-.94-.94-2.06-.94 2.06-2.06.94z\"/><path d=\"M17.41 7.96l-1.37-1.37c-.4-.4-.92-.59-1.43-.59-.52 0-1.04.2-1.43.59L10.3 9.45l-7.72 7.72c-.78.78-.78 2.05 0 2.83L4 21.41c.39.39.9.59 1.41.59.51 0 1.02-.2 1.41-.59l7.78-7.78 2.81-2.81c.8-.78.8-2.07 0-2.86zM5.41 20L4 18.59l7.72-7.72 1.47 1.35L5.41 20z\"/>\n",
              "  </svg>\n",
              "      </button>\n",
              "      \n",
              "  <style>\n",
              "    .colab-df-container {\n",
              "      display:flex;\n",
              "      flex-wrap:wrap;\n",
              "      gap: 12px;\n",
              "    }\n",
              "\n",
              "    .colab-df-convert {\n",
              "      background-color: #E8F0FE;\n",
              "      border: none;\n",
              "      border-radius: 50%;\n",
              "      cursor: pointer;\n",
              "      display: none;\n",
              "      fill: #1967D2;\n",
              "      height: 32px;\n",
              "      padding: 0 0 0 0;\n",
              "      width: 32px;\n",
              "    }\n",
              "\n",
              "    .colab-df-convert:hover {\n",
              "      background-color: #E2EBFA;\n",
              "      box-shadow: 0px 1px 2px rgba(60, 64, 67, 0.3), 0px 1px 3px 1px rgba(60, 64, 67, 0.15);\n",
              "      fill: #174EA6;\n",
              "    }\n",
              "\n",
              "    [theme=dark] .colab-df-convert {\n",
              "      background-color: #3B4455;\n",
              "      fill: #D2E3FC;\n",
              "    }\n",
              "\n",
              "    [theme=dark] .colab-df-convert:hover {\n",
              "      background-color: #434B5C;\n",
              "      box-shadow: 0px 1px 3px 1px rgba(0, 0, 0, 0.15);\n",
              "      filter: drop-shadow(0px 1px 2px rgba(0, 0, 0, 0.3));\n",
              "      fill: #FFFFFF;\n",
              "    }\n",
              "  </style>\n",
              "\n",
              "      <script>\n",
              "        const buttonEl =\n",
              "          document.querySelector('#df-df1f3554-4cc2-4d9d-915b-a650afa42a89 button.colab-df-convert');\n",
              "        buttonEl.style.display =\n",
              "          google.colab.kernel.accessAllowed ? 'block' : 'none';\n",
              "\n",
              "        async function convertToInteractive(key) {\n",
              "          const element = document.querySelector('#df-df1f3554-4cc2-4d9d-915b-a650afa42a89');\n",
              "          const dataTable =\n",
              "            await google.colab.kernel.invokeFunction('convertToInteractive',\n",
              "                                                     [key], {});\n",
              "          if (!dataTable) return;\n",
              "\n",
              "          const docLinkHtml = 'Like what you see? Visit the ' +\n",
              "            '<a target=\"_blank\" href=https://colab.research.google.com/notebooks/data_table.ipynb>data table notebook</a>'\n",
              "            + ' to learn more about interactive tables.';\n",
              "          element.innerHTML = '';\n",
              "          dataTable['output_type'] = 'display_data';\n",
              "          await google.colab.output.renderOutput(dataTable, element);\n",
              "          const docLink = document.createElement('div');\n",
              "          docLink.innerHTML = docLinkHtml;\n",
              "          element.appendChild(docLink);\n",
              "        }\n",
              "      </script>\n",
              "    </div>\n",
              "  </div>\n",
              "  "
            ]
          },
          "metadata": {},
          "execution_count": 421
        }
      ],
      "source": [
        "stressed_texts.head()"
      ]
    },
    {
      "cell_type": "code",
      "source": [
        "stressed_texts.rename(columns={'cleaned_text':\"text\"},inplace =True)"
      ],
      "metadata": {
        "id": "LFe9XUqwd-Hm"
      },
      "execution_count": null,
      "outputs": []
    },
    {
      "cell_type": "code",
      "source": [
        "for i in range(len(stressed_texts['text'])):\n",
        "  stressed_texts['text'][i]=stressed_texts['text'][i].lower()\n",
        "  re.sub('[^A-Za-z0-9]+', '', stressed_texts['text'][i])"
      ],
      "metadata": {
        "id": "LkI3M1gieAKl"
      },
      "execution_count": null,
      "outputs": []
    },
    {
      "cell_type": "code",
      "source": [
        "stre=[]\n",
        "for i in range(len(stressed_texts)):\n",
        "  stre.append('stressed')\n",
        "\n",
        "stressed_texts['label']=stre"
      ],
      "metadata": {
        "id": "-9Kr6o5ZeCAV"
      },
      "execution_count": null,
      "outputs": []
    },
    {
      "cell_type": "code",
      "source": [
        "stressed_texts.head()"
      ],
      "metadata": {
        "colab": {
          "base_uri": "https://localhost:8080/",
          "height": 206
        },
        "id": "JDQyJ1j7eERo",
        "outputId": "c1b8741b-5843-4d95-9301-8f32606beb7e"
      },
      "execution_count": null,
      "outputs": [
        {
          "output_type": "execute_result",
          "data": {
            "text/plain": [
              "                                                text     label\n",
              "0                            tired wish could sleep   stressed\n",
              "1                                    young sad tire   stressed\n",
              "2                            im sad doyo wkwk worry   stressed\n",
              "3  nikita tomar dr priyanka reddy naina kaur tire...  stressed\n",
              "4  tommy least amount power one human character s...  stressed"
            ],
            "text/html": [
              "\n",
              "  <div id=\"df-567d48d4-c0d9-4c2b-b376-9c1fc512c004\">\n",
              "    <div class=\"colab-df-container\">\n",
              "      <div>\n",
              "<style scoped>\n",
              "    .dataframe tbody tr th:only-of-type {\n",
              "        vertical-align: middle;\n",
              "    }\n",
              "\n",
              "    .dataframe tbody tr th {\n",
              "        vertical-align: top;\n",
              "    }\n",
              "\n",
              "    .dataframe thead th {\n",
              "        text-align: right;\n",
              "    }\n",
              "</style>\n",
              "<table border=\"1\" class=\"dataframe\">\n",
              "  <thead>\n",
              "    <tr style=\"text-align: right;\">\n",
              "      <th></th>\n",
              "      <th>text</th>\n",
              "      <th>label</th>\n",
              "    </tr>\n",
              "  </thead>\n",
              "  <tbody>\n",
              "    <tr>\n",
              "      <th>0</th>\n",
              "      <td>tired wish could sleep</td>\n",
              "      <td>stressed</td>\n",
              "    </tr>\n",
              "    <tr>\n",
              "      <th>1</th>\n",
              "      <td>young sad tire</td>\n",
              "      <td>stressed</td>\n",
              "    </tr>\n",
              "    <tr>\n",
              "      <th>2</th>\n",
              "      <td>im sad doyo wkwk worry</td>\n",
              "      <td>stressed</td>\n",
              "    </tr>\n",
              "    <tr>\n",
              "      <th>3</th>\n",
              "      <td>nikita tomar dr priyanka reddy naina kaur tire...</td>\n",
              "      <td>stressed</td>\n",
              "    </tr>\n",
              "    <tr>\n",
              "      <th>4</th>\n",
              "      <td>tommy least amount power one human character s...</td>\n",
              "      <td>stressed</td>\n",
              "    </tr>\n",
              "  </tbody>\n",
              "</table>\n",
              "</div>\n",
              "      <button class=\"colab-df-convert\" onclick=\"convertToInteractive('df-567d48d4-c0d9-4c2b-b376-9c1fc512c004')\"\n",
              "              title=\"Convert this dataframe to an interactive table.\"\n",
              "              style=\"display:none;\">\n",
              "        \n",
              "  <svg xmlns=\"http://www.w3.org/2000/svg\" height=\"24px\"viewBox=\"0 0 24 24\"\n",
              "       width=\"24px\">\n",
              "    <path d=\"M0 0h24v24H0V0z\" fill=\"none\"/>\n",
              "    <path d=\"M18.56 5.44l.94 2.06.94-2.06 2.06-.94-2.06-.94-.94-2.06-.94 2.06-2.06.94zm-11 1L8.5 8.5l.94-2.06 2.06-.94-2.06-.94L8.5 2.5l-.94 2.06-2.06.94zm10 10l.94 2.06.94-2.06 2.06-.94-2.06-.94-.94-2.06-.94 2.06-2.06.94z\"/><path d=\"M17.41 7.96l-1.37-1.37c-.4-.4-.92-.59-1.43-.59-.52 0-1.04.2-1.43.59L10.3 9.45l-7.72 7.72c-.78.78-.78 2.05 0 2.83L4 21.41c.39.39.9.59 1.41.59.51 0 1.02-.2 1.41-.59l7.78-7.78 2.81-2.81c.8-.78.8-2.07 0-2.86zM5.41 20L4 18.59l7.72-7.72 1.47 1.35L5.41 20z\"/>\n",
              "  </svg>\n",
              "      </button>\n",
              "      \n",
              "  <style>\n",
              "    .colab-df-container {\n",
              "      display:flex;\n",
              "      flex-wrap:wrap;\n",
              "      gap: 12px;\n",
              "    }\n",
              "\n",
              "    .colab-df-convert {\n",
              "      background-color: #E8F0FE;\n",
              "      border: none;\n",
              "      border-radius: 50%;\n",
              "      cursor: pointer;\n",
              "      display: none;\n",
              "      fill: #1967D2;\n",
              "      height: 32px;\n",
              "      padding: 0 0 0 0;\n",
              "      width: 32px;\n",
              "    }\n",
              "\n",
              "    .colab-df-convert:hover {\n",
              "      background-color: #E2EBFA;\n",
              "      box-shadow: 0px 1px 2px rgba(60, 64, 67, 0.3), 0px 1px 3px 1px rgba(60, 64, 67, 0.15);\n",
              "      fill: #174EA6;\n",
              "    }\n",
              "\n",
              "    [theme=dark] .colab-df-convert {\n",
              "      background-color: #3B4455;\n",
              "      fill: #D2E3FC;\n",
              "    }\n",
              "\n",
              "    [theme=dark] .colab-df-convert:hover {\n",
              "      background-color: #434B5C;\n",
              "      box-shadow: 0px 1px 3px 1px rgba(0, 0, 0, 0.15);\n",
              "      filter: drop-shadow(0px 1px 2px rgba(0, 0, 0, 0.3));\n",
              "      fill: #FFFFFF;\n",
              "    }\n",
              "  </style>\n",
              "\n",
              "      <script>\n",
              "        const buttonEl =\n",
              "          document.querySelector('#df-567d48d4-c0d9-4c2b-b376-9c1fc512c004 button.colab-df-convert');\n",
              "        buttonEl.style.display =\n",
              "          google.colab.kernel.accessAllowed ? 'block' : 'none';\n",
              "\n",
              "        async function convertToInteractive(key) {\n",
              "          const element = document.querySelector('#df-567d48d4-c0d9-4c2b-b376-9c1fc512c004');\n",
              "          const dataTable =\n",
              "            await google.colab.kernel.invokeFunction('convertToInteractive',\n",
              "                                                     [key], {});\n",
              "          if (!dataTable) return;\n",
              "\n",
              "          const docLinkHtml = 'Like what you see? Visit the ' +\n",
              "            '<a target=\"_blank\" href=https://colab.research.google.com/notebooks/data_table.ipynb>data table notebook</a>'\n",
              "            + ' to learn more about interactive tables.';\n",
              "          element.innerHTML = '';\n",
              "          dataTable['output_type'] = 'display_data';\n",
              "          await google.colab.output.renderOutput(dataTable, element);\n",
              "          const docLink = document.createElement('div');\n",
              "          docLink.innerHTML = docLinkHtml;\n",
              "          element.appendChild(docLink);\n",
              "        }\n",
              "      </script>\n",
              "    </div>\n",
              "  </div>\n",
              "  "
            ]
          },
          "metadata": {},
          "execution_count": 425
        }
      ]
    },
    {
      "cell_type": "code",
      "source": [
        "stressed_texts.shape"
      ],
      "metadata": {
        "colab": {
          "base_uri": "https://localhost:8080/"
        },
        "id": "YJBMup3MeVYt",
        "outputId": "5e51400d-3d58-4314-e3ee-f2459568e86d"
      },
      "execution_count": null,
      "outputs": [
        {
          "output_type": "execute_result",
          "data": {
            "text/plain": [
              "(8535, 2)"
            ]
          },
          "metadata": {},
          "execution_count": 426
        }
      ]
    },
    {
      "cell_type": "markdown",
      "source": [
        "New dataset of combined emotions"
      ],
      "metadata": {
        "id": "7PzMUL44fomf"
      }
    },
    {
      "cell_type": "code",
      "source": [
        "emotions_data=pd.concat([normal_texts,lonely_texts,stressed_texts,anxious_texts])\n",
        "emo_data2 =emotions_data"
      ],
      "metadata": {
        "id": "sFymobREnesu"
      },
      "execution_count": null,
      "outputs": []
    },
    {
      "cell_type": "code",
      "source": [
        "emotions_data.shape"
      ],
      "metadata": {
        "colab": {
          "base_uri": "https://localhost:8080/"
        },
        "id": "Q8WY03p_nqYm",
        "outputId": "7bf92352-a701-4c20-9e77-21722444ba75"
      },
      "execution_count": null,
      "outputs": [
        {
          "output_type": "execute_result",
          "data": {
            "text/plain": [
              "(37491, 3)"
            ]
          },
          "metadata": {},
          "execution_count": 462
        }
      ]
    },
    {
      "cell_type": "code",
      "source": [
        "emotions_data.drop('Unnamed: 0', axis=1, inplace=True)"
      ],
      "metadata": {
        "id": "l2NM0Iqtnw7S"
      },
      "execution_count": null,
      "outputs": []
    },
    {
      "cell_type": "code",
      "source": [
        "emotions_data.head(12000)"
      ],
      "metadata": {
        "colab": {
          "base_uri": "https://localhost:8080/",
          "height": 424
        },
        "id": "h_jtmgrgoNox",
        "outputId": "71595c2d-ef9e-459d-d743-23b8b928bcff"
      },
      "execution_count": null,
      "outputs": [
        {
          "output_type": "execute_result",
          "data": {
            "text/plain": [
              "                                                   text   label\n",
              "0             remember hillary email non secure server   normal\n",
              "1                                     cant avoid demon   normal\n",
              "2     por fin la pusieron en spotify losing way de f...  normal\n",
              "3                                                kills   normal\n",
              "4     thank introduce important gunsense law make co...  normal\n",
              "...                                                 ...     ...\n",
              "2070  joses salinas area vegetable worker work field...  lonely\n",
              "2071  ask weedman could bring amp say yeah need watc...  lonely\n",
              "2072  advisor tell instead try game market need put ...  lonely\n",
              "2073                                   ring need rings   lonely\n",
              "2074  know whats best bts need savior dont care say ...  lonely\n",
              "\n",
              "[12000 rows x 2 columns]"
            ],
            "text/html": [
              "\n",
              "  <div id=\"df-81c2b85d-8b11-4200-b91e-668200277731\">\n",
              "    <div class=\"colab-df-container\">\n",
              "      <div>\n",
              "<style scoped>\n",
              "    .dataframe tbody tr th:only-of-type {\n",
              "        vertical-align: middle;\n",
              "    }\n",
              "\n",
              "    .dataframe tbody tr th {\n",
              "        vertical-align: top;\n",
              "    }\n",
              "\n",
              "    .dataframe thead th {\n",
              "        text-align: right;\n",
              "    }\n",
              "</style>\n",
              "<table border=\"1\" class=\"dataframe\">\n",
              "  <thead>\n",
              "    <tr style=\"text-align: right;\">\n",
              "      <th></th>\n",
              "      <th>text</th>\n",
              "      <th>label</th>\n",
              "    </tr>\n",
              "  </thead>\n",
              "  <tbody>\n",
              "    <tr>\n",
              "      <th>0</th>\n",
              "      <td>remember hillary email non secure server</td>\n",
              "      <td>normal</td>\n",
              "    </tr>\n",
              "    <tr>\n",
              "      <th>1</th>\n",
              "      <td>cant avoid demon</td>\n",
              "      <td>normal</td>\n",
              "    </tr>\n",
              "    <tr>\n",
              "      <th>2</th>\n",
              "      <td>por fin la pusieron en spotify losing way de f...</td>\n",
              "      <td>normal</td>\n",
              "    </tr>\n",
              "    <tr>\n",
              "      <th>3</th>\n",
              "      <td>kills</td>\n",
              "      <td>normal</td>\n",
              "    </tr>\n",
              "    <tr>\n",
              "      <th>4</th>\n",
              "      <td>thank introduce important gunsense law make co...</td>\n",
              "      <td>normal</td>\n",
              "    </tr>\n",
              "    <tr>\n",
              "      <th>...</th>\n",
              "      <td>...</td>\n",
              "      <td>...</td>\n",
              "    </tr>\n",
              "    <tr>\n",
              "      <th>2070</th>\n",
              "      <td>joses salinas area vegetable worker work field...</td>\n",
              "      <td>lonely</td>\n",
              "    </tr>\n",
              "    <tr>\n",
              "      <th>2071</th>\n",
              "      <td>ask weedman could bring amp say yeah need watc...</td>\n",
              "      <td>lonely</td>\n",
              "    </tr>\n",
              "    <tr>\n",
              "      <th>2072</th>\n",
              "      <td>advisor tell instead try game market need put ...</td>\n",
              "      <td>lonely</td>\n",
              "    </tr>\n",
              "    <tr>\n",
              "      <th>2073</th>\n",
              "      <td>ring need rings</td>\n",
              "      <td>lonely</td>\n",
              "    </tr>\n",
              "    <tr>\n",
              "      <th>2074</th>\n",
              "      <td>know whats best bts need savior dont care say ...</td>\n",
              "      <td>lonely</td>\n",
              "    </tr>\n",
              "  </tbody>\n",
              "</table>\n",
              "<p>12000 rows × 2 columns</p>\n",
              "</div>\n",
              "      <button class=\"colab-df-convert\" onclick=\"convertToInteractive('df-81c2b85d-8b11-4200-b91e-668200277731')\"\n",
              "              title=\"Convert this dataframe to an interactive table.\"\n",
              "              style=\"display:none;\">\n",
              "        \n",
              "  <svg xmlns=\"http://www.w3.org/2000/svg\" height=\"24px\"viewBox=\"0 0 24 24\"\n",
              "       width=\"24px\">\n",
              "    <path d=\"M0 0h24v24H0V0z\" fill=\"none\"/>\n",
              "    <path d=\"M18.56 5.44l.94 2.06.94-2.06 2.06-.94-2.06-.94-.94-2.06-.94 2.06-2.06.94zm-11 1L8.5 8.5l.94-2.06 2.06-.94-2.06-.94L8.5 2.5l-.94 2.06-2.06.94zm10 10l.94 2.06.94-2.06 2.06-.94-2.06-.94-.94-2.06-.94 2.06-2.06.94z\"/><path d=\"M17.41 7.96l-1.37-1.37c-.4-.4-.92-.59-1.43-.59-.52 0-1.04.2-1.43.59L10.3 9.45l-7.72 7.72c-.78.78-.78 2.05 0 2.83L4 21.41c.39.39.9.59 1.41.59.51 0 1.02-.2 1.41-.59l7.78-7.78 2.81-2.81c.8-.78.8-2.07 0-2.86zM5.41 20L4 18.59l7.72-7.72 1.47 1.35L5.41 20z\"/>\n",
              "  </svg>\n",
              "      </button>\n",
              "      \n",
              "  <style>\n",
              "    .colab-df-container {\n",
              "      display:flex;\n",
              "      flex-wrap:wrap;\n",
              "      gap: 12px;\n",
              "    }\n",
              "\n",
              "    .colab-df-convert {\n",
              "      background-color: #E8F0FE;\n",
              "      border: none;\n",
              "      border-radius: 50%;\n",
              "      cursor: pointer;\n",
              "      display: none;\n",
              "      fill: #1967D2;\n",
              "      height: 32px;\n",
              "      padding: 0 0 0 0;\n",
              "      width: 32px;\n",
              "    }\n",
              "\n",
              "    .colab-df-convert:hover {\n",
              "      background-color: #E2EBFA;\n",
              "      box-shadow: 0px 1px 2px rgba(60, 64, 67, 0.3), 0px 1px 3px 1px rgba(60, 64, 67, 0.15);\n",
              "      fill: #174EA6;\n",
              "    }\n",
              "\n",
              "    [theme=dark] .colab-df-convert {\n",
              "      background-color: #3B4455;\n",
              "      fill: #D2E3FC;\n",
              "    }\n",
              "\n",
              "    [theme=dark] .colab-df-convert:hover {\n",
              "      background-color: #434B5C;\n",
              "      box-shadow: 0px 1px 3px 1px rgba(0, 0, 0, 0.15);\n",
              "      filter: drop-shadow(0px 1px 2px rgba(0, 0, 0, 0.3));\n",
              "      fill: #FFFFFF;\n",
              "    }\n",
              "  </style>\n",
              "\n",
              "      <script>\n",
              "        const buttonEl =\n",
              "          document.querySelector('#df-81c2b85d-8b11-4200-b91e-668200277731 button.colab-df-convert');\n",
              "        buttonEl.style.display =\n",
              "          google.colab.kernel.accessAllowed ? 'block' : 'none';\n",
              "\n",
              "        async function convertToInteractive(key) {\n",
              "          const element = document.querySelector('#df-81c2b85d-8b11-4200-b91e-668200277731');\n",
              "          const dataTable =\n",
              "            await google.colab.kernel.invokeFunction('convertToInteractive',\n",
              "                                                     [key], {});\n",
              "          if (!dataTable) return;\n",
              "\n",
              "          const docLinkHtml = 'Like what you see? Visit the ' +\n",
              "            '<a target=\"_blank\" href=https://colab.research.google.com/notebooks/data_table.ipynb>data table notebook</a>'\n",
              "            + ' to learn more about interactive tables.';\n",
              "          element.innerHTML = '';\n",
              "          dataTable['output_type'] = 'display_data';\n",
              "          await google.colab.output.renderOutput(dataTable, element);\n",
              "          const docLink = document.createElement('div');\n",
              "          docLink.innerHTML = docLinkHtml;\n",
              "          element.appendChild(docLink);\n",
              "        }\n",
              "      </script>\n",
              "    </div>\n",
              "  </div>\n",
              "  "
            ]
          },
          "metadata": {},
          "execution_count": 430
        }
      ]
    },
    {
      "cell_type": "code",
      "source": [
        "emotions_data.head(22000)"
      ],
      "metadata": {
        "colab": {
          "base_uri": "https://localhost:8080/",
          "height": 424
        },
        "id": "fF8nS4FdoTYL",
        "outputId": "817d69ba-1602-4dbc-edf2-ece29c29bf82"
      },
      "execution_count": null,
      "outputs": [
        {
          "output_type": "execute_result",
          "data": {
            "text/plain": [
              "                                                   text     label\n",
              "0             remember hillary email non secure server     normal\n",
              "1                                     cant avoid demon     normal\n",
              "2     por fin la pusieron en spotify losing way de f...    normal\n",
              "3                                                kills     normal\n",
              "4     thank introduce important gunsense law make co...    normal\n",
              "...                                                 ...       ...\n",
              "3548  sad thing disinformation truth come damage alr...  stressed\n",
              "3549                        know im fucking sad whyyyy   stressed\n",
              "3550  im sad attackontitan shingekinokyojin mikasaac...  stressed\n",
              "3551  sad thing disinformation truth come damage alr...  stressed\n",
              "3552    lol think capricorn r one best n misunderstood   stressed\n",
              "\n",
              "[22000 rows x 2 columns]"
            ],
            "text/html": [
              "\n",
              "  <div id=\"df-9c2d5d67-6c1d-45a6-b026-46a4831b5a6b\">\n",
              "    <div class=\"colab-df-container\">\n",
              "      <div>\n",
              "<style scoped>\n",
              "    .dataframe tbody tr th:only-of-type {\n",
              "        vertical-align: middle;\n",
              "    }\n",
              "\n",
              "    .dataframe tbody tr th {\n",
              "        vertical-align: top;\n",
              "    }\n",
              "\n",
              "    .dataframe thead th {\n",
              "        text-align: right;\n",
              "    }\n",
              "</style>\n",
              "<table border=\"1\" class=\"dataframe\">\n",
              "  <thead>\n",
              "    <tr style=\"text-align: right;\">\n",
              "      <th></th>\n",
              "      <th>text</th>\n",
              "      <th>label</th>\n",
              "    </tr>\n",
              "  </thead>\n",
              "  <tbody>\n",
              "    <tr>\n",
              "      <th>0</th>\n",
              "      <td>remember hillary email non secure server</td>\n",
              "      <td>normal</td>\n",
              "    </tr>\n",
              "    <tr>\n",
              "      <th>1</th>\n",
              "      <td>cant avoid demon</td>\n",
              "      <td>normal</td>\n",
              "    </tr>\n",
              "    <tr>\n",
              "      <th>2</th>\n",
              "      <td>por fin la pusieron en spotify losing way de f...</td>\n",
              "      <td>normal</td>\n",
              "    </tr>\n",
              "    <tr>\n",
              "      <th>3</th>\n",
              "      <td>kills</td>\n",
              "      <td>normal</td>\n",
              "    </tr>\n",
              "    <tr>\n",
              "      <th>4</th>\n",
              "      <td>thank introduce important gunsense law make co...</td>\n",
              "      <td>normal</td>\n",
              "    </tr>\n",
              "    <tr>\n",
              "      <th>...</th>\n",
              "      <td>...</td>\n",
              "      <td>...</td>\n",
              "    </tr>\n",
              "    <tr>\n",
              "      <th>3548</th>\n",
              "      <td>sad thing disinformation truth come damage alr...</td>\n",
              "      <td>stressed</td>\n",
              "    </tr>\n",
              "    <tr>\n",
              "      <th>3549</th>\n",
              "      <td>know im fucking sad whyyyy</td>\n",
              "      <td>stressed</td>\n",
              "    </tr>\n",
              "    <tr>\n",
              "      <th>3550</th>\n",
              "      <td>im sad attackontitan shingekinokyojin mikasaac...</td>\n",
              "      <td>stressed</td>\n",
              "    </tr>\n",
              "    <tr>\n",
              "      <th>3551</th>\n",
              "      <td>sad thing disinformation truth come damage alr...</td>\n",
              "      <td>stressed</td>\n",
              "    </tr>\n",
              "    <tr>\n",
              "      <th>3552</th>\n",
              "      <td>lol think capricorn r one best n misunderstood</td>\n",
              "      <td>stressed</td>\n",
              "    </tr>\n",
              "  </tbody>\n",
              "</table>\n",
              "<p>22000 rows × 2 columns</p>\n",
              "</div>\n",
              "      <button class=\"colab-df-convert\" onclick=\"convertToInteractive('df-9c2d5d67-6c1d-45a6-b026-46a4831b5a6b')\"\n",
              "              title=\"Convert this dataframe to an interactive table.\"\n",
              "              style=\"display:none;\">\n",
              "        \n",
              "  <svg xmlns=\"http://www.w3.org/2000/svg\" height=\"24px\"viewBox=\"0 0 24 24\"\n",
              "       width=\"24px\">\n",
              "    <path d=\"M0 0h24v24H0V0z\" fill=\"none\"/>\n",
              "    <path d=\"M18.56 5.44l.94 2.06.94-2.06 2.06-.94-2.06-.94-.94-2.06-.94 2.06-2.06.94zm-11 1L8.5 8.5l.94-2.06 2.06-.94-2.06-.94L8.5 2.5l-.94 2.06-2.06.94zm10 10l.94 2.06.94-2.06 2.06-.94-2.06-.94-.94-2.06-.94 2.06-2.06.94z\"/><path d=\"M17.41 7.96l-1.37-1.37c-.4-.4-.92-.59-1.43-.59-.52 0-1.04.2-1.43.59L10.3 9.45l-7.72 7.72c-.78.78-.78 2.05 0 2.83L4 21.41c.39.39.9.59 1.41.59.51 0 1.02-.2 1.41-.59l7.78-7.78 2.81-2.81c.8-.78.8-2.07 0-2.86zM5.41 20L4 18.59l7.72-7.72 1.47 1.35L5.41 20z\"/>\n",
              "  </svg>\n",
              "      </button>\n",
              "      \n",
              "  <style>\n",
              "    .colab-df-container {\n",
              "      display:flex;\n",
              "      flex-wrap:wrap;\n",
              "      gap: 12px;\n",
              "    }\n",
              "\n",
              "    .colab-df-convert {\n",
              "      background-color: #E8F0FE;\n",
              "      border: none;\n",
              "      border-radius: 50%;\n",
              "      cursor: pointer;\n",
              "      display: none;\n",
              "      fill: #1967D2;\n",
              "      height: 32px;\n",
              "      padding: 0 0 0 0;\n",
              "      width: 32px;\n",
              "    }\n",
              "\n",
              "    .colab-df-convert:hover {\n",
              "      background-color: #E2EBFA;\n",
              "      box-shadow: 0px 1px 2px rgba(60, 64, 67, 0.3), 0px 1px 3px 1px rgba(60, 64, 67, 0.15);\n",
              "      fill: #174EA6;\n",
              "    }\n",
              "\n",
              "    [theme=dark] .colab-df-convert {\n",
              "      background-color: #3B4455;\n",
              "      fill: #D2E3FC;\n",
              "    }\n",
              "\n",
              "    [theme=dark] .colab-df-convert:hover {\n",
              "      background-color: #434B5C;\n",
              "      box-shadow: 0px 1px 3px 1px rgba(0, 0, 0, 0.15);\n",
              "      filter: drop-shadow(0px 1px 2px rgba(0, 0, 0, 0.3));\n",
              "      fill: #FFFFFF;\n",
              "    }\n",
              "  </style>\n",
              "\n",
              "      <script>\n",
              "        const buttonEl =\n",
              "          document.querySelector('#df-9c2d5d67-6c1d-45a6-b026-46a4831b5a6b button.colab-df-convert');\n",
              "        buttonEl.style.display =\n",
              "          google.colab.kernel.accessAllowed ? 'block' : 'none';\n",
              "\n",
              "        async function convertToInteractive(key) {\n",
              "          const element = document.querySelector('#df-9c2d5d67-6c1d-45a6-b026-46a4831b5a6b');\n",
              "          const dataTable =\n",
              "            await google.colab.kernel.invokeFunction('convertToInteractive',\n",
              "                                                     [key], {});\n",
              "          if (!dataTable) return;\n",
              "\n",
              "          const docLinkHtml = 'Like what you see? Visit the ' +\n",
              "            '<a target=\"_blank\" href=https://colab.research.google.com/notebooks/data_table.ipynb>data table notebook</a>'\n",
              "            + ' to learn more about interactive tables.';\n",
              "          element.innerHTML = '';\n",
              "          dataTable['output_type'] = 'display_data';\n",
              "          await google.colab.output.renderOutput(dataTable, element);\n",
              "          const docLink = document.createElement('div');\n",
              "          docLink.innerHTML = docLinkHtml;\n",
              "          element.appendChild(docLink);\n",
              "        }\n",
              "      </script>\n",
              "    </div>\n",
              "  </div>\n",
              "  "
            ]
          },
          "metadata": {},
          "execution_count": 431
        }
      ]
    },
    {
      "cell_type": "code",
      "source": [
        "emotions_data.head(36000)"
      ],
      "metadata": {
        "colab": {
          "base_uri": "https://localhost:8080/",
          "height": 424
        },
        "id": "IEcCs329oVg3",
        "outputId": "e186a9f5-9efa-44e8-87fc-bbee64e46b4c"
      },
      "execution_count": null,
      "outputs": [
        {
          "output_type": "execute_result",
          "data": {
            "text/plain": [
              "                                                   text    label\n",
              "0             remember hillary email non secure server    normal\n",
              "1                                     cant avoid demon    normal\n",
              "2     por fin la pusieron en spotify losing way de f...   normal\n",
              "3                                                kills    normal\n",
              "4     thank introduce important gunsense law make co...   normal\n",
              "...                                                 ...      ...\n",
              "9013  hello lovely tofuwraps send sign life im okay ...  anxious\n",
              "9014  derealisation dont get need like gonna trigger...  anxious\n",
              "9015  hey find youre applause shop brava know artist...  anxious\n",
              "9016  friend really want chance participate somethin...  anxious\n",
              "9017  im almost guys please help reach goal become t...  anxious\n",
              "\n",
              "[36000 rows x 2 columns]"
            ],
            "text/html": [
              "\n",
              "  <div id=\"df-affa537f-6831-4315-9945-75597e706b89\">\n",
              "    <div class=\"colab-df-container\">\n",
              "      <div>\n",
              "<style scoped>\n",
              "    .dataframe tbody tr th:only-of-type {\n",
              "        vertical-align: middle;\n",
              "    }\n",
              "\n",
              "    .dataframe tbody tr th {\n",
              "        vertical-align: top;\n",
              "    }\n",
              "\n",
              "    .dataframe thead th {\n",
              "        text-align: right;\n",
              "    }\n",
              "</style>\n",
              "<table border=\"1\" class=\"dataframe\">\n",
              "  <thead>\n",
              "    <tr style=\"text-align: right;\">\n",
              "      <th></th>\n",
              "      <th>text</th>\n",
              "      <th>label</th>\n",
              "    </tr>\n",
              "  </thead>\n",
              "  <tbody>\n",
              "    <tr>\n",
              "      <th>0</th>\n",
              "      <td>remember hillary email non secure server</td>\n",
              "      <td>normal</td>\n",
              "    </tr>\n",
              "    <tr>\n",
              "      <th>1</th>\n",
              "      <td>cant avoid demon</td>\n",
              "      <td>normal</td>\n",
              "    </tr>\n",
              "    <tr>\n",
              "      <th>2</th>\n",
              "      <td>por fin la pusieron en spotify losing way de f...</td>\n",
              "      <td>normal</td>\n",
              "    </tr>\n",
              "    <tr>\n",
              "      <th>3</th>\n",
              "      <td>kills</td>\n",
              "      <td>normal</td>\n",
              "    </tr>\n",
              "    <tr>\n",
              "      <th>4</th>\n",
              "      <td>thank introduce important gunsense law make co...</td>\n",
              "      <td>normal</td>\n",
              "    </tr>\n",
              "    <tr>\n",
              "      <th>...</th>\n",
              "      <td>...</td>\n",
              "      <td>...</td>\n",
              "    </tr>\n",
              "    <tr>\n",
              "      <th>9013</th>\n",
              "      <td>hello lovely tofuwraps send sign life im okay ...</td>\n",
              "      <td>anxious</td>\n",
              "    </tr>\n",
              "    <tr>\n",
              "      <th>9014</th>\n",
              "      <td>derealisation dont get need like gonna trigger...</td>\n",
              "      <td>anxious</td>\n",
              "    </tr>\n",
              "    <tr>\n",
              "      <th>9015</th>\n",
              "      <td>hey find youre applause shop brava know artist...</td>\n",
              "      <td>anxious</td>\n",
              "    </tr>\n",
              "    <tr>\n",
              "      <th>9016</th>\n",
              "      <td>friend really want chance participate somethin...</td>\n",
              "      <td>anxious</td>\n",
              "    </tr>\n",
              "    <tr>\n",
              "      <th>9017</th>\n",
              "      <td>im almost guys please help reach goal become t...</td>\n",
              "      <td>anxious</td>\n",
              "    </tr>\n",
              "  </tbody>\n",
              "</table>\n",
              "<p>36000 rows × 2 columns</p>\n",
              "</div>\n",
              "      <button class=\"colab-df-convert\" onclick=\"convertToInteractive('df-affa537f-6831-4315-9945-75597e706b89')\"\n",
              "              title=\"Convert this dataframe to an interactive table.\"\n",
              "              style=\"display:none;\">\n",
              "        \n",
              "  <svg xmlns=\"http://www.w3.org/2000/svg\" height=\"24px\"viewBox=\"0 0 24 24\"\n",
              "       width=\"24px\">\n",
              "    <path d=\"M0 0h24v24H0V0z\" fill=\"none\"/>\n",
              "    <path d=\"M18.56 5.44l.94 2.06.94-2.06 2.06-.94-2.06-.94-.94-2.06-.94 2.06-2.06.94zm-11 1L8.5 8.5l.94-2.06 2.06-.94-2.06-.94L8.5 2.5l-.94 2.06-2.06.94zm10 10l.94 2.06.94-2.06 2.06-.94-2.06-.94-.94-2.06-.94 2.06-2.06.94z\"/><path d=\"M17.41 7.96l-1.37-1.37c-.4-.4-.92-.59-1.43-.59-.52 0-1.04.2-1.43.59L10.3 9.45l-7.72 7.72c-.78.78-.78 2.05 0 2.83L4 21.41c.39.39.9.59 1.41.59.51 0 1.02-.2 1.41-.59l7.78-7.78 2.81-2.81c.8-.78.8-2.07 0-2.86zM5.41 20L4 18.59l7.72-7.72 1.47 1.35L5.41 20z\"/>\n",
              "  </svg>\n",
              "      </button>\n",
              "      \n",
              "  <style>\n",
              "    .colab-df-container {\n",
              "      display:flex;\n",
              "      flex-wrap:wrap;\n",
              "      gap: 12px;\n",
              "    }\n",
              "\n",
              "    .colab-df-convert {\n",
              "      background-color: #E8F0FE;\n",
              "      border: none;\n",
              "      border-radius: 50%;\n",
              "      cursor: pointer;\n",
              "      display: none;\n",
              "      fill: #1967D2;\n",
              "      height: 32px;\n",
              "      padding: 0 0 0 0;\n",
              "      width: 32px;\n",
              "    }\n",
              "\n",
              "    .colab-df-convert:hover {\n",
              "      background-color: #E2EBFA;\n",
              "      box-shadow: 0px 1px 2px rgba(60, 64, 67, 0.3), 0px 1px 3px 1px rgba(60, 64, 67, 0.15);\n",
              "      fill: #174EA6;\n",
              "    }\n",
              "\n",
              "    [theme=dark] .colab-df-convert {\n",
              "      background-color: #3B4455;\n",
              "      fill: #D2E3FC;\n",
              "    }\n",
              "\n",
              "    [theme=dark] .colab-df-convert:hover {\n",
              "      background-color: #434B5C;\n",
              "      box-shadow: 0px 1px 3px 1px rgba(0, 0, 0, 0.15);\n",
              "      filter: drop-shadow(0px 1px 2px rgba(0, 0, 0, 0.3));\n",
              "      fill: #FFFFFF;\n",
              "    }\n",
              "  </style>\n",
              "\n",
              "      <script>\n",
              "        const buttonEl =\n",
              "          document.querySelector('#df-affa537f-6831-4315-9945-75597e706b89 button.colab-df-convert');\n",
              "        buttonEl.style.display =\n",
              "          google.colab.kernel.accessAllowed ? 'block' : 'none';\n",
              "\n",
              "        async function convertToInteractive(key) {\n",
              "          const element = document.querySelector('#df-affa537f-6831-4315-9945-75597e706b89');\n",
              "          const dataTable =\n",
              "            await google.colab.kernel.invokeFunction('convertToInteractive',\n",
              "                                                     [key], {});\n",
              "          if (!dataTable) return;\n",
              "\n",
              "          const docLinkHtml = 'Like what you see? Visit the ' +\n",
              "            '<a target=\"_blank\" href=https://colab.research.google.com/notebooks/data_table.ipynb>data table notebook</a>'\n",
              "            + ' to learn more about interactive tables.';\n",
              "          element.innerHTML = '';\n",
              "          dataTable['output_type'] = 'display_data';\n",
              "          await google.colab.output.renderOutput(dataTable, element);\n",
              "          const docLink = document.createElement('div');\n",
              "          docLink.innerHTML = docLinkHtml;\n",
              "          element.appendChild(docLink);\n",
              "        }\n",
              "      </script>\n",
              "    </div>\n",
              "  </div>\n",
              "  "
            ]
          },
          "metadata": {},
          "execution_count": 432
        }
      ]
    },
    {
      "cell_type": "markdown",
      "source": [
        "One hot encoding for categorical data"
      ],
      "metadata": {
        "id": "EyDrPMWMkA9Y"
      }
    },
    {
      "cell_type": "code",
      "source": [
        "emotions_data = pd.get_dummies(emotions_data, columns = ['label'])\n",
        "emotions_data.head()"
      ],
      "metadata": {
        "colab": {
          "base_uri": "https://localhost:8080/",
          "height": 206
        },
        "id": "mHxQQtVHHIUa",
        "outputId": "509dacc6-b7ab-49df-bc24-2736011c8fb9"
      },
      "execution_count": null,
      "outputs": [
        {
          "output_type": "execute_result",
          "data": {
            "text/plain": [
              "                                                text  label_anxious  \\\n",
              "0          remember hillary email non secure server               0   \n",
              "1                                  cant avoid demon               0   \n",
              "2  por fin la pusieron en spotify losing way de f...              0   \n",
              "3                                             kills               0   \n",
              "4  thank introduce important gunsense law make co...              0   \n",
              "\n",
              "   label_lonely  label_normal  label_stressed  \n",
              "0             0             1               0  \n",
              "1             0             1               0  \n",
              "2             0             1               0  \n",
              "3             0             1               0  \n",
              "4             0             1               0  "
            ],
            "text/html": [
              "\n",
              "  <div id=\"df-9fb0e10c-bc99-44ca-b105-2e122f89ab09\">\n",
              "    <div class=\"colab-df-container\">\n",
              "      <div>\n",
              "<style scoped>\n",
              "    .dataframe tbody tr th:only-of-type {\n",
              "        vertical-align: middle;\n",
              "    }\n",
              "\n",
              "    .dataframe tbody tr th {\n",
              "        vertical-align: top;\n",
              "    }\n",
              "\n",
              "    .dataframe thead th {\n",
              "        text-align: right;\n",
              "    }\n",
              "</style>\n",
              "<table border=\"1\" class=\"dataframe\">\n",
              "  <thead>\n",
              "    <tr style=\"text-align: right;\">\n",
              "      <th></th>\n",
              "      <th>text</th>\n",
              "      <th>label_anxious</th>\n",
              "      <th>label_lonely</th>\n",
              "      <th>label_normal</th>\n",
              "      <th>label_stressed</th>\n",
              "    </tr>\n",
              "  </thead>\n",
              "  <tbody>\n",
              "    <tr>\n",
              "      <th>0</th>\n",
              "      <td>remember hillary email non secure server</td>\n",
              "      <td>0</td>\n",
              "      <td>0</td>\n",
              "      <td>1</td>\n",
              "      <td>0</td>\n",
              "    </tr>\n",
              "    <tr>\n",
              "      <th>1</th>\n",
              "      <td>cant avoid demon</td>\n",
              "      <td>0</td>\n",
              "      <td>0</td>\n",
              "      <td>1</td>\n",
              "      <td>0</td>\n",
              "    </tr>\n",
              "    <tr>\n",
              "      <th>2</th>\n",
              "      <td>por fin la pusieron en spotify losing way de f...</td>\n",
              "      <td>0</td>\n",
              "      <td>0</td>\n",
              "      <td>1</td>\n",
              "      <td>0</td>\n",
              "    </tr>\n",
              "    <tr>\n",
              "      <th>3</th>\n",
              "      <td>kills</td>\n",
              "      <td>0</td>\n",
              "      <td>0</td>\n",
              "      <td>1</td>\n",
              "      <td>0</td>\n",
              "    </tr>\n",
              "    <tr>\n",
              "      <th>4</th>\n",
              "      <td>thank introduce important gunsense law make co...</td>\n",
              "      <td>0</td>\n",
              "      <td>0</td>\n",
              "      <td>1</td>\n",
              "      <td>0</td>\n",
              "    </tr>\n",
              "  </tbody>\n",
              "</table>\n",
              "</div>\n",
              "      <button class=\"colab-df-convert\" onclick=\"convertToInteractive('df-9fb0e10c-bc99-44ca-b105-2e122f89ab09')\"\n",
              "              title=\"Convert this dataframe to an interactive table.\"\n",
              "              style=\"display:none;\">\n",
              "        \n",
              "  <svg xmlns=\"http://www.w3.org/2000/svg\" height=\"24px\"viewBox=\"0 0 24 24\"\n",
              "       width=\"24px\">\n",
              "    <path d=\"M0 0h24v24H0V0z\" fill=\"none\"/>\n",
              "    <path d=\"M18.56 5.44l.94 2.06.94-2.06 2.06-.94-2.06-.94-.94-2.06-.94 2.06-2.06.94zm-11 1L8.5 8.5l.94-2.06 2.06-.94-2.06-.94L8.5 2.5l-.94 2.06-2.06.94zm10 10l.94 2.06.94-2.06 2.06-.94-2.06-.94-.94-2.06-.94 2.06-2.06.94z\"/><path d=\"M17.41 7.96l-1.37-1.37c-.4-.4-.92-.59-1.43-.59-.52 0-1.04.2-1.43.59L10.3 9.45l-7.72 7.72c-.78.78-.78 2.05 0 2.83L4 21.41c.39.39.9.59 1.41.59.51 0 1.02-.2 1.41-.59l7.78-7.78 2.81-2.81c.8-.78.8-2.07 0-2.86zM5.41 20L4 18.59l7.72-7.72 1.47 1.35L5.41 20z\"/>\n",
              "  </svg>\n",
              "      </button>\n",
              "      \n",
              "  <style>\n",
              "    .colab-df-container {\n",
              "      display:flex;\n",
              "      flex-wrap:wrap;\n",
              "      gap: 12px;\n",
              "    }\n",
              "\n",
              "    .colab-df-convert {\n",
              "      background-color: #E8F0FE;\n",
              "      border: none;\n",
              "      border-radius: 50%;\n",
              "      cursor: pointer;\n",
              "      display: none;\n",
              "      fill: #1967D2;\n",
              "      height: 32px;\n",
              "      padding: 0 0 0 0;\n",
              "      width: 32px;\n",
              "    }\n",
              "\n",
              "    .colab-df-convert:hover {\n",
              "      background-color: #E2EBFA;\n",
              "      box-shadow: 0px 1px 2px rgba(60, 64, 67, 0.3), 0px 1px 3px 1px rgba(60, 64, 67, 0.15);\n",
              "      fill: #174EA6;\n",
              "    }\n",
              "\n",
              "    [theme=dark] .colab-df-convert {\n",
              "      background-color: #3B4455;\n",
              "      fill: #D2E3FC;\n",
              "    }\n",
              "\n",
              "    [theme=dark] .colab-df-convert:hover {\n",
              "      background-color: #434B5C;\n",
              "      box-shadow: 0px 1px 3px 1px rgba(0, 0, 0, 0.15);\n",
              "      filter: drop-shadow(0px 1px 2px rgba(0, 0, 0, 0.3));\n",
              "      fill: #FFFFFF;\n",
              "    }\n",
              "  </style>\n",
              "\n",
              "      <script>\n",
              "        const buttonEl =\n",
              "          document.querySelector('#df-9fb0e10c-bc99-44ca-b105-2e122f89ab09 button.colab-df-convert');\n",
              "        buttonEl.style.display =\n",
              "          google.colab.kernel.accessAllowed ? 'block' : 'none';\n",
              "\n",
              "        async function convertToInteractive(key) {\n",
              "          const element = document.querySelector('#df-9fb0e10c-bc99-44ca-b105-2e122f89ab09');\n",
              "          const dataTable =\n",
              "            await google.colab.kernel.invokeFunction('convertToInteractive',\n",
              "                                                     [key], {});\n",
              "          if (!dataTable) return;\n",
              "\n",
              "          const docLinkHtml = 'Like what you see? Visit the ' +\n",
              "            '<a target=\"_blank\" href=https://colab.research.google.com/notebooks/data_table.ipynb>data table notebook</a>'\n",
              "            + ' to learn more about interactive tables.';\n",
              "          element.innerHTML = '';\n",
              "          dataTable['output_type'] = 'display_data';\n",
              "          await google.colab.output.renderOutput(dataTable, element);\n",
              "          const docLink = document.createElement('div');\n",
              "          docLink.innerHTML = docLinkHtml;\n",
              "          element.appendChild(docLink);\n",
              "        }\n",
              "      </script>\n",
              "    </div>\n",
              "  </div>\n",
              "  "
            ]
          },
          "metadata": {},
          "execution_count": 433
        }
      ]
    },
    {
      "cell_type": "code",
      "source": [
        "emotions_data_labels = emotions_data[['label_anxious',\t'label_lonely',\t'label_normal',\t'label_stressed']]\n",
        "emotions_data_labels.head()"
      ],
      "metadata": {
        "colab": {
          "base_uri": "https://localhost:8080/",
          "height": 206
        },
        "id": "HN-XwX1PHIRx",
        "outputId": "60cdccd4-125e-4943-b2cf-e68f09780cdb"
      },
      "execution_count": null,
      "outputs": [
        {
          "output_type": "execute_result",
          "data": {
            "text/plain": [
              "   label_anxious  label_lonely  label_normal  label_stressed\n",
              "0              0             0             1               0\n",
              "1              0             0             1               0\n",
              "2              0             0             1               0\n",
              "3              0             0             1               0\n",
              "4              0             0             1               0"
            ],
            "text/html": [
              "\n",
              "  <div id=\"df-999150c6-203c-4ae4-83ab-15fe5de70230\">\n",
              "    <div class=\"colab-df-container\">\n",
              "      <div>\n",
              "<style scoped>\n",
              "    .dataframe tbody tr th:only-of-type {\n",
              "        vertical-align: middle;\n",
              "    }\n",
              "\n",
              "    .dataframe tbody tr th {\n",
              "        vertical-align: top;\n",
              "    }\n",
              "\n",
              "    .dataframe thead th {\n",
              "        text-align: right;\n",
              "    }\n",
              "</style>\n",
              "<table border=\"1\" class=\"dataframe\">\n",
              "  <thead>\n",
              "    <tr style=\"text-align: right;\">\n",
              "      <th></th>\n",
              "      <th>label_anxious</th>\n",
              "      <th>label_lonely</th>\n",
              "      <th>label_normal</th>\n",
              "      <th>label_stressed</th>\n",
              "    </tr>\n",
              "  </thead>\n",
              "  <tbody>\n",
              "    <tr>\n",
              "      <th>0</th>\n",
              "      <td>0</td>\n",
              "      <td>0</td>\n",
              "      <td>1</td>\n",
              "      <td>0</td>\n",
              "    </tr>\n",
              "    <tr>\n",
              "      <th>1</th>\n",
              "      <td>0</td>\n",
              "      <td>0</td>\n",
              "      <td>1</td>\n",
              "      <td>0</td>\n",
              "    </tr>\n",
              "    <tr>\n",
              "      <th>2</th>\n",
              "      <td>0</td>\n",
              "      <td>0</td>\n",
              "      <td>1</td>\n",
              "      <td>0</td>\n",
              "    </tr>\n",
              "    <tr>\n",
              "      <th>3</th>\n",
              "      <td>0</td>\n",
              "      <td>0</td>\n",
              "      <td>1</td>\n",
              "      <td>0</td>\n",
              "    </tr>\n",
              "    <tr>\n",
              "      <th>4</th>\n",
              "      <td>0</td>\n",
              "      <td>0</td>\n",
              "      <td>1</td>\n",
              "      <td>0</td>\n",
              "    </tr>\n",
              "  </tbody>\n",
              "</table>\n",
              "</div>\n",
              "      <button class=\"colab-df-convert\" onclick=\"convertToInteractive('df-999150c6-203c-4ae4-83ab-15fe5de70230')\"\n",
              "              title=\"Convert this dataframe to an interactive table.\"\n",
              "              style=\"display:none;\">\n",
              "        \n",
              "  <svg xmlns=\"http://www.w3.org/2000/svg\" height=\"24px\"viewBox=\"0 0 24 24\"\n",
              "       width=\"24px\">\n",
              "    <path d=\"M0 0h24v24H0V0z\" fill=\"none\"/>\n",
              "    <path d=\"M18.56 5.44l.94 2.06.94-2.06 2.06-.94-2.06-.94-.94-2.06-.94 2.06-2.06.94zm-11 1L8.5 8.5l.94-2.06 2.06-.94-2.06-.94L8.5 2.5l-.94 2.06-2.06.94zm10 10l.94 2.06.94-2.06 2.06-.94-2.06-.94-.94-2.06-.94 2.06-2.06.94z\"/><path d=\"M17.41 7.96l-1.37-1.37c-.4-.4-.92-.59-1.43-.59-.52 0-1.04.2-1.43.59L10.3 9.45l-7.72 7.72c-.78.78-.78 2.05 0 2.83L4 21.41c.39.39.9.59 1.41.59.51 0 1.02-.2 1.41-.59l7.78-7.78 2.81-2.81c.8-.78.8-2.07 0-2.86zM5.41 20L4 18.59l7.72-7.72 1.47 1.35L5.41 20z\"/>\n",
              "  </svg>\n",
              "      </button>\n",
              "      \n",
              "  <style>\n",
              "    .colab-df-container {\n",
              "      display:flex;\n",
              "      flex-wrap:wrap;\n",
              "      gap: 12px;\n",
              "    }\n",
              "\n",
              "    .colab-df-convert {\n",
              "      background-color: #E8F0FE;\n",
              "      border: none;\n",
              "      border-radius: 50%;\n",
              "      cursor: pointer;\n",
              "      display: none;\n",
              "      fill: #1967D2;\n",
              "      height: 32px;\n",
              "      padding: 0 0 0 0;\n",
              "      width: 32px;\n",
              "    }\n",
              "\n",
              "    .colab-df-convert:hover {\n",
              "      background-color: #E2EBFA;\n",
              "      box-shadow: 0px 1px 2px rgba(60, 64, 67, 0.3), 0px 1px 3px 1px rgba(60, 64, 67, 0.15);\n",
              "      fill: #174EA6;\n",
              "    }\n",
              "\n",
              "    [theme=dark] .colab-df-convert {\n",
              "      background-color: #3B4455;\n",
              "      fill: #D2E3FC;\n",
              "    }\n",
              "\n",
              "    [theme=dark] .colab-df-convert:hover {\n",
              "      background-color: #434B5C;\n",
              "      box-shadow: 0px 1px 3px 1px rgba(0, 0, 0, 0.15);\n",
              "      filter: drop-shadow(0px 1px 2px rgba(0, 0, 0, 0.3));\n",
              "      fill: #FFFFFF;\n",
              "    }\n",
              "  </style>\n",
              "\n",
              "      <script>\n",
              "        const buttonEl =\n",
              "          document.querySelector('#df-999150c6-203c-4ae4-83ab-15fe5de70230 button.colab-df-convert');\n",
              "        buttonEl.style.display =\n",
              "          google.colab.kernel.accessAllowed ? 'block' : 'none';\n",
              "\n",
              "        async function convertToInteractive(key) {\n",
              "          const element = document.querySelector('#df-999150c6-203c-4ae4-83ab-15fe5de70230');\n",
              "          const dataTable =\n",
              "            await google.colab.kernel.invokeFunction('convertToInteractive',\n",
              "                                                     [key], {});\n",
              "          if (!dataTable) return;\n",
              "\n",
              "          const docLinkHtml = 'Like what you see? Visit the ' +\n",
              "            '<a target=\"_blank\" href=https://colab.research.google.com/notebooks/data_table.ipynb>data table notebook</a>'\n",
              "            + ' to learn more about interactive tables.';\n",
              "          element.innerHTML = '';\n",
              "          dataTable['output_type'] = 'display_data';\n",
              "          await google.colab.output.renderOutput(dataTable, element);\n",
              "          const docLink = document.createElement('div');\n",
              "          docLink.innerHTML = docLinkHtml;\n",
              "          element.appendChild(docLink);\n",
              "        }\n",
              "      </script>\n",
              "    </div>\n",
              "  </div>\n",
              "  "
            ]
          },
          "metadata": {},
          "execution_count": 434
        }
      ]
    },
    {
      "cell_type": "code",
      "source": [
        "fig_size = plt.rcParams[\"figure.figsize\"]\n",
        "fig_size[0] = 5\n",
        "fig_size[1] = 4\n",
        "plt.rcParams[\"figure.figsize\"] = fig_size\n",
        "\n",
        "emotions_data_labels.sum(axis=0).plot.bar()"
      ],
      "metadata": {
        "colab": {
          "base_uri": "https://localhost:8080/",
          "height": 344
        },
        "id": "A9_eoI1NHIKc",
        "outputId": "d261a82e-8b9f-456d-fb24-278e78bb8156"
      },
      "execution_count": null,
      "outputs": [
        {
          "output_type": "execute_result",
          "data": {
            "text/plain": [
              "<matplotlib.axes._subplots.AxesSubplot at 0x7f5af450c210>"
            ]
          },
          "metadata": {},
          "execution_count": 435
        },
        {
          "output_type": "display_data",
          "data": {
            "text/plain": [
              "<Figure size 360x288 with 1 Axes>"
            ],
            "image/png": "[encoded data removed]"
          },
          "metadata": {
            "needs_background": "light"
          }
        }
      ]
    },
    {
      "cell_type": "code",
      "source": [
        "def preprocess_text(sen):\n",
        "    sentence = re.sub('[^a-zA-Z]', ' ', sen)\n",
        "    sentence = re.sub(r\"\\s+[a-zA-Z]\\s+\", ' ', sentence)\n",
        "    sentence = re.sub(r'\\s+', ' ', sentence)\n",
        "    return sentence\n",
        "X = []\n",
        "sentences = list(emotions_data[\"text\"])\n",
        "for sen in sentences:\n",
        "    X.append(preprocess_text(sen))\n",
        "y=emotions_data_labels.values"
      ],
      "metadata": {
        "id": "UMkC0xJSnw4A"
      },
      "execution_count": null,
      "outputs": []
    },
    {
      "cell_type": "code",
      "source": [
        "X_train, X_test, y_train, y_test = train_test_split(X, y, test_size=0.20, random_state=42)"
      ],
      "metadata": {
        "id": "GOfrWNCn6Ye0"
      },
      "execution_count": null,
      "outputs": []
    },
    {
      "cell_type": "code",
      "source": [
        "tokenizer = Tokenizer(num_words=5000)\n",
        "tokenizer.fit_on_texts(X_train)\n",
        "\n",
        "X_train = tokenizer.texts_to_sequences(X_train)\n",
        "X_test = tokenizer.texts_to_sequences(X_test)\n",
        "\n",
        "vocab_size = len(tokenizer.word_index) + 1\n",
        "\n",
        "maxlen = 200\n",
        "\n",
        "X_train = pad_sequences(X_train, padding='post', maxlen=maxlen)\n",
        "X_test = pad_sequences(X_test, padding='post', maxlen=maxlen)"
      ],
      "metadata": {
        "id": "bFE_Ux4R6YZl"
      },
      "execution_count": null,
      "outputs": []
    },
    {
      "cell_type": "code",
      "source": [
        "from numpy import array\n",
        "from numpy import asarray\n",
        "from numpy import zeros\n",
        "\n",
        "embeddings_dictionary = dict()\n",
        "\n",
        "glove_file = open('/content/drive/MyDrive/NLP_dataset/glove.6B.100d.txt', encoding=\"utf8\")\n",
        "\n",
        "for line in glove_file:\n",
        "    records = line.split()\n",
        "    word = records[0]\n",
        "    vector_dimensions = asarray(records[1:], dtype='float32')\n",
        "    embeddings_dictionary[word] = vector_dimensions\n",
        "glove_file.close()\n",
        "\n",
        "embedding_matrix = zeros((vocab_size, 100))\n",
        "for word, index in tokenizer.word_index.items():\n",
        "    embedding_vector = embeddings_dictionary.get(word)\n",
        "    if embedding_vector is not None:\n",
        "        embedding_matrix[index] = embedding_vector"
      ],
      "metadata": {
        "id": "1IqWqfvtEWqm"
      },
      "execution_count": null,
      "outputs": []
    },
    {
      "cell_type": "code",
      "source": [
        "deep_inputs = Input(shape=(maxlen,))\n",
        "embedding_layer = Embedding(vocab_size, 100, weights=[embedding_matrix], trainable=False)(deep_inputs)\n",
        "LSTM_Layer_1 = LSTM(128)(embedding_layer)\n",
        "LSTM_Layer_2 = LSTM(64)(embedding_layer)\n",
        "dense_layer_1 = Dense(4, activation='sigmoid')(LSTM_Layer_1)\n",
        "dense_layer_2 = Dense(4, activation='sigmoid')(LSTM_Layer_2)\n",
        "model = Model(inputs=deep_inputs, outputs=dense_layer_1)\n",
        "\n",
        "model.compile(loss='binary_crossentropy', optimizer='adam', metrics=['acc'])"
      ],
      "metadata": {
        "id": "BiQoCZX76YXE"
      },
      "execution_count": null,
      "outputs": []
    },
    {
      "cell_type": "code",
      "source": [
        "print(model.summary())"
      ],
      "metadata": {
        "id": "nGqbvH0l9uSh",
        "colab": {
          "base_uri": "https://localhost:8080/"
        },
        "outputId": "dd0ade0f-e447-4083-daf1-482f63809321"
      },
      "execution_count": null,
      "outputs": [
        {
          "output_type": "stream",
          "name": "stdout",
          "text": [
            "Model: \"model_4\"\n",
            "_________________________________________________________________\n",
            " Layer (type)                Output Shape              Param #   \n",
            "=================================================================\n",
            " input_6 (InputLayer)        [(None, 200)]             0         \n",
            "                                                                 \n",
            " embedding_9 (Embedding)     (None, 200, 100)          2081500   \n",
            "                                                                 \n",
            " lstm_11 (LSTM)              (None, 128)               117248    \n",
            "                                                                 \n",
            " dense_15 (Dense)            (None, 4)                 516       \n",
            "                                                                 \n",
            "=================================================================\n",
            "Total params: 2,199,264\n",
            "Trainable params: 117,764\n",
            "Non-trainable params: 2,081,500\n",
            "_________________________________________________________________\n",
            "None\n"
          ]
        }
      ]
    },
    {
      "cell_type": "code",
      "source": [
        "!pip install plot_model\n",
        "from keras.utils.vis_utils import plot_model\n",
        "#from keras.utils import plot_model\n",
        "plot_model(model, show_shapes=True, show_layer_names=True)"
      ],
      "metadata": {
        "id": "SnlzGSUbJA82",
        "colab": {
          "base_uri": "https://localhost:8080/",
          "height": 439
        },
        "outputId": "b957413c-cc04-4a6f-c84c-0aa76fd15fdc"
      },
      "execution_count": null,
      "outputs": [
        {
          "output_type": "stream",
          "name": "stdout",
          "text": [
            "Requirement already satisfied: plot_model in /usr/local/lib/python3.7/dist-packages (0.20)\n"
          ]
        },
        {
          "output_type": "execute_result",
          "data": {
            "text/plain": [
              "<IPython.core.display.Image object>"
            ],
            "image/png": "[encoded data removed]"
          },
          "metadata": {},
          "execution_count": 442
        }
      ]
    },
    {
      "cell_type": "code",
      "source": [
        "history = model.fit(X_train, y_train, batch_size=128, epochs=5, verbose=1, validation_split=0.2)"
      ],
      "metadata": {
        "colab": {
          "base_uri": "https://localhost:8080/"
        },
        "id": "ePvQjyXN9uPn",
        "outputId": "f0e7bc77-cac5-40d4-e722-fe589a3bac5e"
      },
      "execution_count": null,
      "outputs": [
        {
          "output_type": "stream",
          "name": "stdout",
          "text": [
            "Epoch 1/5\n",
            "188/188 [==============================] - 163s 854ms/step - loss: 0.5678 - acc: 0.2736 - val_loss: 0.5620 - val_acc: 0.2749\n",
            "Epoch 2/5\n",
            "188/188 [==============================] - 132s 701ms/step - loss: 0.5615 - acc: 0.2800 - val_loss: 0.5612 - val_acc: 0.2749\n",
            "Epoch 3/5\n",
            "188/188 [==============================] - 133s 708ms/step - loss: 0.5612 - acc: 0.2777 - val_loss: 0.5616 - val_acc: 0.2667\n",
            "Epoch 4/5\n",
            "188/188 [==============================] - 133s 705ms/step - loss: 0.5615 - acc: 0.2782 - val_loss: 0.5624 - val_acc: 0.2749\n",
            "Epoch 5/5\n",
            "188/188 [==============================] - 136s 725ms/step - loss: 0.5614 - acc: 0.2784 - val_loss: 0.5614 - val_acc: 0.2749\n"
          ]
        }
      ]
    },
    {
      "cell_type": "code",
      "source": [
        "score = model.evaluate(X_test, y_test, verbose=1)\n",
        "\n",
        "print(\"Test Score:\", score[0])\n",
        "print(\"Test Accuracy:\", score[1])"
      ],
      "metadata": {
        "id": "aB6cH5xiKF26",
        "colab": {
          "base_uri": "https://localhost:8080/"
        },
        "outputId": "0aeb108b-04ce-402d-fad2-c08ac9ae4d39"
      },
      "execution_count": null,
      "outputs": [
        {
          "output_type": "stream",
          "name": "stdout",
          "text": [
            "235/235 [==============================] - 22s 93ms/step - loss: 0.5607 - acc: 0.2827\n",
            "Test Score: 0.5607112646102905\n",
            "Test Accuracy: 0.28270435333251953\n"
          ]
        }
      ]
    },
    {
      "cell_type": "markdown",
      "source": [
        "LSTM with one hot encoding gives accuracy 56.11"
      ],
      "metadata": {
        "id": "Z7IJpBkBWBeR"
      }
    },
    {
      "cell_type": "markdown",
      "source": [
        "Using label encoding for categorical data"
      ],
      "metadata": {
        "id": "bAwTgCbmCapU"
      }
    },
    {
      "cell_type": "code",
      "source": [
        "emo_data2.shape"
      ],
      "metadata": {
        "id": "QKgUj5v_DILc"
      },
      "execution_count": null,
      "outputs": []
    },
    {
      "cell_type": "code",
      "source": [
        "emo_data2.head()"
      ],
      "metadata": {
        "id": "bvoWMpxsC0hH",
        "colab": {
          "base_uri": "https://localhost:8080/",
          "height": 395
        },
        "outputId": "5d3d3a4d-ca03-407d-cd3f-5a550fbd1785"
      },
      "execution_count": null,
      "outputs": [
        {
          "data": {
            "text/html": [
              "\n",
              "  <div id=\"df-a46233df-bc57-4df7-b615-299b1143e092\">\n",
              "    <div class=\"colab-df-container\">\n",
              "      <div>\n",
              "<style scoped>\n",
              "    .dataframe tbody tr th:only-of-type {\n",
              "        vertical-align: middle;\n",
              "    }\n",
              "\n",
              "    .dataframe tbody tr th {\n",
              "        vertical-align: top;\n",
              "    }\n",
              "\n",
              "    .dataframe thead th {\n",
              "        text-align: right;\n",
              "    }\n",
              "</style>\n",
              "<table border=\"1\" class=\"dataframe\">\n",
              "  <thead>\n",
              "    <tr style=\"text-align: right;\">\n",
              "      <th></th>\n",
              "      <th>text</th>\n",
              "      <th>label</th>\n",
              "    </tr>\n",
              "  </thead>\n",
              "  <tbody>\n",
              "    <tr>\n",
              "      <th>0</th>\n",
              "      <td>remember hillary email non secure server</td>\n",
              "      <td>normal</td>\n",
              "    </tr>\n",
              "    <tr>\n",
              "      <th>1</th>\n",
              "      <td>cant avoid demon</td>\n",
              "      <td>normal</td>\n",
              "    </tr>\n",
              "    <tr>\n",
              "      <th>2</th>\n",
              "      <td>por fin la pusieron en spotify losing way de f...</td>\n",
              "      <td>normal</td>\n",
              "    </tr>\n",
              "    <tr>\n",
              "      <th>3</th>\n",
              "      <td>kills</td>\n",
              "      <td>normal</td>\n",
              "    </tr>\n",
              "    <tr>\n",
              "      <th>4</th>\n",
              "      <td>thank introduce important gunsense law make co...</td>\n",
              "      <td>normal</td>\n",
              "    </tr>\n",
              "  </tbody>\n",
              "</table>\n",
              "</div>\n",
              "      <button class=\"colab-df-convert\" onclick=\"convertToInteractive('df-a46233df-bc57-4df7-b615-299b1143e092')\"\n",
              "              title=\"Convert this dataframe to an interactive table.\"\n",
              "              style=\"display:none;\">\n",
              "        \n",
              "  <svg xmlns=\"http://www.w3.org/2000/svg\" height=\"24px\"viewBox=\"0 0 24 24\"\n",
              "       width=\"24px\">\n",
              "    <path d=\"M0 0h24v24H0V0z\" fill=\"none\"/>\n",
              "    <path d=\"M18.56 5.44l.94 2.06.94-2.06 2.06-.94-2.06-.94-.94-2.06-.94 2.06-2.06.94zm-11 1L8.5 8.5l.94-2.06 2.06-.94-2.06-.94L8.5 2.5l-.94 2.06-2.06.94zm10 10l.94 2.06.94-2.06 2.06-.94-2.06-.94-.94-2.06-.94 2.06-2.06.94z\"/><path d=\"M17.41 7.96l-1.37-1.37c-.4-.4-.92-.59-1.43-.59-.52 0-1.04.2-1.43.59L10.3 9.45l-7.72 7.72c-.78.78-.78 2.05 0 2.83L4 21.41c.39.39.9.59 1.41.59.51 0 1.02-.2 1.41-.59l7.78-7.78 2.81-2.81c.8-.78.8-2.07 0-2.86zM5.41 20L4 18.59l7.72-7.72 1.47 1.35L5.41 20z\"/>\n",
              "  </svg>\n",
              "      </button>\n",
              "      \n",
              "  <style>\n",
              "    .colab-df-container {\n",
              "      display:flex;\n",
              "      flex-wrap:wrap;\n",
              "      gap: 12px;\n",
              "    }\n",
              "\n",
              "    .colab-df-convert {\n",
              "      background-color: #E8F0FE;\n",
              "      border: none;\n",
              "      border-radius: 50%;\n",
              "      cursor: pointer;\n",
              "      display: none;\n",
              "      fill: #1967D2;\n",
              "      height: 32px;\n",
              "      padding: 0 0 0 0;\n",
              "      width: 32px;\n",
              "    }\n",
              "\n",
              "    .colab-df-convert:hover {\n",
              "      background-color: #E2EBFA;\n",
              "      box-shadow: 0px 1px 2px rgba(60, 64, 67, 0.3), 0px 1px 3px 1px rgba(60, 64, 67, 0.15);\n",
              "      fill: #174EA6;\n",
              "    }\n",
              "\n",
              "    [theme=dark] .colab-df-convert {\n",
              "      background-color: #3B4455;\n",
              "      fill: #D2E3FC;\n",
              "    }\n",
              "\n",
              "    [theme=dark] .colab-df-convert:hover {\n",
              "      background-color: #434B5C;\n",
              "      box-shadow: 0px 1px 3px 1px rgba(0, 0, 0, 0.15);\n",
              "      filter: drop-shadow(0px 1px 2px rgba(0, 0, 0, 0.3));\n",
              "      fill: #FFFFFF;\n",
              "    }\n",
              "  </style>\n",
              "\n",
              "      <script>\n",
              "        const buttonEl =\n",
              "          document.querySelector('#df-a46233df-bc57-4df7-b615-299b1143e092 button.colab-df-convert');\n",
              "        buttonEl.style.display =\n",
              "          google.colab.kernel.accessAllowed ? 'block' : 'none';\n",
              "\n",
              "        async function convertToInteractive(key) {\n",
              "          const element = document.querySelector('#df-a46233df-bc57-4df7-b615-299b1143e092');\n",
              "          const dataTable =\n",
              "            await google.colab.kernel.invokeFunction('convertToInteractive',\n",
              "                                                     [key], {});\n",
              "          if (!dataTable) return;\n",
              "\n",
              "          const docLinkHtml = 'Like what you see? Visit the ' +\n",
              "            '<a target=\"_blank\" href=https://colab.research.google.com/notebooks/data_table.ipynb>data table notebook</a>'\n",
              "            + ' to learn more about interactive tables.';\n",
              "          element.innerHTML = '';\n",
              "          dataTable['output_type'] = 'display_data';\n",
              "          await google.colab.output.renderOutput(dataTable, element);\n",
              "          const docLink = document.createElement('div');\n",
              "          docLink.innerHTML = docLinkHtml;\n",
              "          element.appendChild(docLink);\n",
              "        }\n",
              "      </script>\n",
              "    </div>\n",
              "  </div>\n",
              "  "
            ],
            "text/plain": [
              "                                                text   label\n",
              "0          remember hillary email non secure server   normal\n",
              "1                                  cant avoid demon   normal\n",
              "2  por fin la pusieron en spotify losing way de f...  normal\n",
              "3                                             kills   normal\n",
              "4  thank introduce important gunsense law make co...  normal"
            ]
          },
          "execution_count": null,
          "metadata": {},
          "output_type": "execute_result"
        },
        {
          "output_type": "execute_result",
          "data": {
            "text/plain": [
              "                                                text   label\n",
              "0          remember hillary email non secure server   normal\n",
              "1                                  cant avoid demon   normal\n",
              "2  por fin la pusieron en spotify losing way de f...  normal\n",
              "3                                             kills   normal\n",
              "4  thank introduce important gunsense law make co...  normal"
            ],
            "text/html": [
              "\n",
              "  <div id=\"df-a46233df-bc57-4df7-b615-299b1143e092\">\n",
              "    <div class=\"colab-df-container\">\n",
              "      <div>\n",
              "<style scoped>\n",
              "    .dataframe tbody tr th:only-of-type {\n",
              "        vertical-align: middle;\n",
              "    }\n",
              "\n",
              "    .dataframe tbody tr th {\n",
              "        vertical-align: top;\n",
              "    }\n",
              "\n",
              "    .dataframe thead th {\n",
              "        text-align: right;\n",
              "    }\n",
              "</style>\n",
              "<table border=\"1\" class=\"dataframe\">\n",
              "  <thead>\n",
              "    <tr style=\"text-align: right;\">\n",
              "      <th></th>\n",
              "      <th>text</th>\n",
              "      <th>label</th>\n",
              "    </tr>\n",
              "  </thead>\n",
              "  <tbody>\n",
              "    <tr>\n",
              "      <th>0</th>\n",
              "      <td>remember hillary email non secure server</td>\n",
              "      <td>normal</td>\n",
              "    </tr>\n",
              "    <tr>\n",
              "      <th>1</th>\n",
              "      <td>cant avoid demon</td>\n",
              "      <td>normal</td>\n",
              "    </tr>\n",
              "    <tr>\n",
              "      <th>2</th>\n",
              "      <td>por fin la pusieron en spotify losing way de f...</td>\n",
              "      <td>normal</td>\n",
              "    </tr>\n",
              "    <tr>\n",
              "      <th>3</th>\n",
              "      <td>kills</td>\n",
              "      <td>normal</td>\n",
              "    </tr>\n",
              "    <tr>\n",
              "      <th>4</th>\n",
              "      <td>thank introduce important gunsense law make co...</td>\n",
              "      <td>normal</td>\n",
              "    </tr>\n",
              "  </tbody>\n",
              "</table>\n",
              "</div>\n",
              "      <button class=\"colab-df-convert\" onclick=\"convertToInteractive('df-a46233df-bc57-4df7-b615-299b1143e092')\"\n",
              "              title=\"Convert this dataframe to an interactive table.\"\n",
              "              style=\"display:none;\">\n",
              "        \n",
              "  <svg xmlns=\"http://www.w3.org/2000/svg\" height=\"24px\"viewBox=\"0 0 24 24\"\n",
              "       width=\"24px\">\n",
              "    <path d=\"M0 0h24v24H0V0z\" fill=\"none\"/>\n",
              "    <path d=\"M18.56 5.44l.94 2.06.94-2.06 2.06-.94-2.06-.94-.94-2.06-.94 2.06-2.06.94zm-11 1L8.5 8.5l.94-2.06 2.06-.94-2.06-.94L8.5 2.5l-.94 2.06-2.06.94zm10 10l.94 2.06.94-2.06 2.06-.94-2.06-.94-.94-2.06-.94 2.06-2.06.94z\"/><path d=\"M17.41 7.96l-1.37-1.37c-.4-.4-.92-.59-1.43-.59-.52 0-1.04.2-1.43.59L10.3 9.45l-7.72 7.72c-.78.78-.78 2.05 0 2.83L4 21.41c.39.39.9.59 1.41.59.51 0 1.02-.2 1.41-.59l7.78-7.78 2.81-2.81c.8-.78.8-2.07 0-2.86zM5.41 20L4 18.59l7.72-7.72 1.47 1.35L5.41 20z\"/>\n",
              "  </svg>\n",
              "      </button>\n",
              "      \n",
              "  <style>\n",
              "    .colab-df-container {\n",
              "      display:flex;\n",
              "      flex-wrap:wrap;\n",
              "      gap: 12px;\n",
              "    }\n",
              "\n",
              "    .colab-df-convert {\n",
              "      background-color: #E8F0FE;\n",
              "      border: none;\n",
              "      border-radius: 50%;\n",
              "      cursor: pointer;\n",
              "      display: none;\n",
              "      fill: #1967D2;\n",
              "      height: 32px;\n",
              "      padding: 0 0 0 0;\n",
              "      width: 32px;\n",
              "    }\n",
              "\n",
              "    .colab-df-convert:hover {\n",
              "      background-color: #E2EBFA;\n",
              "      box-shadow: 0px 1px 2px rgba(60, 64, 67, 0.3), 0px 1px 3px 1px rgba(60, 64, 67, 0.15);\n",
              "      fill: #174EA6;\n",
              "    }\n",
              "\n",
              "    [theme=dark] .colab-df-convert {\n",
              "      background-color: #3B4455;\n",
              "      fill: #D2E3FC;\n",
              "    }\n",
              "\n",
              "    [theme=dark] .colab-df-convert:hover {\n",
              "      background-color: #434B5C;\n",
              "      box-shadow: 0px 1px 3px 1px rgba(0, 0, 0, 0.15);\n",
              "      filter: drop-shadow(0px 1px 2px rgba(0, 0, 0, 0.3));\n",
              "      fill: #FFFFFF;\n",
              "    }\n",
              "  </style>\n",
              "\n",
              "      <script>\n",
              "        const buttonEl =\n",
              "          document.querySelector('#df-a46233df-bc57-4df7-b615-299b1143e092 button.colab-df-convert');\n",
              "        buttonEl.style.display =\n",
              "          google.colab.kernel.accessAllowed ? 'block' : 'none';\n",
              "\n",
              "        async function convertToInteractive(key) {\n",
              "          const element = document.querySelector('#df-a46233df-bc57-4df7-b615-299b1143e092');\n",
              "          const dataTable =\n",
              "            await google.colab.kernel.invokeFunction('convertToInteractive',\n",
              "                                                     [key], {});\n",
              "          if (!dataTable) return;\n",
              "\n",
              "          const docLinkHtml = 'Like what you see? Visit the ' +\n",
              "            '<a target=\"_blank\" href=https://colab.research.google.com/notebooks/data_table.ipynb>data table notebook</a>'\n",
              "            + ' to learn more about interactive tables.';\n",
              "          element.innerHTML = '';\n",
              "          dataTable['output_type'] = 'display_data';\n",
              "          await google.colab.output.renderOutput(dataTable, element);\n",
              "          const docLink = document.createElement('div');\n",
              "          docLink.innerHTML = docLinkHtml;\n",
              "          element.appendChild(docLink);\n",
              "        }\n",
              "      </script>\n",
              "    </div>\n",
              "  </div>\n",
              "  "
            ]
          },
          "metadata": {},
          "execution_count": 446
        }
      ]
    },
    {
      "cell_type": "code",
      "source": [
        "from sklearn import preprocessing\n",
        "label_encoder = preprocessing.LabelEncoder()\n",
        "emo_data2['label']= label_encoder.fit_transform(emo_data2['label'])"
      ],
      "metadata": {
        "id": "p3daYD2v9uMT"
      },
      "execution_count": null,
      "outputs": []
    },
    {
      "cell_type": "markdown",
      "source": [
        "\n",
        "\n",
        "*   0 - anxious\n",
        "*   1 - lonely\n",
        "*   2 - normal\n",
        "*   3 - stressed\n",
        "\n"
      ],
      "metadata": {
        "id": "-DGruaKKohpI"
      }
    },
    {
      "cell_type": "code",
      "source": [
        "emo_data2.head(12000)"
      ],
      "metadata": {
        "id": "EHwjjX0inw1C",
        "colab": {
          "base_uri": "https://localhost:8080/",
          "height": 424
        },
        "outputId": "19457d66-64a2-46e6-956d-3dd8d0cf2e0b"
      },
      "execution_count": null,
      "outputs": [
        {
          "output_type": "execute_result",
          "data": {
            "text/plain": [
              "                                                   text  label\n",
              "0             remember hillary email non secure server       2\n",
              "1                                     cant avoid demon       2\n",
              "2     por fin la pusieron en spotify losing way de f...      2\n",
              "3                                                kills       2\n",
              "4     thank introduce important gunsense law make co...      2\n",
              "...                                                 ...    ...\n",
              "2070  joses salinas area vegetable worker work field...      1\n",
              "2071  ask weedman could bring amp say yeah need watc...      1\n",
              "2072  advisor tell instead try game market need put ...      1\n",
              "2073                                   ring need rings       1\n",
              "2074  know whats best bts need savior dont care say ...      1\n",
              "\n",
              "[12000 rows x 2 columns]"
            ],
            "text/html": [
              "\n",
              "  <div id=\"df-48e1e87a-460c-4b1e-b209-d8712836f4cf\">\n",
              "    <div class=\"colab-df-container\">\n",
              "      <div>\n",
              "<style scoped>\n",
              "    .dataframe tbody tr th:only-of-type {\n",
              "        vertical-align: middle;\n",
              "    }\n",
              "\n",
              "    .dataframe tbody tr th {\n",
              "        vertical-align: top;\n",
              "    }\n",
              "\n",
              "    .dataframe thead th {\n",
              "        text-align: right;\n",
              "    }\n",
              "</style>\n",
              "<table border=\"1\" class=\"dataframe\">\n",
              "  <thead>\n",
              "    <tr style=\"text-align: right;\">\n",
              "      <th></th>\n",
              "      <th>text</th>\n",
              "      <th>label</th>\n",
              "    </tr>\n",
              "  </thead>\n",
              "  <tbody>\n",
              "    <tr>\n",
              "      <th>0</th>\n",
              "      <td>remember hillary email non secure server</td>\n",
              "      <td>2</td>\n",
              "    </tr>\n",
              "    <tr>\n",
              "      <th>1</th>\n",
              "      <td>cant avoid demon</td>\n",
              "      <td>2</td>\n",
              "    </tr>\n",
              "    <tr>\n",
              "      <th>2</th>\n",
              "      <td>por fin la pusieron en spotify losing way de f...</td>\n",
              "      <td>2</td>\n",
              "    </tr>\n",
              "    <tr>\n",
              "      <th>3</th>\n",
              "      <td>kills</td>\n",
              "      <td>2</td>\n",
              "    </tr>\n",
              "    <tr>\n",
              "      <th>4</th>\n",
              "      <td>thank introduce important gunsense law make co...</td>\n",
              "      <td>2</td>\n",
              "    </tr>\n",
              "    <tr>\n",
              "      <th>...</th>\n",
              "      <td>...</td>\n",
              "      <td>...</td>\n",
              "    </tr>\n",
              "    <tr>\n",
              "      <th>2070</th>\n",
              "      <td>joses salinas area vegetable worker work field...</td>\n",
              "      <td>1</td>\n",
              "    </tr>\n",
              "    <tr>\n",
              "      <th>2071</th>\n",
              "      <td>ask weedman could bring amp say yeah need watc...</td>\n",
              "      <td>1</td>\n",
              "    </tr>\n",
              "    <tr>\n",
              "      <th>2072</th>\n",
              "      <td>advisor tell instead try game market need put ...</td>\n",
              "      <td>1</td>\n",
              "    </tr>\n",
              "    <tr>\n",
              "      <th>2073</th>\n",
              "      <td>ring need rings</td>\n",
              "      <td>1</td>\n",
              "    </tr>\n",
              "    <tr>\n",
              "      <th>2074</th>\n",
              "      <td>know whats best bts need savior dont care say ...</td>\n",
              "      <td>1</td>\n",
              "    </tr>\n",
              "  </tbody>\n",
              "</table>\n",
              "<p>12000 rows × 2 columns</p>\n",
              "</div>\n",
              "      <button class=\"colab-df-convert\" onclick=\"convertToInteractive('df-48e1e87a-460c-4b1e-b209-d8712836f4cf')\"\n",
              "              title=\"Convert this dataframe to an interactive table.\"\n",
              "              style=\"display:none;\">\n",
              "        \n",
              "  <svg xmlns=\"http://www.w3.org/2000/svg\" height=\"24px\"viewBox=\"0 0 24 24\"\n",
              "       width=\"24px\">\n",
              "    <path d=\"M0 0h24v24H0V0z\" fill=\"none\"/>\n",
              "    <path d=\"M18.56 5.44l.94 2.06.94-2.06 2.06-.94-2.06-.94-.94-2.06-.94 2.06-2.06.94zm-11 1L8.5 8.5l.94-2.06 2.06-.94-2.06-.94L8.5 2.5l-.94 2.06-2.06.94zm10 10l.94 2.06.94-2.06 2.06-.94-2.06-.94-.94-2.06-.94 2.06-2.06.94z\"/><path d=\"M17.41 7.96l-1.37-1.37c-.4-.4-.92-.59-1.43-.59-.52 0-1.04.2-1.43.59L10.3 9.45l-7.72 7.72c-.78.78-.78 2.05 0 2.83L4 21.41c.39.39.9.59 1.41.59.51 0 1.02-.2 1.41-.59l7.78-7.78 2.81-2.81c.8-.78.8-2.07 0-2.86zM5.41 20L4 18.59l7.72-7.72 1.47 1.35L5.41 20z\"/>\n",
              "  </svg>\n",
              "      </button>\n",
              "      \n",
              "  <style>\n",
              "    .colab-df-container {\n",
              "      display:flex;\n",
              "      flex-wrap:wrap;\n",
              "      gap: 12px;\n",
              "    }\n",
              "\n",
              "    .colab-df-convert {\n",
              "      background-color: #E8F0FE;\n",
              "      border: none;\n",
              "      border-radius: 50%;\n",
              "      cursor: pointer;\n",
              "      display: none;\n",
              "      fill: #1967D2;\n",
              "      height: 32px;\n",
              "      padding: 0 0 0 0;\n",
              "      width: 32px;\n",
              "    }\n",
              "\n",
              "    .colab-df-convert:hover {\n",
              "      background-color: #E2EBFA;\n",
              "      box-shadow: 0px 1px 2px rgba(60, 64, 67, 0.3), 0px 1px 3px 1px rgba(60, 64, 67, 0.15);\n",
              "      fill: #174EA6;\n",
              "    }\n",
              "\n",
              "    [theme=dark] .colab-df-convert {\n",
              "      background-color: #3B4455;\n",
              "      fill: #D2E3FC;\n",
              "    }\n",
              "\n",
              "    [theme=dark] .colab-df-convert:hover {\n",
              "      background-color: #434B5C;\n",
              "      box-shadow: 0px 1px 3px 1px rgba(0, 0, 0, 0.15);\n",
              "      filter: drop-shadow(0px 1px 2px rgba(0, 0, 0, 0.3));\n",
              "      fill: #FFFFFF;\n",
              "    }\n",
              "  </style>\n",
              "\n",
              "      <script>\n",
              "        const buttonEl =\n",
              "          document.querySelector('#df-48e1e87a-460c-4b1e-b209-d8712836f4cf button.colab-df-convert');\n",
              "        buttonEl.style.display =\n",
              "          google.colab.kernel.accessAllowed ? 'block' : 'none';\n",
              "\n",
              "        async function convertToInteractive(key) {\n",
              "          const element = document.querySelector('#df-48e1e87a-460c-4b1e-b209-d8712836f4cf');\n",
              "          const dataTable =\n",
              "            await google.colab.kernel.invokeFunction('convertToInteractive',\n",
              "                                                     [key], {});\n",
              "          if (!dataTable) return;\n",
              "\n",
              "          const docLinkHtml = 'Like what you see? Visit the ' +\n",
              "            '<a target=\"_blank\" href=https://colab.research.google.com/notebooks/data_table.ipynb>data table notebook</a>'\n",
              "            + ' to learn more about interactive tables.';\n",
              "          element.innerHTML = '';\n",
              "          dataTable['output_type'] = 'display_data';\n",
              "          await google.colab.output.renderOutput(dataTable, element);\n",
              "          const docLink = document.createElement('div');\n",
              "          docLink.innerHTML = docLinkHtml;\n",
              "          element.appendChild(docLink);\n",
              "        }\n",
              "      </script>\n",
              "    </div>\n",
              "  </div>\n",
              "  "
            ]
          },
          "metadata": {},
          "execution_count": 336
        }
      ]
    },
    {
      "cell_type": "code",
      "source": [
        "emo_data2.head(22000)"
      ],
      "metadata": {
        "id": "OwphTrpmnwyL",
        "colab": {
          "base_uri": "https://localhost:8080/",
          "height": 424
        },
        "outputId": "82041edf-d181-4020-8bff-242b825e9c96"
      },
      "execution_count": null,
      "outputs": [
        {
          "output_type": "execute_result",
          "data": {
            "text/plain": [
              "                                                   text  label\n",
              "0             remember hillary email non secure server       2\n",
              "1                                     cant avoid demon       2\n",
              "2     por fin la pusieron en spotify losing way de f...      2\n",
              "3                                                kills       2\n",
              "4     thank introduce important gunsense law make co...      2\n",
              "...                                                 ...    ...\n",
              "3548  sad thing disinformation truth come damage alr...      3\n",
              "3549                        know im fucking sad whyyyy       3\n",
              "3550  im sad attackontitan shingekinokyojin mikasaac...      3\n",
              "3551  sad thing disinformation truth come damage alr...      3\n",
              "3552    lol think capricorn r one best n misunderstood       3\n",
              "\n",
              "[22000 rows x 2 columns]"
            ],
            "text/html": [
              "\n",
              "  <div id=\"df-1d004eee-0dd5-4400-9fae-c58802b7115c\">\n",
              "    <div class=\"colab-df-container\">\n",
              "      <div>\n",
              "<style scoped>\n",
              "    .dataframe tbody tr th:only-of-type {\n",
              "        vertical-align: middle;\n",
              "    }\n",
              "\n",
              "    .dataframe tbody tr th {\n",
              "        vertical-align: top;\n",
              "    }\n",
              "\n",
              "    .dataframe thead th {\n",
              "        text-align: right;\n",
              "    }\n",
              "</style>\n",
              "<table border=\"1\" class=\"dataframe\">\n",
              "  <thead>\n",
              "    <tr style=\"text-align: right;\">\n",
              "      <th></th>\n",
              "      <th>text</th>\n",
              "      <th>label</th>\n",
              "    </tr>\n",
              "  </thead>\n",
              "  <tbody>\n",
              "    <tr>\n",
              "      <th>0</th>\n",
              "      <td>remember hillary email non secure server</td>\n",
              "      <td>2</td>\n",
              "    </tr>\n",
              "    <tr>\n",
              "      <th>1</th>\n",
              "      <td>cant avoid demon</td>\n",
              "      <td>2</td>\n",
              "    </tr>\n",
              "    <tr>\n",
              "      <th>2</th>\n",
              "      <td>por fin la pusieron en spotify losing way de f...</td>\n",
              "      <td>2</td>\n",
              "    </tr>\n",
              "    <tr>\n",
              "      <th>3</th>\n",
              "      <td>kills</td>\n",
              "      <td>2</td>\n",
              "    </tr>\n",
              "    <tr>\n",
              "      <th>4</th>\n",
              "      <td>thank introduce important gunsense law make co...</td>\n",
              "      <td>2</td>\n",
              "    </tr>\n",
              "    <tr>\n",
              "      <th>...</th>\n",
              "      <td>...</td>\n",
              "      <td>...</td>\n",
              "    </tr>\n",
              "    <tr>\n",
              "      <th>3548</th>\n",
              "      <td>sad thing disinformation truth come damage alr...</td>\n",
              "      <td>3</td>\n",
              "    </tr>\n",
              "    <tr>\n",
              "      <th>3549</th>\n",
              "      <td>know im fucking sad whyyyy</td>\n",
              "      <td>3</td>\n",
              "    </tr>\n",
              "    <tr>\n",
              "      <th>3550</th>\n",
              "      <td>im sad attackontitan shingekinokyojin mikasaac...</td>\n",
              "      <td>3</td>\n",
              "    </tr>\n",
              "    <tr>\n",
              "      <th>3551</th>\n",
              "      <td>sad thing disinformation truth come damage alr...</td>\n",
              "      <td>3</td>\n",
              "    </tr>\n",
              "    <tr>\n",
              "      <th>3552</th>\n",
              "      <td>lol think capricorn r one best n misunderstood</td>\n",
              "      <td>3</td>\n",
              "    </tr>\n",
              "  </tbody>\n",
              "</table>\n",
              "<p>22000 rows × 2 columns</p>\n",
              "</div>\n",
              "      <button class=\"colab-df-convert\" onclick=\"convertToInteractive('df-1d004eee-0dd5-4400-9fae-c58802b7115c')\"\n",
              "              title=\"Convert this dataframe to an interactive table.\"\n",
              "              style=\"display:none;\">\n",
              "        \n",
              "  <svg xmlns=\"http://www.w3.org/2000/svg\" height=\"24px\"viewBox=\"0 0 24 24\"\n",
              "       width=\"24px\">\n",
              "    <path d=\"M0 0h24v24H0V0z\" fill=\"none\"/>\n",
              "    <path d=\"M18.56 5.44l.94 2.06.94-2.06 2.06-.94-2.06-.94-.94-2.06-.94 2.06-2.06.94zm-11 1L8.5 8.5l.94-2.06 2.06-.94-2.06-.94L8.5 2.5l-.94 2.06-2.06.94zm10 10l.94 2.06.94-2.06 2.06-.94-2.06-.94-.94-2.06-.94 2.06-2.06.94z\"/><path d=\"M17.41 7.96l-1.37-1.37c-.4-.4-.92-.59-1.43-.59-.52 0-1.04.2-1.43.59L10.3 9.45l-7.72 7.72c-.78.78-.78 2.05 0 2.83L4 21.41c.39.39.9.59 1.41.59.51 0 1.02-.2 1.41-.59l7.78-7.78 2.81-2.81c.8-.78.8-2.07 0-2.86zM5.41 20L4 18.59l7.72-7.72 1.47 1.35L5.41 20z\"/>\n",
              "  </svg>\n",
              "      </button>\n",
              "      \n",
              "  <style>\n",
              "    .colab-df-container {\n",
              "      display:flex;\n",
              "      flex-wrap:wrap;\n",
              "      gap: 12px;\n",
              "    }\n",
              "\n",
              "    .colab-df-convert {\n",
              "      background-color: #E8F0FE;\n",
              "      border: none;\n",
              "      border-radius: 50%;\n",
              "      cursor: pointer;\n",
              "      display: none;\n",
              "      fill: #1967D2;\n",
              "      height: 32px;\n",
              "      padding: 0 0 0 0;\n",
              "      width: 32px;\n",
              "    }\n",
              "\n",
              "    .colab-df-convert:hover {\n",
              "      background-color: #E2EBFA;\n",
              "      box-shadow: 0px 1px 2px rgba(60, 64, 67, 0.3), 0px 1px 3px 1px rgba(60, 64, 67, 0.15);\n",
              "      fill: #174EA6;\n",
              "    }\n",
              "\n",
              "    [theme=dark] .colab-df-convert {\n",
              "      background-color: #3B4455;\n",
              "      fill: #D2E3FC;\n",
              "    }\n",
              "\n",
              "    [theme=dark] .colab-df-convert:hover {\n",
              "      background-color: #434B5C;\n",
              "      box-shadow: 0px 1px 3px 1px rgba(0, 0, 0, 0.15);\n",
              "      filter: drop-shadow(0px 1px 2px rgba(0, 0, 0, 0.3));\n",
              "      fill: #FFFFFF;\n",
              "    }\n",
              "  </style>\n",
              "\n",
              "      <script>\n",
              "        const buttonEl =\n",
              "          document.querySelector('#df-1d004eee-0dd5-4400-9fae-c58802b7115c button.colab-df-convert');\n",
              "        buttonEl.style.display =\n",
              "          google.colab.kernel.accessAllowed ? 'block' : 'none';\n",
              "\n",
              "        async function convertToInteractive(key) {\n",
              "          const element = document.querySelector('#df-1d004eee-0dd5-4400-9fae-c58802b7115c');\n",
              "          const dataTable =\n",
              "            await google.colab.kernel.invokeFunction('convertToInteractive',\n",
              "                                                     [key], {});\n",
              "          if (!dataTable) return;\n",
              "\n",
              "          const docLinkHtml = 'Like what you see? Visit the ' +\n",
              "            '<a target=\"_blank\" href=https://colab.research.google.com/notebooks/data_table.ipynb>data table notebook</a>'\n",
              "            + ' to learn more about interactive tables.';\n",
              "          element.innerHTML = '';\n",
              "          dataTable['output_type'] = 'display_data';\n",
              "          await google.colab.output.renderOutput(dataTable, element);\n",
              "          const docLink = document.createElement('div');\n",
              "          docLink.innerHTML = docLinkHtml;\n",
              "          element.appendChild(docLink);\n",
              "        }\n",
              "      </script>\n",
              "    </div>\n",
              "  </div>\n",
              "  "
            ]
          },
          "metadata": {},
          "execution_count": 337
        }
      ]
    },
    {
      "cell_type": "code",
      "source": [
        "emo_data2.head(36000)"
      ],
      "metadata": {
        "id": "V2hXbOdunwvM",
        "colab": {
          "base_uri": "https://localhost:8080/",
          "height": 424
        },
        "outputId": "b1f1ebb3-21e2-416e-ea49-9d40ceb9ece4"
      },
      "execution_count": null,
      "outputs": [
        {
          "output_type": "execute_result",
          "data": {
            "text/plain": [
              "                                                   text  label\n",
              "0             remember hillary email non secure server       2\n",
              "1                                     cant avoid demon       2\n",
              "2     por fin la pusieron en spotify losing way de f...      2\n",
              "3                                                kills       2\n",
              "4     thank introduce important gunsense law make co...      2\n",
              "...                                                 ...    ...\n",
              "9013  hello lovely tofuwraps send sign life im okay ...      0\n",
              "9014  derealisation dont get need like gonna trigger...      0\n",
              "9015  hey find youre applause shop brava know artist...      0\n",
              "9016  friend really want chance participate somethin...      0\n",
              "9017  im almost guys please help reach goal become t...      0\n",
              "\n",
              "[36000 rows x 2 columns]"
            ],
            "text/html": [
              "\n",
              "  <div id=\"df-493dd768-552c-4166-ad8f-0730ffdc4bd3\">\n",
              "    <div class=\"colab-df-container\">\n",
              "      <div>\n",
              "<style scoped>\n",
              "    .dataframe tbody tr th:only-of-type {\n",
              "        vertical-align: middle;\n",
              "    }\n",
              "\n",
              "    .dataframe tbody tr th {\n",
              "        vertical-align: top;\n",
              "    }\n",
              "\n",
              "    .dataframe thead th {\n",
              "        text-align: right;\n",
              "    }\n",
              "</style>\n",
              "<table border=\"1\" class=\"dataframe\">\n",
              "  <thead>\n",
              "    <tr style=\"text-align: right;\">\n",
              "      <th></th>\n",
              "      <th>text</th>\n",
              "      <th>label</th>\n",
              "    </tr>\n",
              "  </thead>\n",
              "  <tbody>\n",
              "    <tr>\n",
              "      <th>0</th>\n",
              "      <td>remember hillary email non secure server</td>\n",
              "      <td>2</td>\n",
              "    </tr>\n",
              "    <tr>\n",
              "      <th>1</th>\n",
              "      <td>cant avoid demon</td>\n",
              "      <td>2</td>\n",
              "    </tr>\n",
              "    <tr>\n",
              "      <th>2</th>\n",
              "      <td>por fin la pusieron en spotify losing way de f...</td>\n",
              "      <td>2</td>\n",
              "    </tr>\n",
              "    <tr>\n",
              "      <th>3</th>\n",
              "      <td>kills</td>\n",
              "      <td>2</td>\n",
              "    </tr>\n",
              "    <tr>\n",
              "      <th>4</th>\n",
              "      <td>thank introduce important gunsense law make co...</td>\n",
              "      <td>2</td>\n",
              "    </tr>\n",
              "    <tr>\n",
              "      <th>...</th>\n",
              "      <td>...</td>\n",
              "      <td>...</td>\n",
              "    </tr>\n",
              "    <tr>\n",
              "      <th>9013</th>\n",
              "      <td>hello lovely tofuwraps send sign life im okay ...</td>\n",
              "      <td>0</td>\n",
              "    </tr>\n",
              "    <tr>\n",
              "      <th>9014</th>\n",
              "      <td>derealisation dont get need like gonna trigger...</td>\n",
              "      <td>0</td>\n",
              "    </tr>\n",
              "    <tr>\n",
              "      <th>9015</th>\n",
              "      <td>hey find youre applause shop brava know artist...</td>\n",
              "      <td>0</td>\n",
              "    </tr>\n",
              "    <tr>\n",
              "      <th>9016</th>\n",
              "      <td>friend really want chance participate somethin...</td>\n",
              "      <td>0</td>\n",
              "    </tr>\n",
              "    <tr>\n",
              "      <th>9017</th>\n",
              "      <td>im almost guys please help reach goal become t...</td>\n",
              "      <td>0</td>\n",
              "    </tr>\n",
              "  </tbody>\n",
              "</table>\n",
              "<p>36000 rows × 2 columns</p>\n",
              "</div>\n",
              "      <button class=\"colab-df-convert\" onclick=\"convertToInteractive('df-493dd768-552c-4166-ad8f-0730ffdc4bd3')\"\n",
              "              title=\"Convert this dataframe to an interactive table.\"\n",
              "              style=\"display:none;\">\n",
              "        \n",
              "  <svg xmlns=\"http://www.w3.org/2000/svg\" height=\"24px\"viewBox=\"0 0 24 24\"\n",
              "       width=\"24px\">\n",
              "    <path d=\"M0 0h24v24H0V0z\" fill=\"none\"/>\n",
              "    <path d=\"M18.56 5.44l.94 2.06.94-2.06 2.06-.94-2.06-.94-.94-2.06-.94 2.06-2.06.94zm-11 1L8.5 8.5l.94-2.06 2.06-.94-2.06-.94L8.5 2.5l-.94 2.06-2.06.94zm10 10l.94 2.06.94-2.06 2.06-.94-2.06-.94-.94-2.06-.94 2.06-2.06.94z\"/><path d=\"M17.41 7.96l-1.37-1.37c-.4-.4-.92-.59-1.43-.59-.52 0-1.04.2-1.43.59L10.3 9.45l-7.72 7.72c-.78.78-.78 2.05 0 2.83L4 21.41c.39.39.9.59 1.41.59.51 0 1.02-.2 1.41-.59l7.78-7.78 2.81-2.81c.8-.78.8-2.07 0-2.86zM5.41 20L4 18.59l7.72-7.72 1.47 1.35L5.41 20z\"/>\n",
              "  </svg>\n",
              "      </button>\n",
              "      \n",
              "  <style>\n",
              "    .colab-df-container {\n",
              "      display:flex;\n",
              "      flex-wrap:wrap;\n",
              "      gap: 12px;\n",
              "    }\n",
              "\n",
              "    .colab-df-convert {\n",
              "      background-color: #E8F0FE;\n",
              "      border: none;\n",
              "      border-radius: 50%;\n",
              "      cursor: pointer;\n",
              "      display: none;\n",
              "      fill: #1967D2;\n",
              "      height: 32px;\n",
              "      padding: 0 0 0 0;\n",
              "      width: 32px;\n",
              "    }\n",
              "\n",
              "    .colab-df-convert:hover {\n",
              "      background-color: #E2EBFA;\n",
              "      box-shadow: 0px 1px 2px rgba(60, 64, 67, 0.3), 0px 1px 3px 1px rgba(60, 64, 67, 0.15);\n",
              "      fill: #174EA6;\n",
              "    }\n",
              "\n",
              "    [theme=dark] .colab-df-convert {\n",
              "      background-color: #3B4455;\n",
              "      fill: #D2E3FC;\n",
              "    }\n",
              "\n",
              "    [theme=dark] .colab-df-convert:hover {\n",
              "      background-color: #434B5C;\n",
              "      box-shadow: 0px 1px 3px 1px rgba(0, 0, 0, 0.15);\n",
              "      filter: drop-shadow(0px 1px 2px rgba(0, 0, 0, 0.3));\n",
              "      fill: #FFFFFF;\n",
              "    }\n",
              "  </style>\n",
              "\n",
              "      <script>\n",
              "        const buttonEl =\n",
              "          document.querySelector('#df-493dd768-552c-4166-ad8f-0730ffdc4bd3 button.colab-df-convert');\n",
              "        buttonEl.style.display =\n",
              "          google.colab.kernel.accessAllowed ? 'block' : 'none';\n",
              "\n",
              "        async function convertToInteractive(key) {\n",
              "          const element = document.querySelector('#df-493dd768-552c-4166-ad8f-0730ffdc4bd3');\n",
              "          const dataTable =\n",
              "            await google.colab.kernel.invokeFunction('convertToInteractive',\n",
              "                                                     [key], {});\n",
              "          if (!dataTable) return;\n",
              "\n",
              "          const docLinkHtml = 'Like what you see? Visit the ' +\n",
              "            '<a target=\"_blank\" href=https://colab.research.google.com/notebooks/data_table.ipynb>data table notebook</a>'\n",
              "            + ' to learn more about interactive tables.';\n",
              "          element.innerHTML = '';\n",
              "          dataTable['output_type'] = 'display_data';\n",
              "          await google.colab.output.renderOutput(dataTable, element);\n",
              "          const docLink = document.createElement('div');\n",
              "          docLink.innerHTML = docLinkHtml;\n",
              "          element.appendChild(docLink);\n",
              "        }\n",
              "      </script>\n",
              "    </div>\n",
              "  </div>\n",
              "  "
            ]
          },
          "metadata": {},
          "execution_count": 338
        }
      ]
    },
    {
      "cell_type": "code",
      "source": [
        "vectorizer = TfidfVectorizer(sublinear_tf = True,use_idf = True)\n",
        "train_vectors_emo = vectorizer.fit_transform(emo_data2['text'])\n",
        "test_vectors_emo = vectorizer.transform(emo_data2['text'])"
      ],
      "metadata": {
        "id": "U4AMMSyxPlTq"
      },
      "execution_count": null,
      "outputs": []
    },
    {
      "cell_type": "code",
      "source": [
        "print(train_vectors_emo)"
      ],
      "metadata": {
        "id": "ptSZ4wN5Ol0n",
        "colab": {
          "base_uri": "https://localhost:8080/"
        },
        "outputId": "bdd1787c-dbc0-46af-9cda-a4a8800d1195"
      },
      "execution_count": null,
      "outputs": [
        {
          "output_type": "stream",
          "name": "stdout",
          "text": [
            "  (0, 19003)\t0.4192860278882337\n",
            "  (0, 18844)\t0.4284369072171043\n",
            "  (0, 14949)\t0.4284369072171043\n",
            "  (0, 7193)\t0.38886353867238954\n",
            "  (0, 10114)\t0.4685147109598684\n",
            "  (0, 17737)\t0.2938740781211745\n",
            "  (1, 6060)\t0.6652576422588705\n",
            "  (1, 2452)\t0.6622231136105062\n",
            "  (1, 3995)\t0.3448083775318914\n",
            "  (2, 13998)\t0.3388554718528014\n",
            "  (2, 21555)\t0.2563496295237246\n",
            "  (2, 8654)\t0.259892666856174\n",
            "  (2, 8264)\t0.3388554718528014\n",
            "  (2, 5862)\t0.2493734087137869\n",
            "  (2, 23063)\t0.15793752150604035\n",
            "  (2, 12963)\t0.25748660486797736\n",
            "  (2, 20039)\t0.2451987665405276\n",
            "  (2, 7259)\t0.27586280054714374\n",
            "  (2, 17126)\t0.3388554718528014\n",
            "  (2, 12240)\t0.2451987665405276\n",
            "  (2, 8175)\t0.29183293423811335\n",
            "  (2, 16570)\t0.29551522960163334\n",
            "  (3, 12020)\t1.0\n",
            "  (4, 18453)\t0.43654267550818454\n",
            "  (4, 5327)\t0.29777223376683604\n",
            "  :\t:\n",
            "  (37490, 20966)\t0.2790181522415852\n",
            "  (37490, 21953)\t0.2790181522415852\n",
            "  (37490, 19268)\t0.4422071783251566\n",
            "  (37490, 6173)\t0.2611746831004455\n",
            "  (37490, 2075)\t0.24029916243976177\n",
            "  (37490, 7234)\t0.18676875501634266\n",
            "  (37490, 4885)\t0.1927826284113144\n",
            "  (37490, 10436)\t0.2836587892947732\n",
            "  (37490, 21392)\t0.21848744099128184\n",
            "  (37490, 14148)\t0.2467686704627634\n",
            "  (37490, 14752)\t0.12756564052313338\n",
            "  (37490, 5533)\t0.12996903462940104\n",
            "  (37490, 2218)\t0.13766502793987928\n",
            "  (37490, 3545)\t0.14658276862284034\n",
            "  (37490, 14671)\t0.09344429001363737\n",
            "  (37490, 16431)\t0.1626151757883689\n",
            "  (37490, 12558)\t0.21690762498069807\n",
            "  (37490, 15303)\t0.12953965465376646\n",
            "  (37490, 4875)\t0.11417296236207933\n",
            "  (37490, 7581)\t0.14696078840298862\n",
            "  (37490, 9161)\t0.09874044800813227\n",
            "  (37490, 10702)\t0.07286560670721146\n",
            "  (37490, 19777)\t0.12380308395218059\n",
            "  (37490, 1754)\t0.10778883645530143\n",
            "  (37490, 17468)\t0.11138834705271781\n"
          ]
        }
      ]
    },
    {
      "cell_type": "code",
      "source": [
        "print(test_vectors_emo)"
      ],
      "metadata": {
        "id": "M9O1KGTZOn_g",
        "colab": {
          "base_uri": "https://localhost:8080/"
        },
        "outputId": "ebc50404-337d-44f8-9fa4-8ad00428d66f"
      },
      "execution_count": null,
      "outputs": [
        {
          "output_type": "stream",
          "name": "stdout",
          "text": [
            "  (0, 19003)\t0.41928602788823366\n",
            "  (0, 18844)\t0.42843690721710426\n",
            "  (0, 17737)\t0.29387407812117444\n",
            "  (0, 14949)\t0.42843690721710426\n",
            "  (0, 10114)\t0.46851471095986835\n",
            "  (0, 7193)\t0.3888635386723895\n",
            "  (1, 6060)\t0.6652576422588705\n",
            "  (1, 3995)\t0.3448083775318914\n",
            "  (1, 2452)\t0.6622231136105062\n",
            "  (2, 23063)\t0.15793752150604035\n",
            "  (2, 21555)\t0.2563496295237246\n",
            "  (2, 20039)\t0.2451987665405276\n",
            "  (2, 17126)\t0.3388554718528014\n",
            "  (2, 16570)\t0.29551522960163334\n",
            "  (2, 13998)\t0.3388554718528014\n",
            "  (2, 12963)\t0.25748660486797736\n",
            "  (2, 12240)\t0.2451987665405276\n",
            "  (2, 8654)\t0.259892666856174\n",
            "  (2, 8264)\t0.3388554718528014\n",
            "  (2, 8175)\t0.29183293423811335\n",
            "  (2, 7259)\t0.27586280054714374\n",
            "  (2, 5862)\t0.2493734087137869\n",
            "  (3, 12020)\t1.0\n",
            "  (4, 21151)\t0.25413103750750954\n",
            "  (4, 18453)\t0.43654267550818454\n",
            "  :\t:\n",
            "  (37490, 21953)\t0.2790181522415852\n",
            "  (37490, 21392)\t0.21848744099128184\n",
            "  (37490, 20966)\t0.2790181522415852\n",
            "  (37490, 19777)\t0.12380308395218059\n",
            "  (37490, 19268)\t0.4422071783251566\n",
            "  (37490, 17468)\t0.11138834705271781\n",
            "  (37490, 16431)\t0.1626151757883689\n",
            "  (37490, 15303)\t0.12953965465376646\n",
            "  (37490, 14752)\t0.12756564052313338\n",
            "  (37490, 14671)\t0.09344429001363737\n",
            "  (37490, 14148)\t0.2467686704627634\n",
            "  (37490, 12558)\t0.21690762498069807\n",
            "  (37490, 10702)\t0.07286560670721146\n",
            "  (37490, 10436)\t0.2836587892947732\n",
            "  (37490, 9161)\t0.09874044800813227\n",
            "  (37490, 7581)\t0.14696078840298862\n",
            "  (37490, 7234)\t0.18676875501634266\n",
            "  (37490, 6173)\t0.2611746831004455\n",
            "  (37490, 5533)\t0.12996903462940104\n",
            "  (37490, 4885)\t0.1927826284113144\n",
            "  (37490, 4875)\t0.11417296236207933\n",
            "  (37490, 3545)\t0.14658276862284034\n",
            "  (37490, 2218)\t0.13766502793987928\n",
            "  (37490, 2075)\t0.24029916243976177\n",
            "  (37490, 1754)\t0.10778883645530143\n"
          ]
        }
      ]
    },
    {
      "cell_type": "markdown",
      "source": [
        "SVM"
      ],
      "metadata": {
        "id": "cC0J4pAJPQsP"
      }
    },
    {
      "cell_type": "code",
      "source": [
        "classifier_linear_emo = svm.SVC(kernel='linear', C=8,gamma='scale',)\n",
        "classifier_linear_emo.fit(train_vectors_emo,emo_data2['label'] )\n",
        "prediction_linear_emo = classifier_linear_emo.predict(test_vectors_emo)"
      ],
      "metadata": {
        "id": "Hr2rAK0nLWiU"
      },
      "execution_count": null,
      "outputs": []
    },
    {
      "cell_type": "code",
      "source": [
        "report_svm_emo = classification_report(emo_data2['label'] , prediction_linear_emo, output_dict=True)\n",
        "print(\"Anxious report: \",report_svm_emo['0'])\n",
        "print(\"Lonely report: \",report_svm_emo['1'])\n",
        "print(\"Normal report: \",report_svm_emo['2'])\n",
        "print(\"Stressed report: \",report_svm_emo['3'])"
      ],
      "metadata": {
        "id": "3dUeZUAoOOTy",
        "colab": {
          "base_uri": "https://localhost:8080/"
        },
        "outputId": "f137ec1b-5f76-4fc3-d92f-01920949f913"
      },
      "execution_count": null,
      "outputs": [
        {
          "output_type": "stream",
          "name": "stdout",
          "text": [
            "Anxious report:  {'precision': 0.552835193986957, 'recall': 0.9518507945570464, 'f1-score': 0.6994371219802119, 'support': 10509}\n",
            "Lonely report:  {'precision': 0.5121457489878543, 'recall': 0.05937573339591645, 'f1-score': 0.10641430073606731, 'support': 8522}\n",
            "Normal report:  {'precision': 0.9957291031116534, 'recall': 0.9865994962216624, 'f1-score': 0.9911432764816034, 'support': 9925}\n",
            "Stressed report:  {'precision': 0.9885714285714285, 'recall': 0.9932044522554189, 'f1-score': 0.9908825248392753, 'support': 8535}\n"
          ]
        }
      ]
    },
    {
      "cell_type": "code",
      "source": [
        "review_emo1 = \"\"\"this is a bad time to talk to me, i am sad \"\"\"\n",
        "review_vector_emo1 = vectorizer.transform([review_emo1])\n",
        "print(classifier_linear_emo.predict(review_vector_emo1))"
      ],
      "metadata": {
        "id": "dVvXPiVutg_q",
        "colab": {
          "base_uri": "https://localhost:8080/"
        },
        "outputId": "00920cdb-1692-40e7-a4f5-fef7d79d5146"
      },
      "execution_count": null,
      "outputs": [
        {
          "output_type": "stream",
          "name": "stdout",
          "text": [
            "[3]\n"
          ]
        }
      ]
    },
    {
      "cell_type": "markdown",
      "source": [
        "Naive bayes"
      ],
      "metadata": {
        "id": "h6G8pLjVi2WH"
      }
    },
    {
      "cell_type": "code",
      "source": [
        "naive_bayes_emo = MultinomialNB()\n",
        "naive_bayes_emo.fit(train_vectors_emo,emo_data2['label'])\n",
        "naive_bayes_pred_emo = naive_bayes_emo.predict(test_vectors_emo)"
      ],
      "metadata": {
        "id": "qdaD1k5yOOQz"
      },
      "execution_count": null,
      "outputs": []
    },
    {
      "cell_type": "code",
      "source": [
        "report_nb_emo = classification_report(emo_data2['label'] , naive_bayes_pred_emo, output_dict=True)\n",
        "print(\"Anxious report: \",report_nb_emo['0'])\n",
        "print(\"Lonely report: \",report_nb_emo['1'])\n",
        "print(\"Normal report: \",report_nb_emo['2'])\n",
        "print(\"Stressed report: \",report_nb_emo['3'])"
      ],
      "metadata": {
        "id": "R6K7kiLdOONu",
        "colab": {
          "base_uri": "https://localhost:8080/"
        },
        "outputId": "3af7a093-bed9-4fdf-87e2-07c36dd46bf3"
      },
      "execution_count": null,
      "outputs": [
        {
          "output_type": "stream",
          "name": "stdout",
          "text": [
            "Anxious report:  {'precision': 0.47451950327201525, 'recall': 0.8762965077552574, 'f1-score': 0.6156571734189062, 'support': 10509}\n",
            "Lonely report:  {'precision': 0.4992563212692117, 'recall': 0.11816475005867168, 'f1-score': 0.19109972483157794, 'support': 8522}\n",
            "Normal report:  {'precision': 0.9223842739378567, 'recall': 0.7327959697732997, 'f1-score': 0.8167321729365524, 'support': 9925}\n",
            "Stressed report:  {'precision': 0.9231239305793204, 'recall': 0.8849443468072642, 'f1-score': 0.903631034276485, 'support': 8535}\n"
          ]
        }
      ]
    },
    {
      "cell_type": "code",
      "source": [
        "review_emo3 = \"\"\"bitting nails is a sign of anxiety i noticed it in my dad\"\"\"\n",
        "review_vector_emo3 = vectorizer.transform([review_emo3])\n",
        "print(naive_bayes_emo.predict(review_vector_emo3))"
      ],
      "metadata": {
        "id": "y8bCjVUNly0R",
        "colab": {
          "base_uri": "https://localhost:8080/"
        },
        "outputId": "866b0404-fd45-4342-d15a-7f22405a530a"
      },
      "execution_count": null,
      "outputs": [
        {
          "output_type": "stream",
          "name": "stdout",
          "text": [
            "[0]\n"
          ]
        }
      ]
    },
    {
      "cell_type": "code",
      "source": [
        "review_emo4 = \"\"\"He sat all alone in the school\"\"\"\n",
        "review_vector_emo4 = vectorizer.transform([review_emo4])\n",
        "print(naive_bayes_emo.predict(review_vector_emo4))"
      ],
      "metadata": {
        "id": "-93UhxJKlywl",
        "colab": {
          "base_uri": "https://localhost:8080/"
        },
        "outputId": "5203d795-29b6-4c24-a96e-6f8ff1e6bb28"
      },
      "execution_count": null,
      "outputs": [
        {
          "output_type": "stream",
          "name": "stdout",
          "text": [
            "[0]\n"
          ]
        }
      ]
    },
    {
      "cell_type": "markdown",
      "source": [
        "Logistic Regression"
      ],
      "metadata": {
        "id": "rSsCy2R2j7gV"
      }
    },
    {
      "cell_type": "code",
      "source": [
        "logistic_emo=LogisticRegression(random_state=0,C=3.0,solver='sag',multi_class='multinomial')\n",
        "logistic_emo.fit(train_vectors_emo,emo_data2['label'])\n",
        "logistic_pred_emo=logistic_emo.predict(test_vectors_emo)"
      ],
      "metadata": {
        "id": "eK2AN1P3j7Ol"
      },
      "execution_count": null,
      "outputs": []
    },
    {
      "cell_type": "code",
      "source": [
        "report_logi_emo = classification_report(emo_data2['label'] , logistic_pred_emo, output_dict=True)\n",
        "print(\"Anxious report: \",report_logi_emo['0'])\n",
        "print(\"Lonely report: \",report_logi_emo['1'])\n",
        "print(\"Normal report: \",report_logi_emo['2'])\n",
        "print(\"Stressed report: \",report_logi_emo['3'])"
      ],
      "metadata": {
        "id": "LYShPtDLj7Lq",
        "colab": {
          "base_uri": "https://localhost:8080/"
        },
        "outputId": "39230e1b-1a95-4a4e-be19-e7b65747fa87"
      },
      "execution_count": null,
      "outputs": [
        {
          "output_type": "stream",
          "name": "stdout",
          "text": [
            "Anxious report:  {'precision': 0.5683430302064238, 'recall': 0.6785612332286611, 'f1-score': 0.6185808466342817, 'support': 10509}\n",
            "Lonely report:  {'precision': 0.49609862671660426, 'recall': 0.3730344989439099, 'f1-score': 0.42585398526456797, 'support': 8522}\n",
            "Normal report:  {'precision': 0.9603119064280716, 'recall': 0.9678589420654912, 'f1-score': 0.9640706543556805, 'support': 9925}\n",
            "Stressed report:  {'precision': 0.9769131606703387, 'recall': 0.9766842413591096, 'f1-score': 0.9767986876025312, 'support': 8535}\n"
          ]
        }
      ]
    },
    {
      "cell_type": "code",
      "source": [
        "review_emo5 = \"\"\"My uncle lost his dog, he must feel very anxious\"\"\"\n",
        "review_vector_emo5 = vectorizer.transform([review_emo5])\n",
        "print(logistic_emo.predict(review_vector_emo5))"
      ],
      "metadata": {
        "id": "mT1G1n11lkZm",
        "colab": {
          "base_uri": "https://localhost:8080/"
        },
        "outputId": "be7207cb-1132-4d0c-89d3-2abe4659e0a7"
      },
      "execution_count": null,
      "outputs": [
        {
          "output_type": "stream",
          "name": "stdout",
          "text": [
            "[2]\n"
          ]
        }
      ]
    },
    {
      "cell_type": "code",
      "source": [
        "review_emo6= \"\"\"I got a new dog today and i feel complete now\"\"\"\n",
        "review_vector_emo6 = vectorizer.transform([review_emo6])\n",
        "print(logistic_emo.predict(review_vector_emo6))"
      ],
      "metadata": {
        "id": "fRPLkYLMlkUN",
        "colab": {
          "base_uri": "https://localhost:8080/"
        },
        "outputId": "e46b89cf-8d55-405a-abdf-5ed3731a5ed2"
      },
      "execution_count": null,
      "outputs": [
        {
          "output_type": "stream",
          "name": "stdout",
          "text": [
            "[2]\n"
          ]
        }
      ]
    },
    {
      "cell_type": "markdown",
      "source": [
        "Random Forest"
      ],
      "metadata": {
        "id": "a2KOG8uJk152"
      }
    },
    {
      "cell_type": "code",
      "source": [
        "rand_forest_emo= RandomForestClassifier(max_depth=15, random_state=0,criterion='gini',)\n",
        "rand_forest_emo.fit(train_vectors_emo,emo_data2['label'])\n",
        "rand_forest_pred_emo=rand_forest_emo.predict(test_vectors_emo)"
      ],
      "metadata": {
        "id": "Ay724IPuj7Hm"
      },
      "execution_count": null,
      "outputs": []
    },
    {
      "cell_type": "code",
      "source": [
        "report_rand_emo = classification_report(emo_data2['label'] , rand_forest_pred_emo, output_dict=True)\n",
        "print(\"Anxious report: \",report_rand_emo['0'])\n",
        "print(\"Lonely report: \",report_rand_emo['1'])\n",
        "print(\"Normal report: \",report_rand_emo['2'])\n",
        "print(\"Stressed report: \",report_rand_emo['3'])"
      ],
      "metadata": {
        "id": "OXsxdS2Sj7DN",
        "colab": {
          "base_uri": "https://localhost:8080/"
        },
        "outputId": "80b7b9fc-60d0-4858-8208-fba1cd8276d0"
      },
      "execution_count": null,
      "outputs": [
        {
          "output_type": "stream",
          "name": "stdout",
          "text": [
            "Anxious report:  {'precision': 0.5181713533958231, 'recall': 0.8995147016842706, 'f1-score': 0.6575542570951587, 'support': 10509}\n",
            "Lonely report:  {'precision': 0.0, 'recall': 0.0, 'f1-score': 0.0, 'support': 8522}\n",
            "Normal report:  {'precision': 0.7003232839636118, 'recall': 0.9385390428211587, 'f1-score': 0.8021183156807027, 'support': 9925}\n",
            "Stressed report:  {'precision': 0.9909197914915083, 'recall': 0.6904510837727006, 'f1-score': 0.8138378676978317, 'support': 8535}\n"
          ]
        },
        {
          "output_type": "stream",
          "name": "stderr",
          "text": [
            "/usr/local/lib/python3.7/dist-packages/sklearn/metrics/_classification.py:1318: UndefinedMetricWarning: Precision and F-score are ill-defined and being set to 0.0 in labels with no predicted samples. Use `zero_division` parameter to control this behavior.\n",
            "  _warn_prf(average, modifier, msg_start, len(result))\n",
            "/usr/local/lib/python3.7/dist-packages/sklearn/metrics/_classification.py:1318: UndefinedMetricWarning: Precision and F-score are ill-defined and being set to 0.0 in labels with no predicted samples. Use `zero_division` parameter to control this behavior.\n",
            "  _warn_prf(average, modifier, msg_start, len(result))\n",
            "/usr/local/lib/python3.7/dist-packages/sklearn/metrics/_classification.py:1318: UndefinedMetricWarning: Precision and F-score are ill-defined and being set to 0.0 in labels with no predicted samples. Use `zero_division` parameter to control this behavior.\n",
            "  _warn_prf(average, modifier, msg_start, len(result))\n"
          ]
        }
      ]
    },
    {
      "cell_type": "code",
      "source": [
        "review_emo7 = \"\"\"When i got to know that i am leading the chess tournament, i felt very happy and confident\"\"\"\n",
        "review_vector_emo7 = vectorizer.transform([review_emo7])\n",
        "print(rand_forest_emo.predict(review_vector_emo7))"
      ],
      "metadata": {
        "id": "SBNBFKJYlCJy",
        "colab": {
          "base_uri": "https://localhost:8080/"
        },
        "outputId": "7d884dda-a961-4572-802f-02a5ee9e0380"
      },
      "execution_count": null,
      "outputs": [
        {
          "output_type": "stream",
          "name": "stdout",
          "text": [
            "[2]\n"
          ]
        }
      ]
    },
    {
      "cell_type": "code",
      "source": [
        "review_emo8 = \"\"\"I have my exams next week, the stress is killing me\"\"\"\n",
        "review_vector_emo8 = vectorizer.transform([review_emo8])\n",
        "print(rand_forest_emo.predict(review_vector_emo8))\n"
      ],
      "metadata": {
        "id": "renFmTNilJcp",
        "colab": {
          "base_uri": "https://localhost:8080/"
        },
        "outputId": "6c543eb5-6e25-49a9-bfc0-35d37e45703a"
      },
      "execution_count": null,
      "outputs": [
        {
          "output_type": "stream",
          "name": "stdout",
          "text": [
            "[2]\n"
          ]
        }
      ]
    },
    {
      "cell_type": "markdown",
      "source": [
        "Precision comparison"
      ],
      "metadata": {
        "id": "1XKxrP7dEUqH"
      }
    },
    {
      "cell_type": "code",
      "source": [
        "barWidth = 0.15\n",
        "fig = plt.subplots(figsize =(10, 8))\n",
        "\n",
        "anxious_all=[report_svm_emo['0']['precision'],report_nb_emo['0']['precision'],report_logi_emo['0']['precision'],report_rand_emo['0']['precision']]\n",
        "lonely_all=[report_svm_emo['1']['precision'],report_nb_emo['0']['precision'],report_logi_emo['0']['precision'],report_rand_emo['0']['precision']]\n",
        "normal_all=[report_svm_emo['2']['precision'],report_nb_emo['0']['precision'],report_logi_emo['0']['precision'],report_rand_emo['0']['precision']]\n",
        "stressed_all=[report_svm_emo['3']['precision'],report_nb_emo['0']['precision'],report_logi_emo['0']['precision'],report_rand_emo['0']['precision']]\n",
        "\n",
        "br1 = np.arange(len(negative_all))\n",
        "br2 = [x + barWidth for x in br1]\n",
        "br3 = [x + barWidth for x in br2]\n",
        "br4 = [x + barWidth for x in br3]\n",
        "\n",
        "plt.bar(br1, anxious_all, color ='yellow', width = barWidth,\n",
        "        edgecolor ='grey', label ='negative')\n",
        "plt.bar(br2, lonely_all, color ='grey', width = barWidth,\n",
        "        edgecolor ='grey', label ='positive')\n",
        "plt.bar(br3, normal_all, color ='green', width = barWidth,\n",
        "        edgecolor ='grey', label ='positive')\n",
        "plt.bar(br4, stressed_all, color ='red', width = barWidth,\n",
        "        edgecolor ='grey', label ='positive')\n",
        "\n",
        "plt.xlabel('Model', fontweight ='bold', fontsize = 15)\n",
        "plt.ylabel('Precision', fontweight ='bold', fontsize = 15)\n",
        "plt.xticks([r + barWidth for r in range(len(negative_all))],\n",
        "        ['SVM','Naive bayes','logistic regression','random forest'])\n",
        "\n",
        "plt.legend()\n",
        "plt.plot()"
      ],
      "metadata": {
        "colab": {
          "base_uri": "https://localhost:8080/",
          "height": 519
        },
        "id": "p6l12vJpEXpA",
        "outputId": "92770bbd-8b70-478c-a595-6d1d8a19312a"
      },
      "execution_count": null,
      "outputs": [
        {
          "output_type": "execute_result",
          "data": {
            "text/plain": [
              "[]"
            ]
          },
          "metadata": {},
          "execution_count": 467
        },
        {
          "output_type": "display_data",
          "data": {
            "text/plain": [
              "<Figure size 720x576 with 1 Axes>"
            ],
            "image/png": "[encoded data removed]"
          },
          "metadata": {
            "needs_background": "light"
          }
        }
      ]
    },
    {
      "cell_type": "markdown",
      "source": [
        "Dataset 2 summary - \n",
        "For ML models - \n",
        "SVM gives overall highest precison\n",
        "\n",
        "The dataset for normal and stressed have a very higher range of precison as compared to lonely and anxious\n",
        "\n",
        "For Deep learning model - \n",
        "Accuracy of 56.11 "
      ],
      "metadata": {
        "id": "ZNwNS22_WLRI"
      }
    }
  ],
  "metadata": {
    "colab": {
      "provenance": []
    },
    "kernelspec": {
      "display_name": "Python 3",
      "name": "python3"
    },
    "language_info": {
      "name": "python"
    }
  },
  "nbformat": 4,
  "nbformat_minor": 0
}